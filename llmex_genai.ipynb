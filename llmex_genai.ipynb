{
 "cells": [
  {
   "cell_type": "code",
   "execution_count": 1,
   "id": "499acd3e-50e9-4161-92fe-abad69239380",
   "metadata": {},
   "outputs": [],
   "source": [
    "url = \"http://localhost:4000\"\n",
    "id = \"65df5715dbfd389a9619eabb\""
   ]
  },
  {
   "cell_type": "code",
   "execution_count": 2,
   "id": "1b573ef0-6786-45c3-bf87-6e66d016b224",
   "metadata": {},
   "outputs": [],
   "source": [
    "checkpoint = \"openai-community/gpt2\"  # embeddings are \"transformer.wte\"\n",
    "\n",
    "device = \"cpu\"\n",
    "config = {\n",
    "    \"platform_url\": url,\n",
    "    \"project_id\": id,\n",
    "    \"model_type\": \"dec\",\n",
    "    \"embeddings\": \"transformer.wte\"\n",
    "}\n",
    "\n",
    "model_args = {\n",
    "    \"output_attentions\": True\n",
    "}"
   ]
  },
  {
   "cell_type": "code",
   "execution_count": 3,
   "id": "3efd1538-875a-44bd-98ae-c53d45779583",
   "metadata": {},
   "outputs": [],
   "source": [
    "import llmex"
   ]
  },
  {
   "cell_type": "code",
   "execution_count": 4,
   "id": "52f82b8f-dc52-4b8e-8889-528e147d8ee0",
   "metadata": {},
   "outputs": [
    {
     "name": "stdout",
     "output_type": "stream",
     "text": [
      "setting up model\n",
      "post init\n",
      "model reset\n"
     ]
    }
   ],
   "source": [
    "model = llmex.from_pretrained(checkpoint, config=config, model_args=model_args, device=device)"
   ]
  },
  {
   "cell_type": "code",
   "execution_count": 9,
   "id": "4992545b-4403-44a7-9f21-e37a7dbda966",
   "metadata": {},
   "outputs": [],
   "source": [
    "prompt = \"Quote: Imagination is more\""
   ]
  },
  {
   "cell_type": "code",
   "execution_count": 10,
   "id": "fe15d278-2d50-4b8c-bd78-a9072d80e39f",
   "metadata": {},
   "outputs": [
    {
     "name": "stderr",
     "output_type": "stream",
     "text": [
      "Setting `pad_token_id` to `eos_token_id`:50256 for open-end generation.\n"
     ]
    },
    {
     "name": "stdout",
     "output_type": "stream",
     "text": [
      "updated app\n"
     ]
    },
    {
     "data": {
      "text/plain": [
       "'Quote: Imagination is more than just a tool for'"
      ]
     },
     "execution_count": 10,
     "metadata": {},
     "output_type": "execute_result"
    }
   ],
   "source": [
    "result = model.predict(prompt)\n",
    "result"
   ]
  },
  {
   "cell_type": "code",
   "execution_count": 7,
   "id": "9b812407-8310-40e9-a091-0f72e1e2634c",
   "metadata": {},
   "outputs": [
    {
     "name": "stderr",
     "output_type": "stream",
     "text": [
      "Setting `pad_token_id` to `eos_token_id`:50256 for open-end generation.\n"
     ]
    },
    {
     "name": "stdout",
     "output_type": "stream",
     "text": [
      "updated app\n"
     ]
    }
   ],
   "source": [
    "run_id = \"65ef269f86ecb9f08ae1d448\"\n",
    "res = model.predict_from_run(run_id, explanation_type=\"gradient\")"
   ]
  },
  {
   "cell_type": "code",
   "execution_count": 8,
   "id": "fe008278-fce8-4327-a284-5d711fee6943",
   "metadata": {},
   "outputs": [
    {
     "data": {
      "text/plain": [
       "'Dave lives in Palm Coast, FL and is a lawyer. His personal interests include the law, politics,'"
      ]
     },
     "execution_count": 8,
     "metadata": {},
     "output_type": "execute_result"
    }
   ],
   "source": [
    "res"
   ]
  }
 ],
 "metadata": {
  "kernelspec": {
   "display_name": "llmex-env",
   "language": "python",
   "name": "llmex-env"
  },
  "language_info": {
   "codemirror_mode": {
    "name": "ipython",
    "version": 3
   },
   "file_extension": ".py",
   "mimetype": "text/x-python",
   "name": "python",
   "nbconvert_exporter": "python",
   "pygments_lexer": "ipython3",
   "version": "3.11.5"
  }
 },
 "nbformat": 4,
 "nbformat_minor": 5
}
