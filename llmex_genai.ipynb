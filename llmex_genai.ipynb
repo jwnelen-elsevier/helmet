{
 "cells": [
  {
   "cell_type": "code",
   "execution_count": 8,
   "id": "499acd3e-50e9-4161-92fe-abad69239380",
   "metadata": {},
   "outputs": [],
   "source": [
    "# Platform configs\n",
    "url = \"http://localhost:4000\"\n",
    "project_id = \"65df5715dbfd389a9619eabb\""
   ]
  },
  {
   "cell_type": "code",
   "execution_count": 40,
   "id": "1b573ef0-6786-45c3-bf87-6e66d016b224",
   "metadata": {},
   "outputs": [],
   "source": [
    "# Model setup\n",
    "checkpoint = \"openai-community/gpt2\"  # embeddings are \"transformer.wte\"\n",
    "\n",
    "device = \"cpu\"\n",
    "\n",
    "# Model args\n",
    "model_args = {\n",
    "    \"output_attentions\": True,\n",
    "    # You could change the temperature, but not that then creating different kinds of explanations does not work.\n",
    "    \"temperature\": 1, # Note that if you add this, then you need to add \"do_sample\": True\n",
    "    \"do_sample\": True\n",
    "}\n",
    "\n",
    "final_config = {\n",
    "    \"platform_url\": url,\n",
    "    \"project_id\": project_id,\n",
    "    \"model_type\": \"dec\",\n",
    "    \"embeddings\": \"transformer.wte\",\n",
    "}\n"
   ]
  },
  {
   "cell_type": "code",
   "execution_count": 41,
   "id": "3efd1538-875a-44bd-98ae-c53d45779583",
   "metadata": {},
   "outputs": [],
   "source": [
    "from llmex import from_pretrained"
   ]
  },
  {
   "cell_type": "code",
   "execution_count": 42,
   "id": "52f82b8f-dc52-4b8e-8889-528e147d8ee0",
   "metadata": {},
   "outputs": [
    {
     "name": "stdout",
     "output_type": "stream",
     "text": [
      "setting up model\n",
      "post init\n",
      "model reset\n"
     ]
    }
   ],
   "source": [
    "model = from_pretrained(checkpoint, config=final_config, model_args=model_args, device=device)"
   ]
  },
  {
   "cell_type": "code",
   "execution_count": 43,
   "id": "4992545b-4403-44a7-9f21-e37a7dbda966",
   "metadata": {},
   "outputs": [],
   "source": [
    "# “Imagination is more important than knowledge. For knowledge is limited to all we now know and understand, while imagination embraces the entire world, and all there ever will be to know and understand.”\n",
    "prompt = \"Quote: Imagination is more\""
   ]
  },
  {
   "cell_type": "code",
   "execution_count": 48,
   "id": "fe15d278-2d50-4b8c-bd78-a9072d80e39f",
   "metadata": {},
   "outputs": [
    {
     "name": "stderr",
     "output_type": "stream",
     "text": [
      "Setting `pad_token_id` to `eos_token_id`:50256 for open-end generation.\n"
     ]
    },
    {
     "name": "stdout",
     "output_type": "stream",
     "text": [
      "updated app\n"
     ]
    },
    {
     "data": {
      "text/plain": [
       "' difficult when you are not making a profit from your'"
      ]
     },
     "execution_count": 48,
     "metadata": {},
     "output_type": "execute_result"
    }
   ],
   "source": [
    "result = model.predict(prompt, generate_explanations=False)\n",
    "result"
   ]
  },
  {
   "cell_type": "code",
   "execution_count": 49,
   "id": "9b812407-8310-40e9-a091-0f72e1e2634c",
   "metadata": {},
   "outputs": [
    {
     "name": "stdout",
     "output_type": "stream",
     "text": [
      "wrong value type for field \"output_alternatives\" - should be \"list\" instead of value \"[[{'token': 'Ġthan', 'score': -102.0221939086914}, {'token': 'Ġimportant', 'score': -102.17761993408203}, {'token': 'Ġpowerful', 'score': -103.70684051513672}, {'token': 'Ġof', 'score': -104.01897430419922}, {'token': 'Ġabout', 'score': -104.02540588378906}], [{'token': 'Ġto', 'score': -86.72744750976562}, {'token': 'Ġthan', 'score': -87.28730773925781}, {'token': '.', 'score': -88.95866394042969}, {'token': 'Ġfor', 'score': -89.04570770263672}, {'token': ',', 'score': -89.0953369140625}], [{'token': 'Ġyou', 'score': -90.63545227050781}, {'token': 'Ġit', 'score': -92.01100158691406}, {'token': 'Ġthe', 'score': -92.38310241699219}, {'token': 'Ġwe', 'score': -92.59398651123047}, {'token': 'Ġthere', 'score': -93.20353698730469}], [{'token': \"'re\", 'score': -129.20887756347656}, {'token': 'Ġhave', 'score': -129.83990478515625}, {'token': 'Ġare', 'score': -129.99484252929688}, {'token': 'Ġdon', 'score': -131.01983642578125}, {'token': 'Ġcan', 'score': -131.62075805664062}], [{'token': 'Ġin', 'score': -117.61428833007812}, {'token': 'Ġa', 'score': -118.10478973388672}, {'token': 'Ġnot', 'score': -118.11004638671875}, {'token': 'Ġtrying', 'score': -118.34829711914062}, {'token': 'Ġsurrounded', 'score': -118.71525573730469}], [{'token': 'Ġable', 'score': -123.93865966796875}, {'token': 'Ġin', 'score': -123.95518493652344}, {'token': 'Ġaware', 'score': -124.39744567871094}, {'token': 'Ġlooking', 'score': -124.5707778930664}, {'token': 'Ġthinking', 'score': -124.59553527832031}], [{'token': 'Ġa', 'score': -107.0385971069336}, {'token': 'Ġany', 'score': -107.54830169677734}, {'token': 'Ġsense', 'score': -107.67084503173828}, {'token': 'Ġthe', 'score': -107.70433044433594}, {'token': 'Ġit', 'score': -107.99637603759766}], [{'token': 'Ġconscious', 'score': -118.80297088623047}, {'token': 'Ġlot', 'score': -119.12461853027344}, {'token': 'Ġdecision', 'score': -119.3275375366211}, {'token': 'Ġliving', 'score': -119.41218566894531}, {'token': 'Ġchoice', 'score': -119.47776794433594}], [{'token': '.', 'score': -102.77498626708984}, {'token': ',', 'score': -103.80816650390625}, {'token': 'Ġfrom', 'score': -103.8362808227539}, {'token': 'Ġon', 'score': -104.85526275634766}, {'token': 'Ġand', 'score': -104.88449096679688}], [{'token': 'Ġit', 'score': -91.22125244140625}, {'token': 'Ġthe', 'score': -91.80616760253906}, {'token': 'Ġyour', 'score': -92.07291412353516}, {'token': 'Ġa', 'score': -93.00448608398438}, {'token': 'Ġthis', 'score': -93.80213928222656}]]\" of type \"list\"\n"
     ]
    },
    {
     "ename": "ValueError",
     "evalue": "Run with id 66069e516455702029922429 not found",
     "output_type": "error",
     "traceback": [
      "\u001b[0;31m---------------------------------------------------------------------------\u001b[0m",
      "\u001b[0;31mValueError\u001b[0m                                Traceback (most recent call last)",
      "Cell \u001b[0;32mIn[49], line 2\u001b[0m\n\u001b[1;32m      1\u001b[0m run_id \u001b[38;5;241m=\u001b[39m \u001b[38;5;124m\"\u001b[39m\u001b[38;5;124m66069e516455702029922429\u001b[39m\u001b[38;5;124m\"\u001b[39m\n\u001b[0;32m----> 2\u001b[0m res \u001b[38;5;241m=\u001b[39m \u001b[43mmodel\u001b[49m\u001b[38;5;241;43m.\u001b[39;49m\u001b[43mpredict_from_run\u001b[49m\u001b[43m(\u001b[49m\u001b[43mrun_id\u001b[49m\u001b[43m,\u001b[49m\u001b[43m \u001b[49m\u001b[43mexplanation_type\u001b[49m\u001b[38;5;241;43m=\u001b[39;49m\u001b[38;5;124;43m\"\u001b[39;49m\u001b[38;5;124;43mgradient\u001b[39;49m\u001b[38;5;124;43m\"\u001b[39;49m\u001b[43m)\u001b[49m\n",
      "File \u001b[0;32m~/Documents/projects/llmex/llmex/models/dec_lm.py:93\u001b[0m, in \u001b[0;36mDEC_LM.predict_from_run\u001b[0;34m(self, id, **kwargs)\u001b[0m\n\u001b[1;32m     92\u001b[0m \u001b[38;5;28;01mdef\u001b[39;00m \u001b[38;5;21mpredict_from_run\u001b[39m(\u001b[38;5;28mself\u001b[39m, \u001b[38;5;28mid\u001b[39m: \u001b[38;5;28mstr\u001b[39m, \u001b[38;5;241m*\u001b[39m\u001b[38;5;241m*\u001b[39mkwargs):\n\u001b[0;32m---> 93\u001b[0m     run \u001b[38;5;241m=\u001b[39m \u001b[38;5;28;43mself\u001b[39;49m\u001b[38;5;241;43m.\u001b[39;49m\u001b[43mget_run\u001b[49m\u001b[43m(\u001b[49m\u001b[38;5;28;43mid\u001b[39;49m\u001b[43m)\u001b[49m\n\u001b[1;32m     94\u001b[0m     \u001b[38;5;28;01mreturn\u001b[39;00m \u001b[38;5;28mself\u001b[39m\u001b[38;5;241m.\u001b[39mpredict(run\u001b[38;5;241m.\u001b[39minput\u001b[38;5;241m.\u001b[39mprompt, \u001b[38;5;241m*\u001b[39m\u001b[38;5;241m*\u001b[39mkwargs)\n",
      "File \u001b[0;32m~/Documents/projects/llmex/llmex/models/base_lm.py:50\u001b[0m, in \u001b[0;36mBase_LM.get_run\u001b[0;34m(self, run_id)\u001b[0m\n\u001b[1;32m     48\u001b[0m resp \u001b[38;5;241m=\u001b[39m get_run(\u001b[38;5;28mself\u001b[39m\u001b[38;5;241m.\u001b[39mplatform_url, run_id)\n\u001b[1;32m     49\u001b[0m \u001b[38;5;28;01mif\u001b[39;00m resp \u001b[38;5;129;01mis\u001b[39;00m \u001b[38;5;28;01mNone\u001b[39;00m:\n\u001b[0;32m---> 50\u001b[0m     \u001b[38;5;28;01mraise\u001b[39;00m \u001b[38;5;167;01mValueError\u001b[39;00m(\u001b[38;5;124mf\u001b[39m\u001b[38;5;124m\"\u001b[39m\u001b[38;5;124mRun with id \u001b[39m\u001b[38;5;132;01m{\u001b[39;00mrun_id\u001b[38;5;132;01m}\u001b[39;00m\u001b[38;5;124m not found\u001b[39m\u001b[38;5;124m\"\u001b[39m)\n\u001b[1;32m     51\u001b[0m \u001b[38;5;28;01mreturn\u001b[39;00m resp\n",
      "\u001b[0;31mValueError\u001b[0m: Run with id 66069e516455702029922429 not found"
     ]
    }
   ],
   "source": [
    "run_id = \"66069e516455702029922429\"\n",
    "res = model.predict_from_run(run_id, explanation_type=\"saliency\")"
   ]
  },
  {
   "cell_type": "code",
   "execution_count": 8,
   "id": "fe008278-fce8-4327-a284-5d711fee6943",
   "metadata": {},
   "outputs": [
    {
     "data": {
      "text/plain": [
       "'Dave lives in Palm Coast, FL and is a lawyer. His personal interests include the law, politics,'"
      ]
     },
     "execution_count": 8,
     "metadata": {},
     "output_type": "execute_result"
    }
   ],
   "source": [
    "res"
   ]
  }
 ],
 "metadata": {
  "kernelspec": {
   "display_name": "venv",
   "language": "python",
   "name": "venv"
  },
  "language_info": {
   "codemirror_mode": {
    "name": "ipython",
    "version": 3
   },
   "file_extension": ".py",
   "mimetype": "text/x-python",
   "name": "python",
   "nbconvert_exporter": "python",
   "pygments_lexer": "ipython3",
   "version": "3.11.5"
  }
 },
 "nbformat": 4,
 "nbformat_minor": 5
}
