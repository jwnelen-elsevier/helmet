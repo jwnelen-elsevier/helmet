{
 "cells": [
  {
   "cell_type": "code",
   "execution_count": 3,
   "id": "499acd3e-50e9-4161-92fe-abad69239380",
   "metadata": {},
   "outputs": [],
   "source": [
    "# Platform configs\n",
    "url = \"http://localhost:4000\"\n",
    "id = \"65df5715dbfd389a9619eabb\""
   ]
  },
  {
   "cell_type": "code",
   "execution_count": 4,
   "id": "1b573ef0-6786-45c3-bf87-6e66d016b224",
   "metadata": {},
   "outputs": [],
   "source": [
    "# Model setup\n",
    "checkpoint = \"microsoft/phi-2\"  # embeddings are \"transformer.wte\"\n",
    "\n",
    "device = \"cpu\"\n",
    "\n",
    "# Model args\n",
    "model_args = {\n",
    "    \"output_attentions\": True\n",
    "}\n",
    "\n",
    "final_config = {\n",
    "    \"platform_url\": url,\n",
    "    \"project_id\": id,\n",
    "    \"model_type\": \"dec\",\n",
    "    \"embeddings\": \"model.embed_tokens\"\n",
    "}\n"
   ]
  },
  {
   "cell_type": "code",
   "execution_count": 5,
   "id": "3efd1538-875a-44bd-98ae-c53d45779583",
   "metadata": {},
   "outputs": [],
   "source": [
    "import llmex"
   ]
  },
  {
   "cell_type": "code",
   "execution_count": 6,
   "id": "52f82b8f-dc52-4b8e-8889-528e147d8ee0",
   "metadata": {},
   "outputs": [
    {
     "name": "stdout",
     "output_type": "stream",
     "text": [
      "setting up model\n"
     ]
    },
    {
     "data": {
      "application/vnd.jupyter.widget-view+json": {
       "model_id": "96af60b0227e4645a819aa54e42ebf6b",
       "version_major": 2,
       "version_minor": 0
      },
      "text/plain": [
       "Loading checkpoint shards:   0%|          | 0/2 [00:00<?, ?it/s]"
      ]
     },
     "metadata": {},
     "output_type": "display_data"
    },
    {
     "name": "stderr",
     "output_type": "stream",
     "text": [
      "Special tokens have been added in the vocabulary, make sure the associated word embeddings are fine-tuned or trained.\n"
     ]
    },
    {
     "name": "stdout",
     "output_type": "stream",
     "text": [
      "post init\n",
      "model reset\n"
     ]
    }
   ],
   "source": [
    "model = llmex.from_pretrained(checkpoint, config=final_config, model_args=model_args, device=device)"
   ]
  },
  {
   "cell_type": "code",
   "execution_count": 8,
   "id": "4992545b-4403-44a7-9f21-e37a7dbda966",
   "metadata": {},
   "outputs": [],
   "source": [
    "prompt = \"Quote: Imagination is more\""
   ]
  },
  {
   "cell_type": "code",
   "execution_count": null,
   "id": "fe15d278-2d50-4b8c-bd78-a9072d80e39f",
   "metadata": {},
   "outputs": [],
   "source": [
    "result = model.predict(prompt, generate_explanations=False)\n",
    "result"
   ]
  },
  {
   "cell_type": "code",
   "execution_count": 7,
   "id": "9b812407-8310-40e9-a091-0f72e1e2634c",
   "metadata": {},
   "outputs": [
    {
     "name": "stderr",
     "output_type": "stream",
     "text": [
      "Setting `pad_token_id` to `eos_token_id`:50256 for open-end generation.\n"
     ]
    },
    {
     "name": "stdout",
     "output_type": "stream",
     "text": [
      "updated app\n"
     ]
    }
   ],
   "source": [
    "run_id = \"65ef269f86ecb9f08ae1d448\"\n",
    "res = model.predict_from_run(run_id, explanation_type=\"gradient\")"
   ]
  },
  {
   "cell_type": "code",
   "execution_count": 8,
   "id": "fe008278-fce8-4327-a284-5d711fee6943",
   "metadata": {},
   "outputs": [
    {
     "data": {
      "text/plain": [
       "'Dave lives in Palm Coast, FL and is a lawyer. His personal interests include the law, politics,'"
      ]
     },
     "execution_count": 8,
     "metadata": {},
     "output_type": "execute_result"
    }
   ],
   "source": [
    "res"
   ]
  }
 ],
 "metadata": {
  "kernelspec": {
   "display_name": "llmex-env",
   "language": "python",
   "name": "llmex-env"
  },
  "language_info": {
   "codemirror_mode": {
    "name": "ipython",
    "version": 3
   },
   "file_extension": ".py",
   "mimetype": "text/x-python",
   "name": "python",
   "nbconvert_exporter": "python",
   "pygments_lexer": "ipython3",
   "version": "3.11.5"
  }
 },
 "nbformat": 4,
 "nbformat_minor": 5
}
