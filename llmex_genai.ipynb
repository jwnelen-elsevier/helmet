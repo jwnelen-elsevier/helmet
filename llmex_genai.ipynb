{
 "cells": [
  {
   "cell_type": "code",
   "execution_count": null,
   "id": "499acd3e-50e9-4161-92fe-abad69239380",
   "metadata": {
    "editable": true,
    "slideshow": {
     "slide_type": ""
    },
    "tags": []
   },
   "outputs": [],
   "source": [
    "# Platform configs\n",
    "url = \"http://localhost:4000\"\n",
    "project_id = \"660ab0b7c4368d2cd7e713eb\"\n",
    "\n",
    "project_setup = {\n",
    "    \"url\":  url,\n",
    "    \"project_id\": project_id\n",
    "}"
   ]
  },
  {
   "cell_type": "code",
   "execution_count": null,
   "id": "1b573ef0-6786-45c3-bf87-6e66d016b224",
   "metadata": {},
   "outputs": [],
   "source": [
    "checkpoint = \"M4-ai/tau-0.5B\"\n",
    "device = \"cpu\"\n",
    "\n",
    "model_setup = {\n",
    "    \"checkpoint\": checkpoint,\n",
    "    \"model_type\": \"dec\",\n",
    "    \"embeddings\": \"model.embed_tokens\"\n",
    "}\n",
    "\n",
    "run_config = {\n",
    "    \"device\": device,\n",
    "    \"max_new_tokens\": 100,\n",
    "    # \"temperature\": 1, # Note that if you add this, then you need to add \"do_sample\": True\n",
    "    # \"do_sample\": True\n",
    "}"
   ]
  },
  {
   "cell_type": "code",
   "execution_count": null,
   "id": "dccafb0f-2b99-49a8-ab4f-d3f114240aba",
   "metadata": {},
   "outputs": [],
   "source": [
    "!pip install datasets -q"
   ]
  },
  {
   "cell_type": "code",
   "execution_count": null,
   "id": "03978528-cc37-4483-bdb1-bcf191a685b1",
   "metadata": {},
   "outputs": [],
   "source": [
    "from datasets import load_dataset\n",
    "\n",
    "dataset = load_dataset(\"truthful_qa\", 'multiple_choice')"
   ]
  },
  {
   "cell_type": "code",
   "execution_count": null,
   "id": "abb728d1-a2c6-4a1a-9878-2f89c03e581e",
   "metadata": {},
   "outputs": [],
   "source": [
    "dataset[\"validation\"][1]"
   ]
  },
  {
   "cell_type": "code",
   "execution_count": null,
   "id": "3efd1538-875a-44bd-98ae-c53d45779583",
   "metadata": {},
   "outputs": [],
   "source": [
    "import llmex"
   ]
  },
  {
   "cell_type": "code",
   "execution_count": null,
   "id": "52f82b8f-dc52-4b8e-8889-528e147d8ee0",
   "metadata": {},
   "outputs": [],
   "source": [
    "model = llmex.from_pretrained(project_setup=project_setup, model_setup=model_setup, run_config=run_config)"
   ]
  },
  {
   "cell_type": "code",
   "execution_count": null,
   "id": "d811eae1-08f6-456c-922d-9738db838d16",
   "metadata": {
    "editable": true,
    "slideshow": {
     "slide_type": ""
    },
    "tags": []
   },
   "outputs": [],
   "source": [
    "def prompter(question, choices):\n",
    "    return f\"\"\"Please give the correct answer to the following multiple choice question:\n",
    "    {question}\n",
    "    The choices are: \n",
    "    {choices}\n",
    "    What is the answer? \"\"\"\n",
    "\n",
    "def datapoint_to_labels(choices, labels):\n",
    "    answers = []\n",
    "    for choice, label in zip(choices, labels):\n",
    "        if (label == 1):\n",
    "            answers.append(choice)\n",
    "\n",
    "    return \",\".join(answers) \n",
    "    \n",
    "def datapoint_to_prompt(point):\n",
    "    question = point.get(\"question\")\n",
    "    targets = point.get(\"mc1_targets\")\n",
    "    target_choices = targets.get(\"choices\")\n",
    "    choices = \",\".join(target_choices) \n",
    "    labels = targets.get(\"labels\")\n",
    "    \n",
    "    prompt = prompter(question, target_choices)\n",
    "    answers = datapoint_to_labels(target_choices, labels)\n",
    "    \n",
    "    return prompt, answers\n",
    "    \n",
    "prompt, answer = datapoint_to_prompt(dataset[\"validation\"][1])\n",
    "prompt, answer"
   ]
  },
  {
   "cell_type": "code",
   "execution_count": null,
   "id": "fe15d278-2d50-4b8c-bd78-a9072d80e39f",
   "metadata": {},
   "outputs": [],
   "source": [
    "result = model.predict(prompt, generate_explanations=False, max_new_tokens=50)\n",
    "result"
   ]
  }
 ],
 "metadata": {
  "kernelspec": {
   "display_name": "venv",
   "language": "python",
   "name": "python3"
  },
  "language_info": {
   "codemirror_mode": {
    "name": "ipython",
    "version": 3
   },
   "file_extension": ".py",
   "mimetype": "text/x-python",
   "name": "python",
   "nbconvert_exporter": "python",
   "pygments_lexer": "ipython3",
   "version": "3.11.5"
  }
 },
 "nbformat": 4,
 "nbformat_minor": 5
}
