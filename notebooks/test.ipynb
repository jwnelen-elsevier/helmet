{
 "cells": [
  {
   "cell_type": "code",
   "execution_count": 8,
   "metadata": {},
   "outputs": [
    {
     "name": "stdout",
     "output_type": "stream",
     "text": [
      "Processing /Users/nelenj/Documents/projects/llmex\n",
      "  Installing build dependencies ... \u001b[?25ldone\n",
      "\u001b[?25h  Getting requirements to build wheel ... \u001b[?25ldone\n",
      "\u001b[?25h  Preparing metadata (pyproject.toml) ... \u001b[?25ldone\n",
      "\u001b[?25hBuilding wheels for collected packages: llmex\n",
      "  Building wheel for llmex (pyproject.toml) ... \u001b[?25ldone\n",
      "\u001b[?25h  Created wheel for llmex: filename=llmex-0.1.0-py3-none-any.whl size=1538 sha256=c96bd94e80b0bd981b04890ca70baea403673dba08b44e08ccd407ab63258242\n",
      "  Stored in directory: /private/var/folders/f1/st6fs1q547zbfmzy6jr5b0km0000gp/T/pip-ephem-wheel-cache-b9purv_d/wheels/8f/ce/ec/788efcbd8ae032d4d5999926126a0fac8b4f2ad3adcf38c2ed\n",
      "Successfully built llmex\n",
      "Installing collected packages: llmex\n",
      "  Attempting uninstall: llmex\n",
      "    Found existing installation: llmex 0.1.0\n",
      "    Uninstalling llmex-0.1.0:\n",
      "      Successfully uninstalled llmex-0.1.0\n",
      "Successfully installed llmex-0.1.0\n"
     ]
    }
   ],
   "source": [
    "!cd .. && pip install ."
   ]
  },
  {
   "cell_type": "code",
   "execution_count": 9,
   "metadata": {},
   "outputs": [],
   "source": [
    "from llmex.llm import LLM"
   ]
  },
  {
   "cell_type": "code",
   "execution_count": 12,
   "metadata": {},
   "outputs": [
    {
     "name": "stdout",
     "output_type": "stream",
     "text": [
      "This is a test, Hello World\n"
     ]
    }
   ],
   "source": [
    "l = LLM(name=\"llmex_test\")\n",
    "l.predict(\"This is a test\")"
   ]
  }
 ],
 "metadata": {
  "kernelspec": {
   "display_name": "Python 3 (ipykernel)",
   "language": "python",
   "name": "python3"
  },
  "language_info": {
   "codemirror_mode": {
    "name": "ipython",
    "version": 3
   },
   "file_extension": ".py",
   "mimetype": "text/x-python",
   "name": "python",
   "nbconvert_exporter": "python",
   "pygments_lexer": "ipython3",
   "version": "3.11.3"
  }
 },
 "nbformat": 4,
 "nbformat_minor": 4
}
