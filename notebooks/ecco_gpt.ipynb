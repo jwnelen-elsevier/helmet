{
 "cells": [
  {
   "cell_type": "code",
   "execution_count": 3,
   "metadata": {},
   "outputs": [],
   "source": [
    "!pip install transformers ecco datasets -q"
   ]
  },
  {
   "cell_type": "code",
   "execution_count": 5,
   "metadata": {},
   "outputs": [],
   "source": [
    "import ecco\n",
    "model_id = \"gpt2\"\n",
    "lm = ecco.from_pretrained(model_id, verbose=False)"
   ]
  },
  {
   "cell_type": "code",
   "execution_count": 6,
   "metadata": {},
   "outputs": [
    {
     "name": "stderr",
     "output_type": "stream",
     "text": [
      "Setting `pad_token_id` to `eos_token_id`:50256 for open-end generation.\n"
     ]
    }
   ],
   "source": [
    "prompt=\"\"\" Heathrow airport is located in the city of\"\"\"\n",
    "\n",
    "output = lm.generate(prompt, generate=1, do_sample=False)"
   ]
  },
  {
   "cell_type": "code",
   "execution_count": 7,
   "metadata": {},
   "outputs": [
    {
     "name": "stderr",
     "output_type": "stream",
     "text": [
      "Setting `pad_token_id` to `eos_token_id`:50256 for open-end generation.\n"
     ]
    },
    {
     "data": {
      "text/html": [
       "<html lang=\"en\">\n",
       "<script src=\"https://requirejs.org/docs/release/2.3.6/minified/require.js\"></script>\n",
       "<script>\n",
       "    var ecco_url = 'https://storage.googleapis.com/ml-intro/ecco/'\n",
       "    //var ecco_url = 'http://localhost:8000/'\n",
       "\n",
       "    if (window.ecco === undefined) window.ecco = {}\n",
       "\n",
       "    // Setup the paths of the script we'll be using\n",
       "    requirejs.config({\n",
       "        urlArgs: \"bust=\" + (new Date()).getTime(),\n",
       "        nodeRequire: require,\n",
       "        paths: {\n",
       "            d3: \"https://d3js.org/d3.v6.min\", // This is only for use in setup.html and basic.html\n",
       "            \"d3-array\": \"https://d3js.org/d3-array.v2.min\",\n",
       "            jquery: \"https://code.jquery.com/jquery-3.5.1.min\",\n",
       "            ecco: ecco_url + 'js/0.0.6/ecco-bundle.min',\n",
       "            xregexp: 'https://cdnjs.cloudflare.com/ajax/libs/xregexp/3.2.0/xregexp-all.min'\n",
       "        }\n",
       "    });\n",
       "\n",
       "    // Add the css file\n",
       "    //requirejs(['d3'],\n",
       "    //    function (d3) {\n",
       "    //        d3.select('#css').attr('href', ecco_url + 'html/styles.css')\n",
       "    //    })\n",
       "\n",
       "    console.log('Ecco initialize!!')\n",
       "\n",
       "    // returns a 'basic' object. basic.init() selects the html div we'll be\n",
       "    // rendering the html into, adds styles.css to the document.\n",
       "    define('basic', ['d3'],\n",
       "        function (d3) {\n",
       "            return {\n",
       "                init: function (viz_id = null) {\n",
       "                    if (viz_id == null) {\n",
       "                        viz_id = \"viz_\" + Math.round(Math.random() * 10000000)\n",
       "                    }\n",
       "                    // Select the div rendered below, change its id\n",
       "                    const div = d3.select('#basic').attr('id', viz_id),\n",
       "                        div_parent = d3.select('#' + viz_id).node().parentNode\n",
       "\n",
       "                    // Link to CSS file\n",
       "                    d3.select(div_parent).insert('link')\n",
       "                        .attr('rel', 'stylesheet')\n",
       "                        .attr('type', 'text/css')\n",
       "                        .attr('href', ecco_url + 'html/0.0.2/styles.css')\n",
       "\n",
       "                    return viz_id\n",
       "                }\n",
       "            }\n",
       "        }, function (err) {\n",
       "            console.log(err);\n",
       "        }\n",
       "    )\n",
       "</script>\n",
       "\n",
       "<head>\n",
       "    <link id='css' rel=\"stylesheet\" type=\"text/css\">\n",
       "</head>\n",
       "<div id=\"basic\"></div>\n"
      ],
      "text/plain": [
       "<IPython.core.display.HTML object>"
      ]
     },
     "metadata": {},
     "output_type": "display_data"
    },
    {
     "data": {
      "application/javascript": "\n             requirejs(['basic', 'ecco'], function(basic, ecco){\n                const viz_id = basic.init()\n                console.log(viz_id)\n                // ecco.interactiveTokens(viz_id, {})\n                window.ecco[viz_id] = new ecco.MinimalHighlighter({\n                    parentDiv: viz_id,\n                    data: {\"tokens\": [{\"token\": \"Heath\", \"token_id\": 25846, \"is_partial\": false, \"type\": \"input\", \"value\": \"0.26435257701339865\", \"position\": 0}, {\"token\": \"row\", \"token_id\": 808, \"is_partial\": true, \"type\": \"input\", \"value\": \"0.3286989501715139\", \"position\": 1}, {\"token\": \"airport\", \"token_id\": 9003, \"is_partial\": false, \"type\": \"input\", \"value\": \"0.08085177540377846\", \"position\": 2}, {\"token\": \"is\", \"token_id\": 318, \"is_partial\": false, \"type\": \"input\", \"value\": \"0.028392578588266437\", \"position\": 3}, {\"token\": \"located\", \"token_id\": 5140, \"is_partial\": false, \"type\": \"input\", \"value\": \"0.062074486089563306\", \"position\": 4}, {\"token\": \"in\", \"token_id\": 287, \"is_partial\": false, \"type\": \"input\", \"value\": \"0.04363006675535139\", \"position\": 5}, {\"token\": \"the\", \"token_id\": 262, \"is_partial\": false, \"type\": \"input\", \"value\": \"0.04650985665691685\", \"position\": 6}, {\"token\": \"city\", \"token_id\": 1748, \"is_partial\": false, \"type\": \"input\", \"value\": \"0.10196823481491846\", \"position\": 7}, {\"token\": \"of\", \"token_id\": 286, \"is_partial\": false, \"type\": \"input\", \"value\": \"0.04352147450629249\", \"position\": 8}, {\"token\": \"London\", \"token_id\": 3576, \"is_partial\": false, \"type\": \"output\", \"value\": \"0\", \"position\": 9}], \"attributions\": [[0.26435257701339865, 0.3286989501715139, 0.08085177540377846, 0.028392578588266437, 0.062074486089563306, 0.04363006675535139, 0.04650985665691685, 0.10196823481491846, 0.04352147450629249]]},\n                    preset: 'viridis',\n                    tokenization_config: {\"token_prefix\": \"\\u0120\", \"partial_token_prefix\": \"\"}\n\n             })\n\n             window.ecco[viz_id].init();\n             window.ecco[viz_id].selectFirstToken();\n\n             }, function (err) {\n                console.log(err);\n            })",
      "text/plain": [
       "<IPython.core.display.Javascript object>"
      ]
     },
     "metadata": {},
     "output_type": "display_data"
    }
   ],
   "source": [
    "output = lm.generate(prompt, generate=1, do_sample=False, attribution=['ig'])\n",
    "output.primary_attributions(attr_method='ig')"
   ]
  },
  {
   "cell_type": "code",
   "execution_count": 10,
   "metadata": {},
   "outputs": [
    {
     "ename": "AssertionError",
     "evalue": "decoder hidden states not found",
     "output_type": "error",
     "traceback": [
      "\u001b[0;31m---------------------------------------------------------------------------\u001b[0m",
      "\u001b[0;31mAssertionError\u001b[0m                            Traceback (most recent call last)",
      "Cell \u001b[0;32mIn[10], line 1\u001b[0m\n\u001b[0;32m----> 1\u001b[0m \u001b[43moutput\u001b[49m\u001b[38;5;241;43m.\u001b[39;49m\u001b[43mrankings\u001b[49m\u001b[43m(\u001b[49m\u001b[43m)\u001b[49m\n",
      "File \u001b[0;32m~/miniconda3/envs/phoenix/lib/python3.9/site-packages/ecco/output.py:445\u001b[0m, in \u001b[0;36mOutputSeq.rankings\u001b[0;34m(self, **kwargs)\u001b[0m\n\u001b[1;32m    442\u001b[0m \u001b[38;5;28;01massert\u001b[39;00m \u001b[38;5;28mself\u001b[39m\u001b[38;5;241m.\u001b[39mmodel_type \u001b[38;5;241m!=\u001b[39m \u001b[38;5;124m'\u001b[39m\u001b[38;5;124mmlm\u001b[39m\u001b[38;5;124m'\u001b[39m, \u001b[38;5;124m\"\u001b[39m\u001b[38;5;124mmethod not supported for Masked-LMs\u001b[39m\u001b[38;5;124m\"\u001b[39m\n\u001b[1;32m    444\u001b[0m _, dec_hidden_states \u001b[38;5;241m=\u001b[39m \u001b[38;5;28mself\u001b[39m\u001b[38;5;241m.\u001b[39m_get_hidden_states()\n\u001b[0;32m--> 445\u001b[0m \u001b[38;5;28;01massert\u001b[39;00m dec_hidden_states \u001b[38;5;129;01mis\u001b[39;00m \u001b[38;5;129;01mnot\u001b[39;00m \u001b[38;5;28;01mNone\u001b[39;00m, \u001b[38;5;124m\"\u001b[39m\u001b[38;5;124mdecoder hidden states not found\u001b[39m\u001b[38;5;124m\"\u001b[39m\n\u001b[1;32m    447\u001b[0m n_layers_dec \u001b[38;5;241m=\u001b[39m dec_hidden_states[\u001b[38;5;241m0\u001b[39m]\u001b[38;5;241m.\u001b[39mshape[\u001b[38;5;241m0\u001b[39m]\n\u001b[1;32m    448\u001b[0m position \u001b[38;5;241m=\u001b[39m \u001b[38;5;28mlen\u001b[39m(dec_hidden_states)\n",
      "\u001b[0;31mAssertionError\u001b[0m: decoder hidden states not found"
     ]
    }
   ],
   "source": [
    "output.rankings()"
   ]
  },
  {
   "cell_type": "code",
   "execution_count": null,
   "metadata": {},
   "outputs": [],
   "source": []
  }
 ],
 "metadata": {
  "kernelspec": {
   "display_name": "phoenix",
   "language": "python",
   "name": "phoenix"
  },
  "language_info": {
   "codemirror_mode": {
    "name": "ipython",
    "version": 3
   },
   "file_extension": ".py",
   "mimetype": "text/x-python",
   "name": "python",
   "nbconvert_exporter": "python",
   "pygments_lexer": "ipython3",
   "version": "3.9.18"
  }
 },
 "nbformat": 4,
 "nbformat_minor": 2
}
