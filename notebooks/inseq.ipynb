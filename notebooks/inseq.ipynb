{
 "cells": [
  {
   "cell_type": "code",
   "execution_count": 1,
   "metadata": {},
   "outputs": [
    {
     "name": "stdout",
     "output_type": "stream",
     "text": [
      "Looking in indexes: https://pypi.org/simple, https://pypi.org/simple\n",
      "Requirement already satisfied: transformers in /Users/nelenj/miniconda3/envs/phoenix/lib/python3.9/site-packages (4.37.0)\n",
      "Requirement already satisfied: inseq in /Users/nelenj/miniconda3/envs/phoenix/lib/python3.9/site-packages (0.5.0)\n",
      "Requirement already satisfied: datasets in /Users/nelenj/miniconda3/envs/phoenix/lib/python3.9/site-packages (2.16.1)\n",
      "Requirement already satisfied: filelock in /Users/nelenj/miniconda3/envs/phoenix/lib/python3.9/site-packages (from transformers) (3.13.1)\n",
      "Requirement already satisfied: huggingface-hub<1.0,>=0.19.3 in /Users/nelenj/miniconda3/envs/phoenix/lib/python3.9/site-packages (from transformers) (0.20.3)\n",
      "Requirement already satisfied: numpy>=1.17 in /Users/nelenj/miniconda3/envs/phoenix/lib/python3.9/site-packages (from transformers) (1.26.3)\n",
      "Requirement already satisfied: packaging>=20.0 in /Users/nelenj/.local/lib/python3.9/site-packages (from transformers) (23.2)\n",
      "Requirement already satisfied: pyyaml>=5.1 in /Users/nelenj/miniconda3/envs/phoenix/lib/python3.9/site-packages (from transformers) (6.0.1)\n",
      "Requirement already satisfied: regex!=2019.12.17 in /Users/nelenj/miniconda3/envs/phoenix/lib/python3.9/site-packages (from transformers) (2023.12.25)\n",
      "Requirement already satisfied: requests in /Users/nelenj/miniconda3/envs/phoenix/lib/python3.9/site-packages (from transformers) (2.31.0)\n",
      "Requirement already satisfied: tokenizers<0.19,>=0.14 in /Users/nelenj/miniconda3/envs/phoenix/lib/python3.9/site-packages (from transformers) (0.15.1)\n",
      "Requirement already satisfied: safetensors>=0.3.1 in /Users/nelenj/miniconda3/envs/phoenix/lib/python3.9/site-packages (from transformers) (0.4.2)\n",
      "Requirement already satisfied: tqdm>=4.27 in /Users/nelenj/miniconda3/envs/phoenix/lib/python3.9/site-packages (from transformers) (4.66.1)\n",
      "Requirement already satisfied: captum>=0.6.0 in /Users/nelenj/miniconda3/envs/phoenix/lib/python3.9/site-packages (from inseq) (0.7.0)\n",
      "Requirement already satisfied: jaxtyping<0.3.0,>=0.2.23 in /Users/nelenj/miniconda3/envs/phoenix/lib/python3.9/site-packages (from inseq) (0.2.25)\n",
      "Requirement already satisfied: matplotlib>=3.5.3 in /Users/nelenj/miniconda3/envs/phoenix/lib/python3.9/site-packages (from inseq) (3.8.2)\n",
      "Requirement already satisfied: poethepoet>=0.13.1 in /Users/nelenj/miniconda3/envs/phoenix/lib/python3.9/site-packages (from inseq) (0.24.4)\n",
      "Requirement already satisfied: protobuf>=3.20.1 in /Users/nelenj/miniconda3/envs/phoenix/lib/python3.9/site-packages (from inseq) (4.25.1)\n",
      "Requirement already satisfied: rich>=10.13.0 in /Users/nelenj/miniconda3/envs/phoenix/lib/python3.9/site-packages (from inseq) (13.7.0)\n",
      "Requirement already satisfied: scipy>=1.8.1 in /Users/nelenj/miniconda3/envs/phoenix/lib/python3.9/site-packages (from inseq) (1.11.4)\n",
      "Requirement already satisfied: torch==2.0.0 in /Users/nelenj/miniconda3/envs/phoenix/lib/python3.9/site-packages (from inseq) (2.0.0)\n",
      "Requirement already satisfied: typeguard<=2.13.3 in /Users/nelenj/miniconda3/envs/phoenix/lib/python3.9/site-packages (from inseq) (2.13.3)\n",
      "Requirement already satisfied: typing-extensions in /Users/nelenj/.local/lib/python3.9/site-packages (from torch==2.0.0->inseq) (4.9.0)\n",
      "Requirement already satisfied: sympy in /Users/nelenj/miniconda3/envs/phoenix/lib/python3.9/site-packages (from torch==2.0.0->inseq) (1.12)\n",
      "Requirement already satisfied: networkx in /Users/nelenj/miniconda3/envs/phoenix/lib/python3.9/site-packages (from torch==2.0.0->inseq) (3.2.1)\n",
      "Requirement already satisfied: jinja2 in /Users/nelenj/miniconda3/envs/phoenix/lib/python3.9/site-packages (from torch==2.0.0->inseq) (3.1.2)\n",
      "Requirement already satisfied: pyarrow>=8.0.0 in /Users/nelenj/miniconda3/envs/phoenix/lib/python3.9/site-packages (from datasets) (14.0.2)\n",
      "Requirement already satisfied: pyarrow-hotfix in /Users/nelenj/miniconda3/envs/phoenix/lib/python3.9/site-packages (from datasets) (0.6)\n",
      "Requirement already satisfied: dill<0.3.8,>=0.3.0 in /Users/nelenj/miniconda3/envs/phoenix/lib/python3.9/site-packages (from datasets) (0.3.7)\n",
      "Requirement already satisfied: pandas in /Users/nelenj/miniconda3/envs/phoenix/lib/python3.9/site-packages (from datasets) (2.1.4)\n",
      "Requirement already satisfied: xxhash in /Users/nelenj/miniconda3/envs/phoenix/lib/python3.9/site-packages (from datasets) (3.4.1)\n",
      "Requirement already satisfied: multiprocess in /Users/nelenj/miniconda3/envs/phoenix/lib/python3.9/site-packages (from datasets) (0.70.15)\n",
      "Requirement already satisfied: fsspec<=2023.10.0,>=2023.1.0 in /Users/nelenj/miniconda3/envs/phoenix/lib/python3.9/site-packages (from fsspec[http]<=2023.10.0,>=2023.1.0->datasets) (2023.10.0)\n",
      "Requirement already satisfied: aiohttp in /Users/nelenj/miniconda3/envs/phoenix/lib/python3.9/site-packages (from datasets) (3.9.1)\n",
      "Requirement already satisfied: attrs>=17.3.0 in /Users/nelenj/miniconda3/envs/phoenix/lib/python3.9/site-packages (from aiohttp->datasets) (23.2.0)\n",
      "Requirement already satisfied: multidict<7.0,>=4.5 in /Users/nelenj/miniconda3/envs/phoenix/lib/python3.9/site-packages (from aiohttp->datasets) (6.0.4)\n",
      "Requirement already satisfied: yarl<2.0,>=1.0 in /Users/nelenj/miniconda3/envs/phoenix/lib/python3.9/site-packages (from aiohttp->datasets) (1.9.4)\n",
      "Requirement already satisfied: frozenlist>=1.1.1 in /Users/nelenj/miniconda3/envs/phoenix/lib/python3.9/site-packages (from aiohttp->datasets) (1.4.1)\n",
      "Requirement already satisfied: aiosignal>=1.1.2 in /Users/nelenj/miniconda3/envs/phoenix/lib/python3.9/site-packages (from aiohttp->datasets) (1.3.1)\n",
      "Requirement already satisfied: async-timeout<5.0,>=4.0 in /Users/nelenj/miniconda3/envs/phoenix/lib/python3.9/site-packages (from aiohttp->datasets) (4.0.3)\n",
      "Requirement already satisfied: contourpy>=1.0.1 in /Users/nelenj/miniconda3/envs/phoenix/lib/python3.9/site-packages (from matplotlib>=3.5.3->inseq) (1.2.0)\n",
      "Requirement already satisfied: cycler>=0.10 in /Users/nelenj/miniconda3/envs/phoenix/lib/python3.9/site-packages (from matplotlib>=3.5.3->inseq) (0.12.1)\n",
      "Requirement already satisfied: fonttools>=4.22.0 in /Users/nelenj/miniconda3/envs/phoenix/lib/python3.9/site-packages (from matplotlib>=3.5.3->inseq) (4.47.2)\n",
      "Requirement already satisfied: kiwisolver>=1.3.1 in /Users/nelenj/miniconda3/envs/phoenix/lib/python3.9/site-packages (from matplotlib>=3.5.3->inseq) (1.4.5)\n",
      "Requirement already satisfied: pillow>=8 in /Users/nelenj/miniconda3/envs/phoenix/lib/python3.9/site-packages (from matplotlib>=3.5.3->inseq) (10.2.0)\n",
      "Requirement already satisfied: pyparsing>=2.3.1 in /Users/nelenj/miniconda3/envs/phoenix/lib/python3.9/site-packages (from matplotlib>=3.5.3->inseq) (3.1.1)\n",
      "Requirement already satisfied: python-dateutil>=2.7 in /Users/nelenj/.local/lib/python3.9/site-packages (from matplotlib>=3.5.3->inseq) (2.8.2)\n",
      "Requirement already satisfied: importlib-resources>=3.2.0 in /Users/nelenj/miniconda3/envs/phoenix/lib/python3.9/site-packages (from matplotlib>=3.5.3->inseq) (6.1.1)\n",
      "Requirement already satisfied: pastel<0.3.0,>=0.2.1 in /Users/nelenj/miniconda3/envs/phoenix/lib/python3.9/site-packages (from poethepoet>=0.13.1->inseq) (0.2.1)\n",
      "Requirement already satisfied: tomli>=1.2.2 in /Users/nelenj/miniconda3/envs/phoenix/lib/python3.9/site-packages (from poethepoet>=0.13.1->inseq) (2.0.1)\n",
      "Requirement already satisfied: charset-normalizer<4,>=2 in /Users/nelenj/miniconda3/envs/phoenix/lib/python3.9/site-packages (from requests->transformers) (3.3.2)\n",
      "Requirement already satisfied: idna<4,>=2.5 in /Users/nelenj/miniconda3/envs/phoenix/lib/python3.9/site-packages (from requests->transformers) (3.6)\n",
      "Requirement already satisfied: urllib3<3,>=1.21.1 in /Users/nelenj/miniconda3/envs/phoenix/lib/python3.9/site-packages (from requests->transformers) (2.1.0)\n",
      "Requirement already satisfied: certifi>=2017.4.17 in /Users/nelenj/miniconda3/envs/phoenix/lib/python3.9/site-packages (from requests->transformers) (2023.11.17)\n",
      "Requirement already satisfied: markdown-it-py>=2.2.0 in /Users/nelenj/miniconda3/envs/phoenix/lib/python3.9/site-packages (from rich>=10.13.0->inseq) (3.0.0)\n",
      "Requirement already satisfied: pygments<3.0.0,>=2.13.0 in /Users/nelenj/.local/lib/python3.9/site-packages (from rich>=10.13.0->inseq) (2.17.2)\n",
      "Requirement already satisfied: sentencepiece!=0.1.92,>=0.1.91 in /Users/nelenj/miniconda3/envs/phoenix/lib/python3.9/site-packages (from transformers[sentencepiece,tokenizers,torch]>=4.22.0->inseq) (0.1.99)\n",
      "Requirement already satisfied: accelerate>=0.21.0 in /Users/nelenj/miniconda3/envs/phoenix/lib/python3.9/site-packages (from transformers[sentencepiece,tokenizers,torch]>=4.22.0->inseq) (0.26.1)\n",
      "Requirement already satisfied: pytz>=2020.1 in /Users/nelenj/miniconda3/envs/phoenix/lib/python3.9/site-packages (from pandas->datasets) (2023.3.post1)\n",
      "Requirement already satisfied: tzdata>=2022.1 in /Users/nelenj/miniconda3/envs/phoenix/lib/python3.9/site-packages (from pandas->datasets) (2023.4)\n",
      "Requirement already satisfied: psutil in /Users/nelenj/.local/lib/python3.9/site-packages (from accelerate>=0.21.0->transformers[sentencepiece,tokenizers,torch]>=4.22.0->inseq) (5.9.7)\n",
      "Requirement already satisfied: zipp>=3.1.0 in /Users/nelenj/.local/lib/python3.9/site-packages (from importlib-resources>=3.2.0->matplotlib>=3.5.3->inseq) (3.17.0)\n",
      "Requirement already satisfied: mdurl~=0.1 in /Users/nelenj/miniconda3/envs/phoenix/lib/python3.9/site-packages (from markdown-it-py>=2.2.0->rich>=10.13.0->inseq) (0.1.2)\n",
      "Requirement already satisfied: six>=1.5 in /Users/nelenj/.local/lib/python3.9/site-packages (from python-dateutil>=2.7->matplotlib>=3.5.3->inseq) (1.16.0)\n",
      "Requirement already satisfied: MarkupSafe>=2.0 in /Users/nelenj/miniconda3/envs/phoenix/lib/python3.9/site-packages (from jinja2->torch==2.0.0->inseq) (2.1.3)\n",
      "Requirement already satisfied: mpmath>=0.19 in /Users/nelenj/miniconda3/envs/phoenix/lib/python3.9/site-packages (from sympy->torch==2.0.0->inseq) (1.3.0)\n"
     ]
    }
   ],
   "source": [
    "!pip install transformers inseq datasets"
   ]
  },
  {
   "cell_type": "code",
   "execution_count": 2,
   "metadata": {},
   "outputs": [
    {
     "name": "stderr",
     "output_type": "stream",
     "text": [
      "/Users/nelenj/miniconda3/envs/phoenix/lib/python3.9/site-packages/tqdm/auto.py:21: TqdmWarning: IProgress not found. Please update jupyter and ipywidgets. See https://ipywidgets.readthedocs.io/en/stable/user_install.html\n",
      "  from .autonotebook import tqdm as notebook_tqdm\n",
      "Using the latest cached version of the dataset since AmazonScience/massive couldn't be found on the Hugging Face Hub\n",
      "Found the latest cached dataset configuration 'en-US' at /Users/nelenj/.cache/huggingface/datasets/AmazonScience___massive/en-US/1.0.0/ff6bd8e4b27c3543e4f8fe2108f32bb95a6f8740 (last modified on Tue Jan 23 14:28:16 2024).\n"
     ]
    }
   ],
   "source": [
    "from datasets import load_dataset\n",
    "dataset = load_dataset(\"AmazonScience/massive\", \"en-US\", split='test')"
   ]
  },
  {
   "cell_type": "code",
   "execution_count": 22,
   "metadata": {},
   "outputs": [
    {
     "name": "stderr",
     "output_type": "stream",
     "text": [
      "The attention mask and the pad token id were not set. As a consequence, you may observe unexpected behavior. Please pass your input's `attention_mask` to obtain reliable results.\n",
      "Setting `pad_token_id` to `eos_token_id`:50256 for open-end generation.\n",
      "Unused arguments during attribution: {'n_steps': 500, 'internal_batch_size': 50}\n",
      "Attributing with saliency...: 100%|██████████| 12/12 [00:00<00:00, 11.80it/s]\n"
     ]
    }
   ],
   "source": [
    "import inseq\n",
    "name = \"qanastek/XLMRoberta-Alexa-Intents-Classification\"\n",
    "\n",
    "model = inseq.load_model(\"gpt2\", \"saliency\")\n",
    "attributes = model.attribute(\n",
    "    \"Hello ladies and\",\n",
    "    generation_args={\"max_new_tokens\": 9},\n",
    "    n_steps=500,\n",
    "    internal_batch_size=50\n",
    ")"
   ]
  },
  {
   "cell_type": "code",
   "execution_count": 23,
   "metadata": {},
   "outputs": [
    {
     "data": {
      "text/html": [
       "<br/><b>0th instance:</b><br/>\n",
       "<html>\n",
       "<div id=\"shyduxsilnpbghgfddyn_viz_container\">\n",
       "    <div id=\"shyduxsilnpbghgfddyn_content\" style=\"padding:15px;border-style:solid;margin:5px;\">\n",
       "        <div id = \"shyduxsilnpbghgfddyn_saliency_plot_container\" class=\"shyduxsilnpbghgfddyn_viz_container\" style=\"display:block\">\n",
       "            \n",
       "<div id=\"euuycnqbflnfuzzlimeu_saliency_plot\" class=\"euuycnqbflnfuzzlimeu_viz_content\">\n",
       "    <div style=\"margin:5px;font-family:sans-serif;font-weight:bold;\">\n",
       "        <span style=\"font-size: 20px;\">Target Saliency Heatmap</span>\n",
       "        <br>\n",
       "        x: Generated tokens, y: Attributed tokens\n",
       "    </div>\n",
       "    \n",
       "<table border=\"1\" cellpadding=\"5\" cellspacing=\"5\"\n",
       "    style=\"overflow-x:scroll;display:block;\">\n",
       "    <tr><th></th>\n",
       "<th>Ġgentlemen</th><th>,</th><th>ĠI</th><th>Ġam</th><th>Ġa</th><th>Ġmember</th><th>Ġof</th><th>Ġthe</th><th>ĠBoard</th></tr><tr><th>Hello</th><th style=\"background:rgba(255.0, 13.0, 87.0, 0.5900970489205783)\">0.302</th><th style=\"background:rgba(255.0, 13.0, 87.0, 0.4560903149138443)\">0.234</th><th style=\"background:rgba(255.0, 13.0, 87.0, 0.3299663299663301)\">0.171</th><th style=\"background:rgba(255.0, 13.0, 87.0, 0.48762131115072294)\">0.249</th><th style=\"background:rgba(255.0, 13.0, 87.0, 0.20384234501881549)\">0.106</th><th style=\"background:rgba(255.0, 13.0, 87.0, 0.39302832244008706)\">0.199</th><th style=\"background:rgba(255.0, 13.0, 87.0, 0.2590215884333532)\">0.133</th><th style=\"background:rgba(255.0, 13.0, 87.0, 0.18019409784115661)\">0.092</th><th style=\"background:rgba(255.0, 13.0, 87.0, 0.306318082788671)\">0.156</th></tr><tr><th>Ġladies</th><th style=\"background:rgba(255.0, 13.0, 87.0, 1.0)\">0.509</th><th style=\"background:rgba(255.0, 13.0, 87.0, 0.5585660526836996)\">0.283</th><th style=\"background:rgba(255.0, 13.0, 87.0, 0.44820756585462457)\">0.227</th><th style=\"background:rgba(255.0, 13.0, 87.0, 0.5743315508021392)\">0.292</th><th style=\"background:rgba(255.0, 13.0, 87.0, 0.22749059219647458)\">0.119</th><th style=\"background:rgba(255.0, 13.0, 87.0, 0.4797385620915033)\">0.243</th><th style=\"background:rgba(255.0, 13.0, 87.0, 0.2747870865517925)\">0.141</th><th style=\"background:rgba(255.0, 13.0, 87.0, 0.18019409784115661)\">0.093</th><th style=\"background:rgba(255.0, 13.0, 87.0, 0.29843533372945136)\">0.151</th></tr><tr><th>Ġand</th><th style=\"background:rgba(255.0, 13.0, 87.0, 0.3693800752624282)\">0.189</th><th style=\"background:rgba(255.0, 13.0, 87.0, 0.4087938205585263)\">0.21</th><th style=\"background:rgba(255.0, 13.0, 87.0, 0.41667656961774624)\">0.213</th><th style=\"background:rgba(255.0, 13.0, 87.0, 0.16442859972271742)\">0.085</th><th style=\"background:rgba(255.0, 13.0, 87.0, 0.5033868092691621)\">0.255</th><th style=\"background:rgba(255.0, 13.0, 87.0, 0.15654585066349747)\">0.082</th><th style=\"background:rgba(255.0, 13.0, 87.0, 0.17231134878193693)\">0.09</th><th style=\"background:rgba(255.0, 13.0, 87.0, 0.36149732620320857)\">0.185</th><th style=\"background:rgba(255.0, 13.0, 87.0, 0.14078035254505847)\">0.075</th></tr><tr><th>Ġgentlemen</th><th style=\"background:rgba(0.0, 0.0, 0.0, 0.0)\"></th><th style=\"background:rgba(255.0, 13.0, 87.0, 0.5349178055060405)\">0.274</th><th style=\"background:rgba(255.0, 13.0, 87.0, 0.29055258467023165)\">0.148</th><th style=\"background:rgba(255.0, 13.0, 87.0, 0.3693800752624282)\">0.189</th><th style=\"background:rgba(255.0, 13.0, 87.0, 0.1880768469003763)\">0.099</th><th style=\"background:rgba(255.0, 13.0, 87.0, 0.3772628243216479)\">0.195</th><th style=\"background:rgba(255.0, 13.0, 87.0, 0.2117250940780353)\">0.109</th><th style=\"background:rgba(255.0, 13.0, 87.0, 0.18019409784115661)\">0.094</th><th style=\"background:rgba(255.0, 13.0, 87.0, 0.306318082788671)\">0.156</th></tr><tr><th>,</th><th style=\"background:rgba(0.0, 0.0, 0.0, 0.0)\"></th><th style=\"background:rgba(0.0, 0.0, 0.0, 0.0)\"></th><th style=\"background:rgba(255.0, 13.0, 87.0, 0.4718558130322837)\">0.24</th><th style=\"background:rgba(255.0, 13.0, 87.0, 0.14078035254505847)\">0.073</th><th style=\"background:rgba(255.0, 13.0, 87.0, 0.43244206773618543)\">0.223</th><th style=\"background:rgba(255.0, 13.0, 87.0, 0.10924935630817992)\">0.057</th><th style=\"background:rgba(255.0, 13.0, 87.0, 0.14078035254505847)\">0.072</th><th style=\"background:rgba(255.0, 13.0, 87.0, 0.29843533372945136)\">0.154</th><th style=\"background:rgba(255.0, 13.0, 87.0, 0.10136660724896006)\">0.054</th></tr><tr><th>ĠI</th><th style=\"background:rgba(0.0, 0.0, 0.0, 0.0)\"></th><th style=\"background:rgba(0.0, 0.0, 0.0, 0.0)\"></th><th style=\"background:rgba(0.0, 0.0, 0.0, 0.0)\"></th><th style=\"background:rgba(255.0, 13.0, 87.0, 0.219607843137255)\">0.112</th><th style=\"background:rgba(255.0, 13.0, 87.0, 0.15654585066349747)\">0.083</th><th style=\"background:rgba(255.0, 13.0, 87.0, 0.1171321053673995)\">0.061</th><th style=\"background:rgba(255.0, 13.0, 87.0, 0.1171321053673995)\">0.062</th><th style=\"background:rgba(255.0, 13.0, 87.0, 0.08560110913052081)\">0.046</th><th style=\"background:rgba(255.0, 13.0, 87.0, 0.10136660724896006)\">0.054</th></tr><tr><th>Ġam</th><th style=\"background:rgba(0.0, 0.0, 0.0, 0.0)\"></th><th style=\"background:rgba(0.0, 0.0, 0.0, 0.0)\"></th><th style=\"background:rgba(0.0, 0.0, 0.0, 0.0)\"></th><th style=\"background:rgba(0.0, 0.0, 0.0, 0.0)\"></th><th style=\"background:rgba(255.0, 13.0, 87.0, 0.219607843137255)\">0.115</th><th style=\"background:rgba(255.0, 13.0, 87.0, 0.15654585066349747)\">0.08</th><th style=\"background:rgba(255.0, 13.0, 87.0, 0.10136660724896006)\">0.053</th><th style=\"background:rgba(255.0, 13.0, 87.0, 0.06195286195286207)\">0.034</th><th style=\"background:rgba(255.0, 13.0, 87.0, 0.09348385818974037)\">0.05</th></tr><tr><th>Ġa</th><th style=\"background:rgba(0.0, 0.0, 0.0, 0.0)\"></th><th style=\"background:rgba(0.0, 0.0, 0.0, 0.0)\"></th><th style=\"background:rgba(0.0, 0.0, 0.0, 0.0)\"></th><th style=\"background:rgba(0.0, 0.0, 0.0, 0.0)\"></th><th style=\"background:rgba(0.0, 0.0, 0.0, 0.0)\"></th><th style=\"background:rgba(255.0, 13.0, 87.0, 0.16442859972271742)\">0.084</th><th style=\"background:rgba(255.0, 13.0, 87.0, 0.16442859972271742)\">0.085</th><th style=\"background:rgba(255.0, 13.0, 87.0, 0.2511388393741335)\">0.131</th><th style=\"background:rgba(255.0, 13.0, 87.0, 0.10136660724896006)\">0.052</th></tr><tr><th>Ġmember</th><th style=\"background:rgba(0.0, 0.0, 0.0, 0.0)\"></th><th style=\"background:rgba(0.0, 0.0, 0.0, 0.0)\"></th><th style=\"background:rgba(0.0, 0.0, 0.0, 0.0)\"></th><th style=\"background:rgba(0.0, 0.0, 0.0, 0.0)\"></th><th style=\"background:rgba(0.0, 0.0, 0.0, 0.0)\"></th><th style=\"background:rgba(0.0, 0.0, 0.0, 0.0)\"></th><th style=\"background:rgba(255.0, 13.0, 87.0, 0.49550406020994264)\">0.254</th><th style=\"background:rgba(255.0, 13.0, 87.0, 0.17231134878193693)\">0.09</th><th style=\"background:rgba(255.0, 13.0, 87.0, 0.33784907902554967)\">0.172</th></tr><tr><th>Ġof</th><th style=\"background:rgba(0.0, 0.0, 0.0, 0.0)\"></th><th style=\"background:rgba(0.0, 0.0, 0.0, 0.0)\"></th><th style=\"background:rgba(0.0, 0.0, 0.0, 0.0)\"></th><th style=\"background:rgba(0.0, 0.0, 0.0, 0.0)\"></th><th style=\"background:rgba(0.0, 0.0, 0.0, 0.0)\"></th><th style=\"background:rgba(0.0, 0.0, 0.0, 0.0)\"></th><th style=\"background:rgba(0.0, 0.0, 0.0, 0.0)\"></th><th style=\"background:rgba(255.0, 13.0, 87.0, 0.15654585066349747)\">0.081</th><th style=\"background:rgba(255.0, 13.0, 87.0, 0.05407011289364243)\">0.029</th></tr><tr><th>Ġthe</th><th style=\"background:rgba(0.0, 0.0, 0.0, 0.0)\"></th><th style=\"background:rgba(0.0, 0.0, 0.0, 0.0)\"></th><th style=\"background:rgba(0.0, 0.0, 0.0, 0.0)\"></th><th style=\"background:rgba(0.0, 0.0, 0.0, 0.0)\"></th><th style=\"background:rgba(0.0, 0.0, 0.0, 0.0)\"></th><th style=\"background:rgba(0.0, 0.0, 0.0, 0.0)\"></th><th style=\"background:rgba(0.0, 0.0, 0.0, 0.0)\"></th><th style=\"background:rgba(0.0, 0.0, 0.0, 0.0)\"></th><th style=\"background:rgba(255.0, 13.0, 87.0, 0.09348385818974037)\">0.049</th></tr><tr><th>ĠBoard</th><th style=\"background:rgba(0.0, 0.0, 0.0, 0.0)\"></th><th style=\"background:rgba(0.0, 0.0, 0.0, 0.0)\"></th><th style=\"background:rgba(0.0, 0.0, 0.0, 0.0)\"></th><th style=\"background:rgba(0.0, 0.0, 0.0, 0.0)\"></th><th style=\"background:rgba(0.0, 0.0, 0.0, 0.0)\"></th><th style=\"background:rgba(0.0, 0.0, 0.0, 0.0)\"></th><th style=\"background:rgba(0.0, 0.0, 0.0, 0.0)\"></th><th style=\"background:rgba(0.0, 0.0, 0.0, 0.0)\"></th><th style=\"background:rgba(0.0, 0.0, 0.0, 0.0)\"></th></tr></table>\n",
       "</div>\n",
       "\n",
       "        </div>\n",
       "    </div>\n",
       "</div>\n",
       "</html>\n"
      ],
      "text/plain": [
       "<IPython.core.display.HTML object>"
      ]
     },
     "metadata": {},
     "output_type": "display_data"
    }
   ],
   "source": [
    "attributes.show()"
   ]
  },
  {
   "cell_type": "code",
   "execution_count": 24,
   "metadata": {},
   "outputs": [
    {
     "data": {
      "text/html": [
       "<br/><b>0th instance:</b><br/>\n",
       "<html>\n",
       "<div id=\"uhhjawxtsexlkcllerlg_viz_container\">\n",
       "    <div id=\"uhhjawxtsexlkcllerlg_content\" style=\"padding:15px;border-style:solid;margin:5px;\">\n",
       "        <div id = \"uhhjawxtsexlkcllerlg_saliency_plot_container\" class=\"uhhjawxtsexlkcllerlg_viz_container\" style=\"display:block\">\n",
       "            \n",
       "<div id=\"aupwcvyoimkxjjbzfcyl_saliency_plot\" class=\"aupwcvyoimkxjjbzfcyl_viz_content\">\n",
       "    <div style=\"margin:5px;font-family:sans-serif;font-weight:bold;\">\n",
       "        <span style=\"font-size: 20px;\">Target Saliency Heatmap</span>\n",
       "        <br>\n",
       "        x: Generated tokens, y: Attributed tokens\n",
       "    </div>\n",
       "    \n",
       "<table border=\"1\" cellpadding=\"5\" cellspacing=\"5\"\n",
       "    style=\"overflow-x:scroll;display:block;\">\n",
       "    <tr><th></th>\n",
       "<th>Ġgentlemen</th><th>,</th><th>ĠI</th><th>Ġam</th><th>Ġa</th><th>Ġmember</th><th>Ġof</th><th>Ġthe</th><th>ĠBoard</th></tr><tr><th>Hello</th><th style=\"background:rgba(255.0, 13.0, 87.0, 0.5900970489205783)\">0.302</th><th style=\"background:rgba(255.0, 13.0, 87.0, 0.4560903149138443)\">0.234</th><th style=\"background:rgba(255.0, 13.0, 87.0, 0.3299663299663301)\">0.171</th><th style=\"background:rgba(255.0, 13.0, 87.0, 0.48762131115072294)\">0.249</th><th style=\"background:rgba(255.0, 13.0, 87.0, 0.20384234501881549)\">0.106</th><th style=\"background:rgba(255.0, 13.0, 87.0, 0.39302832244008706)\">0.199</th><th style=\"background:rgba(255.0, 13.0, 87.0, 0.2590215884333532)\">0.133</th><th style=\"background:rgba(255.0, 13.0, 87.0, 0.18019409784115661)\">0.092</th><th style=\"background:rgba(255.0, 13.0, 87.0, 0.306318082788671)\">0.156</th></tr><tr><th>Ġladies</th><th style=\"background:rgba(255.0, 13.0, 87.0, 1.0)\">0.509</th><th style=\"background:rgba(255.0, 13.0, 87.0, 0.5585660526836996)\">0.283</th><th style=\"background:rgba(255.0, 13.0, 87.0, 0.44820756585462457)\">0.227</th><th style=\"background:rgba(255.0, 13.0, 87.0, 0.5743315508021392)\">0.292</th><th style=\"background:rgba(255.0, 13.0, 87.0, 0.22749059219647458)\">0.119</th><th style=\"background:rgba(255.0, 13.0, 87.0, 0.4797385620915033)\">0.243</th><th style=\"background:rgba(255.0, 13.0, 87.0, 0.2747870865517925)\">0.141</th><th style=\"background:rgba(255.0, 13.0, 87.0, 0.18019409784115661)\">0.093</th><th style=\"background:rgba(255.0, 13.0, 87.0, 0.29843533372945136)\">0.151</th></tr><tr><th>Ġand</th><th style=\"background:rgba(255.0, 13.0, 87.0, 0.3693800752624282)\">0.189</th><th style=\"background:rgba(255.0, 13.0, 87.0, 0.4087938205585263)\">0.21</th><th style=\"background:rgba(255.0, 13.0, 87.0, 0.41667656961774624)\">0.213</th><th style=\"background:rgba(255.0, 13.0, 87.0, 0.16442859972271742)\">0.085</th><th style=\"background:rgba(255.0, 13.0, 87.0, 0.5033868092691621)\">0.255</th><th style=\"background:rgba(255.0, 13.0, 87.0, 0.15654585066349747)\">0.082</th><th style=\"background:rgba(255.0, 13.0, 87.0, 0.17231134878193693)\">0.09</th><th style=\"background:rgba(255.0, 13.0, 87.0, 0.36149732620320857)\">0.185</th><th style=\"background:rgba(255.0, 13.0, 87.0, 0.14078035254505847)\">0.075</th></tr><tr><th>Ġgentlemen</th><th style=\"background:rgba(0.0, 0.0, 0.0, 0.0)\"></th><th style=\"background:rgba(255.0, 13.0, 87.0, 0.5349178055060405)\">0.274</th><th style=\"background:rgba(255.0, 13.0, 87.0, 0.29055258467023165)\">0.148</th><th style=\"background:rgba(255.0, 13.0, 87.0, 0.3693800752624282)\">0.189</th><th style=\"background:rgba(255.0, 13.0, 87.0, 0.1880768469003763)\">0.099</th><th style=\"background:rgba(255.0, 13.0, 87.0, 0.3772628243216479)\">0.195</th><th style=\"background:rgba(255.0, 13.0, 87.0, 0.2117250940780353)\">0.109</th><th style=\"background:rgba(255.0, 13.0, 87.0, 0.18019409784115661)\">0.094</th><th style=\"background:rgba(255.0, 13.0, 87.0, 0.306318082788671)\">0.156</th></tr><tr><th>,</th><th style=\"background:rgba(0.0, 0.0, 0.0, 0.0)\"></th><th style=\"background:rgba(0.0, 0.0, 0.0, 0.0)\"></th><th style=\"background:rgba(255.0, 13.0, 87.0, 0.4718558130322837)\">0.24</th><th style=\"background:rgba(255.0, 13.0, 87.0, 0.14078035254505847)\">0.073</th><th style=\"background:rgba(255.0, 13.0, 87.0, 0.43244206773618543)\">0.223</th><th style=\"background:rgba(255.0, 13.0, 87.0, 0.10924935630817992)\">0.057</th><th style=\"background:rgba(255.0, 13.0, 87.0, 0.14078035254505847)\">0.072</th><th style=\"background:rgba(255.0, 13.0, 87.0, 0.29843533372945136)\">0.154</th><th style=\"background:rgba(255.0, 13.0, 87.0, 0.10136660724896006)\">0.054</th></tr><tr><th>ĠI</th><th style=\"background:rgba(0.0, 0.0, 0.0, 0.0)\"></th><th style=\"background:rgba(0.0, 0.0, 0.0, 0.0)\"></th><th style=\"background:rgba(0.0, 0.0, 0.0, 0.0)\"></th><th style=\"background:rgba(255.0, 13.0, 87.0, 0.219607843137255)\">0.112</th><th style=\"background:rgba(255.0, 13.0, 87.0, 0.15654585066349747)\">0.083</th><th style=\"background:rgba(255.0, 13.0, 87.0, 0.1171321053673995)\">0.061</th><th style=\"background:rgba(255.0, 13.0, 87.0, 0.1171321053673995)\">0.062</th><th style=\"background:rgba(255.0, 13.0, 87.0, 0.08560110913052081)\">0.046</th><th style=\"background:rgba(255.0, 13.0, 87.0, 0.10136660724896006)\">0.054</th></tr><tr><th>Ġam</th><th style=\"background:rgba(0.0, 0.0, 0.0, 0.0)\"></th><th style=\"background:rgba(0.0, 0.0, 0.0, 0.0)\"></th><th style=\"background:rgba(0.0, 0.0, 0.0, 0.0)\"></th><th style=\"background:rgba(0.0, 0.0, 0.0, 0.0)\"></th><th style=\"background:rgba(255.0, 13.0, 87.0, 0.219607843137255)\">0.115</th><th style=\"background:rgba(255.0, 13.0, 87.0, 0.15654585066349747)\">0.08</th><th style=\"background:rgba(255.0, 13.0, 87.0, 0.10136660724896006)\">0.053</th><th style=\"background:rgba(255.0, 13.0, 87.0, 0.06195286195286207)\">0.034</th><th style=\"background:rgba(255.0, 13.0, 87.0, 0.09348385818974037)\">0.05</th></tr><tr><th>Ġa</th><th style=\"background:rgba(0.0, 0.0, 0.0, 0.0)\"></th><th style=\"background:rgba(0.0, 0.0, 0.0, 0.0)\"></th><th style=\"background:rgba(0.0, 0.0, 0.0, 0.0)\"></th><th style=\"background:rgba(0.0, 0.0, 0.0, 0.0)\"></th><th style=\"background:rgba(0.0, 0.0, 0.0, 0.0)\"></th><th style=\"background:rgba(255.0, 13.0, 87.0, 0.16442859972271742)\">0.084</th><th style=\"background:rgba(255.0, 13.0, 87.0, 0.16442859972271742)\">0.085</th><th style=\"background:rgba(255.0, 13.0, 87.0, 0.2511388393741335)\">0.131</th><th style=\"background:rgba(255.0, 13.0, 87.0, 0.10136660724896006)\">0.052</th></tr><tr><th>Ġmember</th><th style=\"background:rgba(0.0, 0.0, 0.0, 0.0)\"></th><th style=\"background:rgba(0.0, 0.0, 0.0, 0.0)\"></th><th style=\"background:rgba(0.0, 0.0, 0.0, 0.0)\"></th><th style=\"background:rgba(0.0, 0.0, 0.0, 0.0)\"></th><th style=\"background:rgba(0.0, 0.0, 0.0, 0.0)\"></th><th style=\"background:rgba(0.0, 0.0, 0.0, 0.0)\"></th><th style=\"background:rgba(255.0, 13.0, 87.0, 0.49550406020994264)\">0.254</th><th style=\"background:rgba(255.0, 13.0, 87.0, 0.17231134878193693)\">0.09</th><th style=\"background:rgba(255.0, 13.0, 87.0, 0.33784907902554967)\">0.172</th></tr><tr><th>Ġof</th><th style=\"background:rgba(0.0, 0.0, 0.0, 0.0)\"></th><th style=\"background:rgba(0.0, 0.0, 0.0, 0.0)\"></th><th style=\"background:rgba(0.0, 0.0, 0.0, 0.0)\"></th><th style=\"background:rgba(0.0, 0.0, 0.0, 0.0)\"></th><th style=\"background:rgba(0.0, 0.0, 0.0, 0.0)\"></th><th style=\"background:rgba(0.0, 0.0, 0.0, 0.0)\"></th><th style=\"background:rgba(0.0, 0.0, 0.0, 0.0)\"></th><th style=\"background:rgba(255.0, 13.0, 87.0, 0.15654585066349747)\">0.081</th><th style=\"background:rgba(255.0, 13.0, 87.0, 0.05407011289364243)\">0.029</th></tr><tr><th>Ġthe</th><th style=\"background:rgba(0.0, 0.0, 0.0, 0.0)\"></th><th style=\"background:rgba(0.0, 0.0, 0.0, 0.0)\"></th><th style=\"background:rgba(0.0, 0.0, 0.0, 0.0)\"></th><th style=\"background:rgba(0.0, 0.0, 0.0, 0.0)\"></th><th style=\"background:rgba(0.0, 0.0, 0.0, 0.0)\"></th><th style=\"background:rgba(0.0, 0.0, 0.0, 0.0)\"></th><th style=\"background:rgba(0.0, 0.0, 0.0, 0.0)\"></th><th style=\"background:rgba(0.0, 0.0, 0.0, 0.0)\"></th><th style=\"background:rgba(255.0, 13.0, 87.0, 0.09348385818974037)\">0.049</th></tr><tr><th>ĠBoard</th><th style=\"background:rgba(0.0, 0.0, 0.0, 0.0)\"></th><th style=\"background:rgba(0.0, 0.0, 0.0, 0.0)\"></th><th style=\"background:rgba(0.0, 0.0, 0.0, 0.0)\"></th><th style=\"background:rgba(0.0, 0.0, 0.0, 0.0)\"></th><th style=\"background:rgba(0.0, 0.0, 0.0, 0.0)\"></th><th style=\"background:rgba(0.0, 0.0, 0.0, 0.0)\"></th><th style=\"background:rgba(0.0, 0.0, 0.0, 0.0)\"></th><th style=\"background:rgba(0.0, 0.0, 0.0, 0.0)\"></th><th style=\"background:rgba(0.0, 0.0, 0.0, 0.0)\"></th></tr></table>\n",
       "</div>\n",
       "\n",
       "        </div>\n",
       "    </div>\n",
       "</div>\n",
       "</html>\n"
      ],
      "text/plain": [
       "<IPython.core.display.HTML object>"
      ]
     },
     "metadata": {},
     "output_type": "display_data"
    },
    {
     "data": {
      "text/plain": [
       "torch.Size([12, 9, 768])"
      ]
     },
     "execution_count": 24,
     "metadata": {},
     "output_type": "execute_result"
    }
   ],
   "source": [
    "attributes.show()\n",
    "attributes.sequence_attributions[0].target_attributions.shape"
   ]
  },
  {
   "cell_type": "code",
   "execution_count": 27,
   "metadata": {},
   "outputs": [
    {
     "data": {
      "text/plain": [
       "tensor([[[1.0344e-02, 2.7077e-02, 1.0581e-02,  ..., 5.1415e-02,\n",
       "          2.6066e-02, 7.5217e-02],\n",
       "         [4.2698e-03, 4.3943e-03, 3.8190e-03,  ..., 4.6876e-03,\n",
       "          2.8288e-03, 1.5631e-02],\n",
       "         [7.5155e-04, 5.1236e-04, 9.2103e-04,  ..., 1.3987e-03,\n",
       "          6.1990e-04, 4.2403e-03],\n",
       "         ...,\n",
       "         [7.8875e-04, 5.2713e-05, 2.5445e-04,  ..., 1.9343e-05,\n",
       "          1.5100e-04, 2.7782e-04],\n",
       "         [6.5900e-03, 1.3054e-05, 6.9487e-04,  ..., 3.5940e-04,\n",
       "          8.0766e-03, 5.0390e-03],\n",
       "         [2.6404e-03, 2.4977e-04, 4.3185e-04,  ..., 1.0562e-03,\n",
       "          1.7282e-03, 3.5987e-03]],\n",
       "\n",
       "        [[6.6942e-02, 2.7756e-02, 2.2101e-03,  ..., 2.0206e-01,\n",
       "          1.2519e-01, 3.5930e-04],\n",
       "         [3.8699e-03, 2.1068e-03, 4.4965e-03,  ..., 1.3168e-02,\n",
       "          9.9988e-03, 4.3497e-03],\n",
       "         [1.2809e-03, 2.1093e-04, 1.7163e-03,  ..., 1.0267e-02,\n",
       "          8.3779e-03, 1.9233e-03],\n",
       "         ...,\n",
       "         [9.6775e-04, 2.1327e-04, 3.8011e-04,  ..., 4.7221e-04,\n",
       "          8.9391e-04, 4.7856e-04],\n",
       "         [4.6022e-03, 5.2206e-03, 7.3531e-03,  ..., 3.1270e-03,\n",
       "          8.0728e-03, 1.0716e-03],\n",
       "         [1.6774e-03, 7.3726e-04, 1.2301e-03,  ..., 2.4850e-03,\n",
       "          6.4125e-04, 1.9115e-03]],\n",
       "\n",
       "        [[5.7493e-03, 3.0889e-02, 2.7294e-02,  ..., 2.6940e-02,\n",
       "          1.6663e-02, 2.4439e-02],\n",
       "         [2.1949e-03, 2.6252e-03, 2.4393e-04,  ..., 4.8349e-03,\n",
       "          8.4261e-04, 8.6778e-03],\n",
       "         [1.9744e-03, 1.6441e-03, 1.4732e-03,  ..., 4.5797e-03,\n",
       "          1.1113e-03, 4.9877e-03],\n",
       "         ...,\n",
       "         [3.7459e-04, 1.2025e-04, 1.0385e-04,  ..., 2.9341e-04,\n",
       "          9.5162e-06, 2.4127e-04],\n",
       "         [7.6527e-03, 1.3260e-02, 8.0754e-03,  ..., 1.1331e-02,\n",
       "          9.5039e-04, 1.9494e-02],\n",
       "         [8.0394e-04, 4.9100e-04, 9.7769e-04,  ..., 1.2405e-03,\n",
       "          6.4561e-04, 1.0177e-03]],\n",
       "\n",
       "        ...,\n",
       "\n",
       "        [[       nan,        nan,        nan,  ...,        nan,\n",
       "                 nan,        nan],\n",
       "         [       nan,        nan,        nan,  ...,        nan,\n",
       "                 nan,        nan],\n",
       "         [       nan,        nan,        nan,  ...,        nan,\n",
       "                 nan,        nan],\n",
       "         ...,\n",
       "         [       nan,        nan,        nan,  ...,        nan,\n",
       "                 nan,        nan],\n",
       "         [5.8697e-03, 6.6813e-04, 8.8124e-04,  ..., 3.0993e-04,\n",
       "          3.0894e-04, 5.5867e-03],\n",
       "         [4.2749e-05, 2.9711e-04, 6.0982e-04,  ..., 3.2734e-04,\n",
       "          1.5883e-04, 2.4029e-04]],\n",
       "\n",
       "        [[       nan,        nan,        nan,  ...,        nan,\n",
       "                 nan,        nan],\n",
       "         [       nan,        nan,        nan,  ...,        nan,\n",
       "                 nan,        nan],\n",
       "         [       nan,        nan,        nan,  ...,        nan,\n",
       "                 nan,        nan],\n",
       "         ...,\n",
       "         [       nan,        nan,        nan,  ...,        nan,\n",
       "                 nan,        nan],\n",
       "         [       nan,        nan,        nan,  ...,        nan,\n",
       "                 nan,        nan],\n",
       "         [3.2156e-04, 2.3517e-04, 3.0603e-04,  ..., 1.7321e-04,\n",
       "          1.1095e-04, 2.5140e-04]],\n",
       "\n",
       "        [[       nan,        nan,        nan,  ...,        nan,\n",
       "                 nan,        nan],\n",
       "         [       nan,        nan,        nan,  ...,        nan,\n",
       "                 nan,        nan],\n",
       "         [       nan,        nan,        nan,  ...,        nan,\n",
       "                 nan,        nan],\n",
       "         ...,\n",
       "         [       nan,        nan,        nan,  ...,        nan,\n",
       "                 nan,        nan],\n",
       "         [       nan,        nan,        nan,  ...,        nan,\n",
       "                 nan,        nan],\n",
       "         [       nan,        nan,        nan,  ...,        nan,\n",
       "                 nan,        nan]]])"
      ]
     },
     "execution_count": 27,
     "metadata": {},
     "output_type": "execute_result"
    }
   ],
   "source": [
    "attributes.sequence_attributions[0].target_attributions"
   ]
  },
  {
   "cell_type": "code",
   "execution_count": 30,
   "metadata": {},
   "outputs": [],
   "source": [
    "targets = attributes.sequence_attributions[0]"
   ]
  },
  {
   "cell_type": "code",
   "execution_count": 89,
   "metadata": {},
   "outputs": [],
   "source": [
    "l = targets.aggregate().target_attributions.detach().numpy()"
   ]
  },
  {
   "cell_type": "code",
   "execution_count": 90,
   "metadata": {},
   "outputs": [
    {
     "data": {
      "text/plain": [
       "array([[0.30167693, 0.23359624, 0.17100681, 0.24863277, 0.10623145,\n",
       "        0.19914265, 0.13328516, 0.0917097 , 0.15601338],\n",
       "       [0.5091447 , 0.2826379 , 0.2268443 , 0.29196757, 0.11906777,\n",
       "        0.2434777 , 0.14066824, 0.09301255, 0.15149476],\n",
       "       [0.18917838, 0.20988022, 0.2132668 , 0.08470584, 0.25459957,\n",
       "        0.0818764 , 0.09034701, 0.1851784 , 0.07463957],\n",
       "       [0.        , 0.27388567, 0.14846985, 0.18934165, 0.09887534,\n",
       "        0.19452916, 0.10891982, 0.09395655, 0.1564939 ],\n",
       "       [0.        , 0.        , 0.24041225, 0.07292711, 0.2227202 ,\n",
       "        0.05652193, 0.0717023 , 0.15405983, 0.05403432],\n",
       "       [0.        , 0.        , 0.        , 0.11242503, 0.08330294,\n",
       "        0.06119951, 0.06225747, 0.04638188, 0.0535332 ],\n",
       "       [0.        , 0.        , 0.        , 0.        , 0.11520271,\n",
       "        0.07956768, 0.05323697, 0.03384377, 0.05034051],\n",
       "       [0.        , 0.        , 0.        , 0.        , 0.        ,\n",
       "        0.08368495, 0.08525425, 0.13059467, 0.05248461],\n",
       "       [0.        , 0.        , 0.        , 0.        , 0.        ,\n",
       "        0.        , 0.25432876, 0.09016391, 0.17241491],\n",
       "       [0.        , 0.        , 0.        , 0.        , 0.        ,\n",
       "        0.        , 0.        , 0.08109881, 0.02917651],\n",
       "       [0.        , 0.        , 0.        , 0.        , 0.        ,\n",
       "        0.        , 0.        , 0.        , 0.04937442],\n",
       "       [0.        , 0.        , 0.        , 0.        , 0.        ,\n",
       "        0.        , 0.        , 0.        , 0.        ]], dtype=float32)"
      ]
     },
     "execution_count": 90,
     "metadata": {},
     "output_type": "execute_result"
    }
   ],
   "source": [
    "import numpy\n",
    "q = numpy.nan_to_num(l)\n",
    "q"
   ]
  },
  {
   "cell_type": "code",
   "execution_count": 91,
   "metadata": {},
   "outputs": [],
   "source": [
    "import requests\n",
    "\n",
    "url = \"http://localhost:4000\"\n",
    "\n",
    "import numpy\n",
    "import json\n",
    "\n",
    "\n",
    "dump = {\n",
    "    \"model\": name,\n",
    "    \"text\": \"Hello ladies and\",\n",
    "    \"attributes\": q\n",
    "}"
   ]
  },
  {
   "cell_type": "code",
   "execution_count": 92,
   "metadata": {},
   "outputs": [],
   "source": [
    "class NumpyEncoder(json.JSONEncoder):\n",
    "    \"\"\" Special json encoder for numpy types \"\"\"\n",
    "    def default(self, obj):\n",
    "        if isinstance(obj, (numpy.int_, numpy.intc, numpy.intp, numpy.int8,\n",
    "            numpy.int16, numpy.int32, numpy.int64, numpy.uint8,\n",
    "            numpy.uint16,numpy.uint32, numpy.uint64)):\n",
    "            return int(obj)\n",
    "        elif isinstance(obj, (numpy.float_, numpy.float16, numpy.float32, \n",
    "            numpy.float64)):\n",
    "            return float(obj)\n",
    "        elif isinstance(obj,(numpy.ndarray,)): #### This is the fix\n",
    "            return obj.tolist()\n",
    "        return json.JSONEncoder.default(self, obj)\n",
    "    \n",
    "dump =  json.dumps(dump)"
   ]
  },
  {
   "cell_type": "code",
   "execution_count": 93,
   "metadata": {},
   "outputs": [],
   "source": [
    "def send_body(body):\n",
    "    # posting it to the xai-platform\n",
    "    u = f\"{url}/runs\"\n",
    "    requests.post(u, data= body, headers={'Content-Type': 'application/json'})\n",
    "\n",
    "send_body(dump)"
   ]
  },
  {
   "cell_type": "code",
   "execution_count": 72,
   "metadata": {},
   "outputs": [],
   "source": []
  },
  {
   "cell_type": "code",
   "execution_count": 73,
   "metadata": {},
   "outputs": [
    {
     "ename": "ConnectionError",
     "evalue": "('Connection aborted.', RemoteDisconnected('Remote end closed connection without response'))",
     "output_type": "error",
     "traceback": [
      "\u001b[0;31m---------------------------------------------------------------------------\u001b[0m",
      "\u001b[0;31mRemoteDisconnected\u001b[0m                        Traceback (most recent call last)",
      "File \u001b[0;32m~/miniconda3/envs/phoenix/lib/python3.9/site-packages/urllib3/connectionpool.py:790\u001b[0m, in \u001b[0;36mHTTPConnectionPool.urlopen\u001b[0;34m(self, method, url, body, headers, retries, redirect, assert_same_host, timeout, pool_timeout, release_conn, chunked, body_pos, preload_content, decode_content, **response_kw)\u001b[0m\n\u001b[1;32m    789\u001b[0m \u001b[38;5;66;03m# Make the request on the HTTPConnection object\u001b[39;00m\n\u001b[0;32m--> 790\u001b[0m response \u001b[38;5;241m=\u001b[39m \u001b[38;5;28;43mself\u001b[39;49m\u001b[38;5;241;43m.\u001b[39;49m\u001b[43m_make_request\u001b[49m\u001b[43m(\u001b[49m\n\u001b[1;32m    791\u001b[0m \u001b[43m    \u001b[49m\u001b[43mconn\u001b[49m\u001b[43m,\u001b[49m\n\u001b[1;32m    792\u001b[0m \u001b[43m    \u001b[49m\u001b[43mmethod\u001b[49m\u001b[43m,\u001b[49m\n\u001b[1;32m    793\u001b[0m \u001b[43m    \u001b[49m\u001b[43murl\u001b[49m\u001b[43m,\u001b[49m\n\u001b[1;32m    794\u001b[0m \u001b[43m    \u001b[49m\u001b[43mtimeout\u001b[49m\u001b[38;5;241;43m=\u001b[39;49m\u001b[43mtimeout_obj\u001b[49m\u001b[43m,\u001b[49m\n\u001b[1;32m    795\u001b[0m \u001b[43m    \u001b[49m\u001b[43mbody\u001b[49m\u001b[38;5;241;43m=\u001b[39;49m\u001b[43mbody\u001b[49m\u001b[43m,\u001b[49m\n\u001b[1;32m    796\u001b[0m \u001b[43m    \u001b[49m\u001b[43mheaders\u001b[49m\u001b[38;5;241;43m=\u001b[39;49m\u001b[43mheaders\u001b[49m\u001b[43m,\u001b[49m\n\u001b[1;32m    797\u001b[0m \u001b[43m    \u001b[49m\u001b[43mchunked\u001b[49m\u001b[38;5;241;43m=\u001b[39;49m\u001b[43mchunked\u001b[49m\u001b[43m,\u001b[49m\n\u001b[1;32m    798\u001b[0m \u001b[43m    \u001b[49m\u001b[43mretries\u001b[49m\u001b[38;5;241;43m=\u001b[39;49m\u001b[43mretries\u001b[49m\u001b[43m,\u001b[49m\n\u001b[1;32m    799\u001b[0m \u001b[43m    \u001b[49m\u001b[43mresponse_conn\u001b[49m\u001b[38;5;241;43m=\u001b[39;49m\u001b[43mresponse_conn\u001b[49m\u001b[43m,\u001b[49m\n\u001b[1;32m    800\u001b[0m \u001b[43m    \u001b[49m\u001b[43mpreload_content\u001b[49m\u001b[38;5;241;43m=\u001b[39;49m\u001b[43mpreload_content\u001b[49m\u001b[43m,\u001b[49m\n\u001b[1;32m    801\u001b[0m \u001b[43m    \u001b[49m\u001b[43mdecode_content\u001b[49m\u001b[38;5;241;43m=\u001b[39;49m\u001b[43mdecode_content\u001b[49m\u001b[43m,\u001b[49m\n\u001b[1;32m    802\u001b[0m \u001b[43m    \u001b[49m\u001b[38;5;241;43m*\u001b[39;49m\u001b[38;5;241;43m*\u001b[39;49m\u001b[43mresponse_kw\u001b[49m\u001b[43m,\u001b[49m\n\u001b[1;32m    803\u001b[0m \u001b[43m\u001b[49m\u001b[43m)\u001b[49m\n\u001b[1;32m    805\u001b[0m \u001b[38;5;66;03m# Everything went great!\u001b[39;00m\n",
      "File \u001b[0;32m~/miniconda3/envs/phoenix/lib/python3.9/site-packages/urllib3/connectionpool.py:536\u001b[0m, in \u001b[0;36mHTTPConnectionPool._make_request\u001b[0;34m(self, conn, method, url, body, headers, retries, timeout, chunked, response_conn, preload_content, decode_content, enforce_content_length)\u001b[0m\n\u001b[1;32m    535\u001b[0m \u001b[38;5;28;01mtry\u001b[39;00m:\n\u001b[0;32m--> 536\u001b[0m     response \u001b[38;5;241m=\u001b[39m \u001b[43mconn\u001b[49m\u001b[38;5;241;43m.\u001b[39;49m\u001b[43mgetresponse\u001b[49m\u001b[43m(\u001b[49m\u001b[43m)\u001b[49m\n\u001b[1;32m    537\u001b[0m \u001b[38;5;28;01mexcept\u001b[39;00m (BaseSSLError, \u001b[38;5;167;01mOSError\u001b[39;00m) \u001b[38;5;28;01mas\u001b[39;00m e:\n",
      "File \u001b[0;32m~/miniconda3/envs/phoenix/lib/python3.9/site-packages/urllib3/connection.py:461\u001b[0m, in \u001b[0;36mHTTPConnection.getresponse\u001b[0;34m(self)\u001b[0m\n\u001b[1;32m    460\u001b[0m \u001b[38;5;66;03m# Get the response from http.client.HTTPConnection\u001b[39;00m\n\u001b[0;32m--> 461\u001b[0m httplib_response \u001b[38;5;241m=\u001b[39m \u001b[38;5;28;43msuper\u001b[39;49m\u001b[43m(\u001b[49m\u001b[43m)\u001b[49m\u001b[38;5;241;43m.\u001b[39;49m\u001b[43mgetresponse\u001b[49m\u001b[43m(\u001b[49m\u001b[43m)\u001b[49m\n\u001b[1;32m    463\u001b[0m \u001b[38;5;28;01mtry\u001b[39;00m:\n",
      "File \u001b[0;32m~/miniconda3/envs/phoenix/lib/python3.9/http/client.py:1377\u001b[0m, in \u001b[0;36mHTTPConnection.getresponse\u001b[0;34m(self)\u001b[0m\n\u001b[1;32m   1376\u001b[0m \u001b[38;5;28;01mtry\u001b[39;00m:\n\u001b[0;32m-> 1377\u001b[0m     \u001b[43mresponse\u001b[49m\u001b[38;5;241;43m.\u001b[39;49m\u001b[43mbegin\u001b[49m\u001b[43m(\u001b[49m\u001b[43m)\u001b[49m\n\u001b[1;32m   1378\u001b[0m \u001b[38;5;28;01mexcept\u001b[39;00m \u001b[38;5;167;01mConnectionError\u001b[39;00m:\n",
      "File \u001b[0;32m~/miniconda3/envs/phoenix/lib/python3.9/http/client.py:320\u001b[0m, in \u001b[0;36mHTTPResponse.begin\u001b[0;34m(self)\u001b[0m\n\u001b[1;32m    319\u001b[0m \u001b[38;5;28;01mwhile\u001b[39;00m \u001b[38;5;28;01mTrue\u001b[39;00m:\n\u001b[0;32m--> 320\u001b[0m     version, status, reason \u001b[38;5;241m=\u001b[39m \u001b[38;5;28;43mself\u001b[39;49m\u001b[38;5;241;43m.\u001b[39;49m\u001b[43m_read_status\u001b[49m\u001b[43m(\u001b[49m\u001b[43m)\u001b[49m\n\u001b[1;32m    321\u001b[0m     \u001b[38;5;28;01mif\u001b[39;00m status \u001b[38;5;241m!=\u001b[39m CONTINUE:\n",
      "File \u001b[0;32m~/miniconda3/envs/phoenix/lib/python3.9/http/client.py:289\u001b[0m, in \u001b[0;36mHTTPResponse._read_status\u001b[0;34m(self)\u001b[0m\n\u001b[1;32m    286\u001b[0m \u001b[38;5;28;01mif\u001b[39;00m \u001b[38;5;129;01mnot\u001b[39;00m line:\n\u001b[1;32m    287\u001b[0m     \u001b[38;5;66;03m# Presumably, the server closed the connection before\u001b[39;00m\n\u001b[1;32m    288\u001b[0m     \u001b[38;5;66;03m# sending a valid response.\u001b[39;00m\n\u001b[0;32m--> 289\u001b[0m     \u001b[38;5;28;01mraise\u001b[39;00m RemoteDisconnected(\u001b[38;5;124m\"\u001b[39m\u001b[38;5;124mRemote end closed connection without\u001b[39m\u001b[38;5;124m\"\u001b[39m\n\u001b[1;32m    290\u001b[0m                              \u001b[38;5;124m\"\u001b[39m\u001b[38;5;124m response\u001b[39m\u001b[38;5;124m\"\u001b[39m)\n\u001b[1;32m    291\u001b[0m \u001b[38;5;28;01mtry\u001b[39;00m:\n",
      "\u001b[0;31mRemoteDisconnected\u001b[0m: Remote end closed connection without response",
      "\nDuring handling of the above exception, another exception occurred:\n",
      "\u001b[0;31mProtocolError\u001b[0m                             Traceback (most recent call last)",
      "File \u001b[0;32m~/miniconda3/envs/phoenix/lib/python3.9/site-packages/requests/adapters.py:486\u001b[0m, in \u001b[0;36mHTTPAdapter.send\u001b[0;34m(self, request, stream, timeout, verify, cert, proxies)\u001b[0m\n\u001b[1;32m    485\u001b[0m \u001b[38;5;28;01mtry\u001b[39;00m:\n\u001b[0;32m--> 486\u001b[0m     resp \u001b[38;5;241m=\u001b[39m \u001b[43mconn\u001b[49m\u001b[38;5;241;43m.\u001b[39;49m\u001b[43murlopen\u001b[49m\u001b[43m(\u001b[49m\n\u001b[1;32m    487\u001b[0m \u001b[43m        \u001b[49m\u001b[43mmethod\u001b[49m\u001b[38;5;241;43m=\u001b[39;49m\u001b[43mrequest\u001b[49m\u001b[38;5;241;43m.\u001b[39;49m\u001b[43mmethod\u001b[49m\u001b[43m,\u001b[49m\n\u001b[1;32m    488\u001b[0m \u001b[43m        \u001b[49m\u001b[43murl\u001b[49m\u001b[38;5;241;43m=\u001b[39;49m\u001b[43murl\u001b[49m\u001b[43m,\u001b[49m\n\u001b[1;32m    489\u001b[0m \u001b[43m        \u001b[49m\u001b[43mbody\u001b[49m\u001b[38;5;241;43m=\u001b[39;49m\u001b[43mrequest\u001b[49m\u001b[38;5;241;43m.\u001b[39;49m\u001b[43mbody\u001b[49m\u001b[43m,\u001b[49m\n\u001b[1;32m    490\u001b[0m \u001b[43m        \u001b[49m\u001b[43mheaders\u001b[49m\u001b[38;5;241;43m=\u001b[39;49m\u001b[43mrequest\u001b[49m\u001b[38;5;241;43m.\u001b[39;49m\u001b[43mheaders\u001b[49m\u001b[43m,\u001b[49m\n\u001b[1;32m    491\u001b[0m \u001b[43m        \u001b[49m\u001b[43mredirect\u001b[49m\u001b[38;5;241;43m=\u001b[39;49m\u001b[38;5;28;43;01mFalse\u001b[39;49;00m\u001b[43m,\u001b[49m\n\u001b[1;32m    492\u001b[0m \u001b[43m        \u001b[49m\u001b[43massert_same_host\u001b[49m\u001b[38;5;241;43m=\u001b[39;49m\u001b[38;5;28;43;01mFalse\u001b[39;49;00m\u001b[43m,\u001b[49m\n\u001b[1;32m    493\u001b[0m \u001b[43m        \u001b[49m\u001b[43mpreload_content\u001b[49m\u001b[38;5;241;43m=\u001b[39;49m\u001b[38;5;28;43;01mFalse\u001b[39;49;00m\u001b[43m,\u001b[49m\n\u001b[1;32m    494\u001b[0m \u001b[43m        \u001b[49m\u001b[43mdecode_content\u001b[49m\u001b[38;5;241;43m=\u001b[39;49m\u001b[38;5;28;43;01mFalse\u001b[39;49;00m\u001b[43m,\u001b[49m\n\u001b[1;32m    495\u001b[0m \u001b[43m        \u001b[49m\u001b[43mretries\u001b[49m\u001b[38;5;241;43m=\u001b[39;49m\u001b[38;5;28;43mself\u001b[39;49m\u001b[38;5;241;43m.\u001b[39;49m\u001b[43mmax_retries\u001b[49m\u001b[43m,\u001b[49m\n\u001b[1;32m    496\u001b[0m \u001b[43m        \u001b[49m\u001b[43mtimeout\u001b[49m\u001b[38;5;241;43m=\u001b[39;49m\u001b[43mtimeout\u001b[49m\u001b[43m,\u001b[49m\n\u001b[1;32m    497\u001b[0m \u001b[43m        \u001b[49m\u001b[43mchunked\u001b[49m\u001b[38;5;241;43m=\u001b[39;49m\u001b[43mchunked\u001b[49m\u001b[43m,\u001b[49m\n\u001b[1;32m    498\u001b[0m \u001b[43m    \u001b[49m\u001b[43m)\u001b[49m\n\u001b[1;32m    500\u001b[0m \u001b[38;5;28;01mexcept\u001b[39;00m (ProtocolError, \u001b[38;5;167;01mOSError\u001b[39;00m) \u001b[38;5;28;01mas\u001b[39;00m err:\n",
      "File \u001b[0;32m~/miniconda3/envs/phoenix/lib/python3.9/site-packages/urllib3/connectionpool.py:844\u001b[0m, in \u001b[0;36mHTTPConnectionPool.urlopen\u001b[0;34m(self, method, url, body, headers, retries, redirect, assert_same_host, timeout, pool_timeout, release_conn, chunked, body_pos, preload_content, decode_content, **response_kw)\u001b[0m\n\u001b[1;32m    842\u001b[0m     new_e \u001b[38;5;241m=\u001b[39m ProtocolError(\u001b[38;5;124m\"\u001b[39m\u001b[38;5;124mConnection aborted.\u001b[39m\u001b[38;5;124m\"\u001b[39m, new_e)\n\u001b[0;32m--> 844\u001b[0m retries \u001b[38;5;241m=\u001b[39m \u001b[43mretries\u001b[49m\u001b[38;5;241;43m.\u001b[39;49m\u001b[43mincrement\u001b[49m\u001b[43m(\u001b[49m\n\u001b[1;32m    845\u001b[0m \u001b[43m    \u001b[49m\u001b[43mmethod\u001b[49m\u001b[43m,\u001b[49m\u001b[43m \u001b[49m\u001b[43murl\u001b[49m\u001b[43m,\u001b[49m\u001b[43m \u001b[49m\u001b[43merror\u001b[49m\u001b[38;5;241;43m=\u001b[39;49m\u001b[43mnew_e\u001b[49m\u001b[43m,\u001b[49m\u001b[43m \u001b[49m\u001b[43m_pool\u001b[49m\u001b[38;5;241;43m=\u001b[39;49m\u001b[38;5;28;43mself\u001b[39;49m\u001b[43m,\u001b[49m\u001b[43m \u001b[49m\u001b[43m_stacktrace\u001b[49m\u001b[38;5;241;43m=\u001b[39;49m\u001b[43msys\u001b[49m\u001b[38;5;241;43m.\u001b[39;49m\u001b[43mexc_info\u001b[49m\u001b[43m(\u001b[49m\u001b[43m)\u001b[49m\u001b[43m[\u001b[49m\u001b[38;5;241;43m2\u001b[39;49m\u001b[43m]\u001b[49m\n\u001b[1;32m    846\u001b[0m \u001b[43m\u001b[49m\u001b[43m)\u001b[49m\n\u001b[1;32m    847\u001b[0m retries\u001b[38;5;241m.\u001b[39msleep()\n",
      "File \u001b[0;32m~/miniconda3/envs/phoenix/lib/python3.9/site-packages/urllib3/util/retry.py:470\u001b[0m, in \u001b[0;36mRetry.increment\u001b[0;34m(self, method, url, response, error, _pool, _stacktrace)\u001b[0m\n\u001b[1;32m    469\u001b[0m \u001b[38;5;28;01mif\u001b[39;00m read \u001b[38;5;129;01mis\u001b[39;00m \u001b[38;5;28;01mFalse\u001b[39;00m \u001b[38;5;129;01mor\u001b[39;00m method \u001b[38;5;129;01mis\u001b[39;00m \u001b[38;5;28;01mNone\u001b[39;00m \u001b[38;5;129;01mor\u001b[39;00m \u001b[38;5;129;01mnot\u001b[39;00m \u001b[38;5;28mself\u001b[39m\u001b[38;5;241m.\u001b[39m_is_method_retryable(method):\n\u001b[0;32m--> 470\u001b[0m     \u001b[38;5;28;01mraise\u001b[39;00m \u001b[43mreraise\u001b[49m\u001b[43m(\u001b[49m\u001b[38;5;28;43mtype\u001b[39;49m\u001b[43m(\u001b[49m\u001b[43merror\u001b[49m\u001b[43m)\u001b[49m\u001b[43m,\u001b[49m\u001b[43m \u001b[49m\u001b[43merror\u001b[49m\u001b[43m,\u001b[49m\u001b[43m \u001b[49m\u001b[43m_stacktrace\u001b[49m\u001b[43m)\u001b[49m\n\u001b[1;32m    471\u001b[0m \u001b[38;5;28;01melif\u001b[39;00m read \u001b[38;5;129;01mis\u001b[39;00m \u001b[38;5;129;01mnot\u001b[39;00m \u001b[38;5;28;01mNone\u001b[39;00m:\n",
      "File \u001b[0;32m~/miniconda3/envs/phoenix/lib/python3.9/site-packages/urllib3/util/util.py:38\u001b[0m, in \u001b[0;36mreraise\u001b[0;34m(tp, value, tb)\u001b[0m\n\u001b[1;32m     37\u001b[0m \u001b[38;5;28;01mif\u001b[39;00m value\u001b[38;5;241m.\u001b[39m__traceback__ \u001b[38;5;129;01mis\u001b[39;00m \u001b[38;5;129;01mnot\u001b[39;00m tb:\n\u001b[0;32m---> 38\u001b[0m     \u001b[38;5;28;01mraise\u001b[39;00m value\u001b[38;5;241m.\u001b[39mwith_traceback(tb)\n\u001b[1;32m     39\u001b[0m \u001b[38;5;28;01mraise\u001b[39;00m value\n",
      "File \u001b[0;32m~/miniconda3/envs/phoenix/lib/python3.9/site-packages/urllib3/connectionpool.py:790\u001b[0m, in \u001b[0;36mHTTPConnectionPool.urlopen\u001b[0;34m(self, method, url, body, headers, retries, redirect, assert_same_host, timeout, pool_timeout, release_conn, chunked, body_pos, preload_content, decode_content, **response_kw)\u001b[0m\n\u001b[1;32m    789\u001b[0m \u001b[38;5;66;03m# Make the request on the HTTPConnection object\u001b[39;00m\n\u001b[0;32m--> 790\u001b[0m response \u001b[38;5;241m=\u001b[39m \u001b[38;5;28;43mself\u001b[39;49m\u001b[38;5;241;43m.\u001b[39;49m\u001b[43m_make_request\u001b[49m\u001b[43m(\u001b[49m\n\u001b[1;32m    791\u001b[0m \u001b[43m    \u001b[49m\u001b[43mconn\u001b[49m\u001b[43m,\u001b[49m\n\u001b[1;32m    792\u001b[0m \u001b[43m    \u001b[49m\u001b[43mmethod\u001b[49m\u001b[43m,\u001b[49m\n\u001b[1;32m    793\u001b[0m \u001b[43m    \u001b[49m\u001b[43murl\u001b[49m\u001b[43m,\u001b[49m\n\u001b[1;32m    794\u001b[0m \u001b[43m    \u001b[49m\u001b[43mtimeout\u001b[49m\u001b[38;5;241;43m=\u001b[39;49m\u001b[43mtimeout_obj\u001b[49m\u001b[43m,\u001b[49m\n\u001b[1;32m    795\u001b[0m \u001b[43m    \u001b[49m\u001b[43mbody\u001b[49m\u001b[38;5;241;43m=\u001b[39;49m\u001b[43mbody\u001b[49m\u001b[43m,\u001b[49m\n\u001b[1;32m    796\u001b[0m \u001b[43m    \u001b[49m\u001b[43mheaders\u001b[49m\u001b[38;5;241;43m=\u001b[39;49m\u001b[43mheaders\u001b[49m\u001b[43m,\u001b[49m\n\u001b[1;32m    797\u001b[0m \u001b[43m    \u001b[49m\u001b[43mchunked\u001b[49m\u001b[38;5;241;43m=\u001b[39;49m\u001b[43mchunked\u001b[49m\u001b[43m,\u001b[49m\n\u001b[1;32m    798\u001b[0m \u001b[43m    \u001b[49m\u001b[43mretries\u001b[49m\u001b[38;5;241;43m=\u001b[39;49m\u001b[43mretries\u001b[49m\u001b[43m,\u001b[49m\n\u001b[1;32m    799\u001b[0m \u001b[43m    \u001b[49m\u001b[43mresponse_conn\u001b[49m\u001b[38;5;241;43m=\u001b[39;49m\u001b[43mresponse_conn\u001b[49m\u001b[43m,\u001b[49m\n\u001b[1;32m    800\u001b[0m \u001b[43m    \u001b[49m\u001b[43mpreload_content\u001b[49m\u001b[38;5;241;43m=\u001b[39;49m\u001b[43mpreload_content\u001b[49m\u001b[43m,\u001b[49m\n\u001b[1;32m    801\u001b[0m \u001b[43m    \u001b[49m\u001b[43mdecode_content\u001b[49m\u001b[38;5;241;43m=\u001b[39;49m\u001b[43mdecode_content\u001b[49m\u001b[43m,\u001b[49m\n\u001b[1;32m    802\u001b[0m \u001b[43m    \u001b[49m\u001b[38;5;241;43m*\u001b[39;49m\u001b[38;5;241;43m*\u001b[39;49m\u001b[43mresponse_kw\u001b[49m\u001b[43m,\u001b[49m\n\u001b[1;32m    803\u001b[0m \u001b[43m\u001b[49m\u001b[43m)\u001b[49m\n\u001b[1;32m    805\u001b[0m \u001b[38;5;66;03m# Everything went great!\u001b[39;00m\n",
      "File \u001b[0;32m~/miniconda3/envs/phoenix/lib/python3.9/site-packages/urllib3/connectionpool.py:536\u001b[0m, in \u001b[0;36mHTTPConnectionPool._make_request\u001b[0;34m(self, conn, method, url, body, headers, retries, timeout, chunked, response_conn, preload_content, decode_content, enforce_content_length)\u001b[0m\n\u001b[1;32m    535\u001b[0m \u001b[38;5;28;01mtry\u001b[39;00m:\n\u001b[0;32m--> 536\u001b[0m     response \u001b[38;5;241m=\u001b[39m \u001b[43mconn\u001b[49m\u001b[38;5;241;43m.\u001b[39;49m\u001b[43mgetresponse\u001b[49m\u001b[43m(\u001b[49m\u001b[43m)\u001b[49m\n\u001b[1;32m    537\u001b[0m \u001b[38;5;28;01mexcept\u001b[39;00m (BaseSSLError, \u001b[38;5;167;01mOSError\u001b[39;00m) \u001b[38;5;28;01mas\u001b[39;00m e:\n",
      "File \u001b[0;32m~/miniconda3/envs/phoenix/lib/python3.9/site-packages/urllib3/connection.py:461\u001b[0m, in \u001b[0;36mHTTPConnection.getresponse\u001b[0;34m(self)\u001b[0m\n\u001b[1;32m    460\u001b[0m \u001b[38;5;66;03m# Get the response from http.client.HTTPConnection\u001b[39;00m\n\u001b[0;32m--> 461\u001b[0m httplib_response \u001b[38;5;241m=\u001b[39m \u001b[38;5;28;43msuper\u001b[39;49m\u001b[43m(\u001b[49m\u001b[43m)\u001b[49m\u001b[38;5;241;43m.\u001b[39;49m\u001b[43mgetresponse\u001b[49m\u001b[43m(\u001b[49m\u001b[43m)\u001b[49m\n\u001b[1;32m    463\u001b[0m \u001b[38;5;28;01mtry\u001b[39;00m:\n",
      "File \u001b[0;32m~/miniconda3/envs/phoenix/lib/python3.9/http/client.py:1377\u001b[0m, in \u001b[0;36mHTTPConnection.getresponse\u001b[0;34m(self)\u001b[0m\n\u001b[1;32m   1376\u001b[0m \u001b[38;5;28;01mtry\u001b[39;00m:\n\u001b[0;32m-> 1377\u001b[0m     \u001b[43mresponse\u001b[49m\u001b[38;5;241;43m.\u001b[39;49m\u001b[43mbegin\u001b[49m\u001b[43m(\u001b[49m\u001b[43m)\u001b[49m\n\u001b[1;32m   1378\u001b[0m \u001b[38;5;28;01mexcept\u001b[39;00m \u001b[38;5;167;01mConnectionError\u001b[39;00m:\n",
      "File \u001b[0;32m~/miniconda3/envs/phoenix/lib/python3.9/http/client.py:320\u001b[0m, in \u001b[0;36mHTTPResponse.begin\u001b[0;34m(self)\u001b[0m\n\u001b[1;32m    319\u001b[0m \u001b[38;5;28;01mwhile\u001b[39;00m \u001b[38;5;28;01mTrue\u001b[39;00m:\n\u001b[0;32m--> 320\u001b[0m     version, status, reason \u001b[38;5;241m=\u001b[39m \u001b[38;5;28;43mself\u001b[39;49m\u001b[38;5;241;43m.\u001b[39;49m\u001b[43m_read_status\u001b[49m\u001b[43m(\u001b[49m\u001b[43m)\u001b[49m\n\u001b[1;32m    321\u001b[0m     \u001b[38;5;28;01mif\u001b[39;00m status \u001b[38;5;241m!=\u001b[39m CONTINUE:\n",
      "File \u001b[0;32m~/miniconda3/envs/phoenix/lib/python3.9/http/client.py:289\u001b[0m, in \u001b[0;36mHTTPResponse._read_status\u001b[0;34m(self)\u001b[0m\n\u001b[1;32m    286\u001b[0m \u001b[38;5;28;01mif\u001b[39;00m \u001b[38;5;129;01mnot\u001b[39;00m line:\n\u001b[1;32m    287\u001b[0m     \u001b[38;5;66;03m# Presumably, the server closed the connection before\u001b[39;00m\n\u001b[1;32m    288\u001b[0m     \u001b[38;5;66;03m# sending a valid response.\u001b[39;00m\n\u001b[0;32m--> 289\u001b[0m     \u001b[38;5;28;01mraise\u001b[39;00m RemoteDisconnected(\u001b[38;5;124m\"\u001b[39m\u001b[38;5;124mRemote end closed connection without\u001b[39m\u001b[38;5;124m\"\u001b[39m\n\u001b[1;32m    290\u001b[0m                              \u001b[38;5;124m\"\u001b[39m\u001b[38;5;124m response\u001b[39m\u001b[38;5;124m\"\u001b[39m)\n\u001b[1;32m    291\u001b[0m \u001b[38;5;28;01mtry\u001b[39;00m:\n",
      "\u001b[0;31mProtocolError\u001b[0m: ('Connection aborted.', RemoteDisconnected('Remote end closed connection without response'))",
      "\nDuring handling of the above exception, another exception occurred:\n",
      "\u001b[0;31mConnectionError\u001b[0m                           Traceback (most recent call last)",
      "Cell \u001b[0;32mIn[73], line 1\u001b[0m\n\u001b[0;32m----> 1\u001b[0m \u001b[43msend_body\u001b[49m\u001b[43m(\u001b[49m\u001b[43mdump\u001b[49m\u001b[43m)\u001b[49m\n",
      "Cell \u001b[0;32mIn[69], line 8\u001b[0m, in \u001b[0;36msend_body\u001b[0;34m(body)\u001b[0m\n\u001b[1;32m      5\u001b[0m \u001b[38;5;28;01mdef\u001b[39;00m \u001b[38;5;21msend_body\u001b[39m(body):\n\u001b[1;32m      6\u001b[0m     \u001b[38;5;66;03m# posting it to the xai-platform\u001b[39;00m\n\u001b[1;32m      7\u001b[0m     u \u001b[38;5;241m=\u001b[39m \u001b[38;5;124mf\u001b[39m\u001b[38;5;124m\"\u001b[39m\u001b[38;5;132;01m{\u001b[39;00murl\u001b[38;5;132;01m}\u001b[39;00m\u001b[38;5;124m/runs\u001b[39m\u001b[38;5;124m\"\u001b[39m\n\u001b[0;32m----> 8\u001b[0m     \u001b[43mrequests\u001b[49m\u001b[38;5;241;43m.\u001b[39;49m\u001b[43mpost\u001b[49m\u001b[43m(\u001b[49m\u001b[43mu\u001b[49m\u001b[43m,\u001b[49m\u001b[43m \u001b[49m\u001b[43mdata\u001b[49m\u001b[38;5;241;43m=\u001b[39;49m\u001b[43m \u001b[49m\u001b[43mbody\u001b[49m\u001b[43m,\u001b[49m\u001b[43m \u001b[49m\u001b[43mheaders\u001b[49m\u001b[38;5;241;43m=\u001b[39;49m\u001b[43m{\u001b[49m\u001b[38;5;124;43m'\u001b[39;49m\u001b[38;5;124;43mContent-Type\u001b[39;49m\u001b[38;5;124;43m'\u001b[39;49m\u001b[43m:\u001b[49m\u001b[43m \u001b[49m\u001b[38;5;124;43m'\u001b[39;49m\u001b[38;5;124;43mapplication/json\u001b[39;49m\u001b[38;5;124;43m'\u001b[39;49m\u001b[43m}\u001b[49m\u001b[43m)\u001b[49m\n",
      "File \u001b[0;32m~/miniconda3/envs/phoenix/lib/python3.9/site-packages/requests/api.py:115\u001b[0m, in \u001b[0;36mpost\u001b[0;34m(url, data, json, **kwargs)\u001b[0m\n\u001b[1;32m    103\u001b[0m \u001b[38;5;28;01mdef\u001b[39;00m \u001b[38;5;21mpost\u001b[39m(url, data\u001b[38;5;241m=\u001b[39m\u001b[38;5;28;01mNone\u001b[39;00m, json\u001b[38;5;241m=\u001b[39m\u001b[38;5;28;01mNone\u001b[39;00m, \u001b[38;5;241m*\u001b[39m\u001b[38;5;241m*\u001b[39mkwargs):\n\u001b[1;32m    104\u001b[0m \u001b[38;5;250m    \u001b[39m\u001b[38;5;124mr\u001b[39m\u001b[38;5;124;03m\"\"\"Sends a POST request.\u001b[39;00m\n\u001b[1;32m    105\u001b[0m \n\u001b[1;32m    106\u001b[0m \u001b[38;5;124;03m    :param url: URL for the new :class:`Request` object.\u001b[39;00m\n\u001b[0;32m   (...)\u001b[0m\n\u001b[1;32m    112\u001b[0m \u001b[38;5;124;03m    :rtype: requests.Response\u001b[39;00m\n\u001b[1;32m    113\u001b[0m \u001b[38;5;124;03m    \"\"\"\u001b[39;00m\n\u001b[0;32m--> 115\u001b[0m     \u001b[38;5;28;01mreturn\u001b[39;00m \u001b[43mrequest\u001b[49m\u001b[43m(\u001b[49m\u001b[38;5;124;43m\"\u001b[39;49m\u001b[38;5;124;43mpost\u001b[39;49m\u001b[38;5;124;43m\"\u001b[39;49m\u001b[43m,\u001b[49m\u001b[43m \u001b[49m\u001b[43murl\u001b[49m\u001b[43m,\u001b[49m\u001b[43m \u001b[49m\u001b[43mdata\u001b[49m\u001b[38;5;241;43m=\u001b[39;49m\u001b[43mdata\u001b[49m\u001b[43m,\u001b[49m\u001b[43m \u001b[49m\u001b[43mjson\u001b[49m\u001b[38;5;241;43m=\u001b[39;49m\u001b[43mjson\u001b[49m\u001b[43m,\u001b[49m\u001b[43m \u001b[49m\u001b[38;5;241;43m*\u001b[39;49m\u001b[38;5;241;43m*\u001b[39;49m\u001b[43mkwargs\u001b[49m\u001b[43m)\u001b[49m\n",
      "File \u001b[0;32m~/miniconda3/envs/phoenix/lib/python3.9/site-packages/requests/api.py:59\u001b[0m, in \u001b[0;36mrequest\u001b[0;34m(method, url, **kwargs)\u001b[0m\n\u001b[1;32m     55\u001b[0m \u001b[38;5;66;03m# By using the 'with' statement we are sure the session is closed, thus we\u001b[39;00m\n\u001b[1;32m     56\u001b[0m \u001b[38;5;66;03m# avoid leaving sockets open which can trigger a ResourceWarning in some\u001b[39;00m\n\u001b[1;32m     57\u001b[0m \u001b[38;5;66;03m# cases, and look like a memory leak in others.\u001b[39;00m\n\u001b[1;32m     58\u001b[0m \u001b[38;5;28;01mwith\u001b[39;00m sessions\u001b[38;5;241m.\u001b[39mSession() \u001b[38;5;28;01mas\u001b[39;00m session:\n\u001b[0;32m---> 59\u001b[0m     \u001b[38;5;28;01mreturn\u001b[39;00m \u001b[43msession\u001b[49m\u001b[38;5;241;43m.\u001b[39;49m\u001b[43mrequest\u001b[49m\u001b[43m(\u001b[49m\u001b[43mmethod\u001b[49m\u001b[38;5;241;43m=\u001b[39;49m\u001b[43mmethod\u001b[49m\u001b[43m,\u001b[49m\u001b[43m \u001b[49m\u001b[43murl\u001b[49m\u001b[38;5;241;43m=\u001b[39;49m\u001b[43murl\u001b[49m\u001b[43m,\u001b[49m\u001b[43m \u001b[49m\u001b[38;5;241;43m*\u001b[39;49m\u001b[38;5;241;43m*\u001b[39;49m\u001b[43mkwargs\u001b[49m\u001b[43m)\u001b[49m\n",
      "File \u001b[0;32m~/miniconda3/envs/phoenix/lib/python3.9/site-packages/requests/sessions.py:589\u001b[0m, in \u001b[0;36mSession.request\u001b[0;34m(self, method, url, params, data, headers, cookies, files, auth, timeout, allow_redirects, proxies, hooks, stream, verify, cert, json)\u001b[0m\n\u001b[1;32m    584\u001b[0m send_kwargs \u001b[38;5;241m=\u001b[39m {\n\u001b[1;32m    585\u001b[0m     \u001b[38;5;124m\"\u001b[39m\u001b[38;5;124mtimeout\u001b[39m\u001b[38;5;124m\"\u001b[39m: timeout,\n\u001b[1;32m    586\u001b[0m     \u001b[38;5;124m\"\u001b[39m\u001b[38;5;124mallow_redirects\u001b[39m\u001b[38;5;124m\"\u001b[39m: allow_redirects,\n\u001b[1;32m    587\u001b[0m }\n\u001b[1;32m    588\u001b[0m send_kwargs\u001b[38;5;241m.\u001b[39mupdate(settings)\n\u001b[0;32m--> 589\u001b[0m resp \u001b[38;5;241m=\u001b[39m \u001b[38;5;28;43mself\u001b[39;49m\u001b[38;5;241;43m.\u001b[39;49m\u001b[43msend\u001b[49m\u001b[43m(\u001b[49m\u001b[43mprep\u001b[49m\u001b[43m,\u001b[49m\u001b[43m \u001b[49m\u001b[38;5;241;43m*\u001b[39;49m\u001b[38;5;241;43m*\u001b[39;49m\u001b[43msend_kwargs\u001b[49m\u001b[43m)\u001b[49m\n\u001b[1;32m    591\u001b[0m \u001b[38;5;28;01mreturn\u001b[39;00m resp\n",
      "File \u001b[0;32m~/miniconda3/envs/phoenix/lib/python3.9/site-packages/requests/sessions.py:703\u001b[0m, in \u001b[0;36mSession.send\u001b[0;34m(self, request, **kwargs)\u001b[0m\n\u001b[1;32m    700\u001b[0m start \u001b[38;5;241m=\u001b[39m preferred_clock()\n\u001b[1;32m    702\u001b[0m \u001b[38;5;66;03m# Send the request\u001b[39;00m\n\u001b[0;32m--> 703\u001b[0m r \u001b[38;5;241m=\u001b[39m \u001b[43madapter\u001b[49m\u001b[38;5;241;43m.\u001b[39;49m\u001b[43msend\u001b[49m\u001b[43m(\u001b[49m\u001b[43mrequest\u001b[49m\u001b[43m,\u001b[49m\u001b[43m \u001b[49m\u001b[38;5;241;43m*\u001b[39;49m\u001b[38;5;241;43m*\u001b[39;49m\u001b[43mkwargs\u001b[49m\u001b[43m)\u001b[49m\n\u001b[1;32m    705\u001b[0m \u001b[38;5;66;03m# Total elapsed time of the request (approximately)\u001b[39;00m\n\u001b[1;32m    706\u001b[0m elapsed \u001b[38;5;241m=\u001b[39m preferred_clock() \u001b[38;5;241m-\u001b[39m start\n",
      "File \u001b[0;32m~/miniconda3/envs/phoenix/lib/python3.9/site-packages/requests/adapters.py:501\u001b[0m, in \u001b[0;36mHTTPAdapter.send\u001b[0;34m(self, request, stream, timeout, verify, cert, proxies)\u001b[0m\n\u001b[1;32m    486\u001b[0m     resp \u001b[38;5;241m=\u001b[39m conn\u001b[38;5;241m.\u001b[39murlopen(\n\u001b[1;32m    487\u001b[0m         method\u001b[38;5;241m=\u001b[39mrequest\u001b[38;5;241m.\u001b[39mmethod,\n\u001b[1;32m    488\u001b[0m         url\u001b[38;5;241m=\u001b[39murl,\n\u001b[0;32m   (...)\u001b[0m\n\u001b[1;32m    497\u001b[0m         chunked\u001b[38;5;241m=\u001b[39mchunked,\n\u001b[1;32m    498\u001b[0m     )\n\u001b[1;32m    500\u001b[0m \u001b[38;5;28;01mexcept\u001b[39;00m (ProtocolError, \u001b[38;5;167;01mOSError\u001b[39;00m) \u001b[38;5;28;01mas\u001b[39;00m err:\n\u001b[0;32m--> 501\u001b[0m     \u001b[38;5;28;01mraise\u001b[39;00m \u001b[38;5;167;01mConnectionError\u001b[39;00m(err, request\u001b[38;5;241m=\u001b[39mrequest)\n\u001b[1;32m    503\u001b[0m \u001b[38;5;28;01mexcept\u001b[39;00m MaxRetryError \u001b[38;5;28;01mas\u001b[39;00m e:\n\u001b[1;32m    504\u001b[0m     \u001b[38;5;28;01mif\u001b[39;00m \u001b[38;5;28misinstance\u001b[39m(e\u001b[38;5;241m.\u001b[39mreason, ConnectTimeoutError):\n\u001b[1;32m    505\u001b[0m         \u001b[38;5;66;03m# TODO: Remove this in 3.0.0: see #2811\u001b[39;00m\n",
      "\u001b[0;31mConnectionError\u001b[0m: ('Connection aborted.', RemoteDisconnected('Remote end closed connection without response'))"
     ]
    }
   ],
   "source": []
  },
  {
   "cell_type": "code",
   "execution_count": null,
   "metadata": {},
   "outputs": [],
   "source": []
  },
  {
   "cell_type": "code",
   "execution_count": null,
   "metadata": {},
   "outputs": [],
   "source": []
  }
 ],
 "metadata": {
  "kernelspec": {
   "display_name": "phoenix",
   "language": "python",
   "name": "phoenix"
  },
  "language_info": {
   "codemirror_mode": {
    "name": "ipython",
    "version": 3
   },
   "file_extension": ".py",
   "mimetype": "text/x-python",
   "name": "python",
   "nbconvert_exporter": "python",
   "pygments_lexer": "ipython3",
   "version": "3.9.18"
  }
 },
 "nbformat": 4,
 "nbformat_minor": 2
}
