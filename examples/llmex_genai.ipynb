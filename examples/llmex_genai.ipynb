{
 "cells": [
  {
   "cell_type": "code",
   "execution_count": 1,
   "id": "3eb2beb0-bfef-4d06-9d32-f2093044661e",
   "metadata": {},
   "outputs": [
    {
     "name": "stdout",
     "output_type": "stream",
     "text": [
      "Looking in indexes: https://pypi.org/simple, https://pypi.org/simple\n",
      "Obtaining file:///Users/nelenj/Documents/projects/helmet\n",
      "  Installing build dependencies ... \u001b[?25ldone\n",
      "\u001b[?25h  Checking if build backend supports build_editable ... \u001b[?25ldone\n",
      "\u001b[?25h  Getting requirements to build editable ... \u001b[?25ldone\n",
      "\u001b[?25h  Preparing editable metadata (pyproject.toml) ... \u001b[?25ldone\n",
      "\u001b[?25hRequirement already satisfied: accelerate<0.26.0,>=0.25.0 in /Users/nelenj/miniconda3/envs/helmet-installable/lib/python3.12/site-packages (from helmet==0.1.2) (0.25.0)\n",
      "Requirement already satisfied: bitsandbytes<0.43.0,>=0.42.0 in /Users/nelenj/miniconda3/envs/helmet-installable/lib/python3.12/site-packages (from helmet==0.1.2) (0.42.0)\n",
      "Requirement already satisfied: bs4<0.0.2,>=0.0.1 in /Users/nelenj/miniconda3/envs/helmet-installable/lib/python3.12/site-packages (from helmet==0.1.2) (0.0.1)\n",
      "Requirement already satisfied: captum<0.8.0,>=0.7.0 in /Users/nelenj/miniconda3/envs/helmet-installable/lib/python3.12/site-packages (from helmet==0.1.2) (0.7.0)\n",
      "Requirement already satisfied: dacite<2.0.0,>=1.8.1 in /Users/nelenj/miniconda3/envs/helmet-installable/lib/python3.12/site-packages (from helmet==0.1.2) (1.8.1)\n",
      "Requirement already satisfied: datasets<3.0.0,>=2.18.0 in /Users/nelenj/miniconda3/envs/helmet-installable/lib/python3.12/site-packages (from helmet==0.1.2) (2.19.0)\n",
      "Requirement already satisfied: numpy<2.0.0,>=1.26.2 in /Users/nelenj/miniconda3/envs/helmet-installable/lib/python3.12/site-packages (from helmet==0.1.2) (1.26.4)\n",
      "Requirement already satisfied: torch<3.0.0,>=2.1.1 in /Users/nelenj/miniconda3/envs/helmet-installable/lib/python3.12/site-packages (from helmet==0.1.2) (2.2.2)\n",
      "Requirement already satisfied: transformers<5.0.0,>=4.35.2 in /Users/nelenj/miniconda3/envs/helmet-installable/lib/python3.12/site-packages (from helmet==0.1.2) (4.40.0)\n",
      "Requirement already satisfied: trulens<0.14.0,>=0.13.4 in /Users/nelenj/miniconda3/envs/helmet-installable/lib/python3.12/site-packages (from helmet==0.1.2) (0.13.4)\n",
      "Requirement already satisfied: packaging>=20.0 in /Users/nelenj/.local/lib/python3.12/site-packages (from accelerate<0.26.0,>=0.25.0->helmet==0.1.2) (23.2)\n",
      "Requirement already satisfied: psutil in /Users/nelenj/.local/lib/python3.12/site-packages (from accelerate<0.26.0,>=0.25.0->helmet==0.1.2) (5.9.7)\n",
      "Requirement already satisfied: pyyaml in /Users/nelenj/miniconda3/envs/helmet-installable/lib/python3.12/site-packages (from accelerate<0.26.0,>=0.25.0->helmet==0.1.2) (6.0.1)\n",
      "Requirement already satisfied: huggingface-hub in /Users/nelenj/miniconda3/envs/helmet-installable/lib/python3.12/site-packages (from accelerate<0.26.0,>=0.25.0->helmet==0.1.2) (0.22.2)\n",
      "Requirement already satisfied: safetensors>=0.3.1 in /Users/nelenj/miniconda3/envs/helmet-installable/lib/python3.12/site-packages (from accelerate<0.26.0,>=0.25.0->helmet==0.1.2) (0.4.3)\n",
      "Requirement already satisfied: scipy in /Users/nelenj/miniconda3/envs/helmet-installable/lib/python3.12/site-packages (from bitsandbytes<0.43.0,>=0.42.0->helmet==0.1.2) (1.13.0)\n",
      "Requirement already satisfied: beautifulsoup4 in /Users/nelenj/miniconda3/envs/helmet-installable/lib/python3.12/site-packages (from bs4<0.0.2,>=0.0.1->helmet==0.1.2) (4.12.2)\n",
      "Requirement already satisfied: matplotlib in /Users/nelenj/miniconda3/envs/helmet-installable/lib/python3.12/site-packages (from captum<0.8.0,>=0.7.0->helmet==0.1.2) (3.8.4)\n",
      "Requirement already satisfied: tqdm in /Users/nelenj/miniconda3/envs/helmet-installable/lib/python3.12/site-packages (from captum<0.8.0,>=0.7.0->helmet==0.1.2) (4.66.2)\n",
      "Requirement already satisfied: filelock in /Users/nelenj/miniconda3/envs/helmet-installable/lib/python3.12/site-packages (from datasets<3.0.0,>=2.18.0->helmet==0.1.2) (3.13.4)\n",
      "Requirement already satisfied: pyarrow>=12.0.0 in /Users/nelenj/miniconda3/envs/helmet-installable/lib/python3.12/site-packages (from datasets<3.0.0,>=2.18.0->helmet==0.1.2) (16.0.0)\n",
      "Requirement already satisfied: pyarrow-hotfix in /Users/nelenj/miniconda3/envs/helmet-installable/lib/python3.12/site-packages (from datasets<3.0.0,>=2.18.0->helmet==0.1.2) (0.6)\n",
      "Requirement already satisfied: dill<0.3.9,>=0.3.0 in /Users/nelenj/miniconda3/envs/helmet-installable/lib/python3.12/site-packages (from datasets<3.0.0,>=2.18.0->helmet==0.1.2) (0.3.8)\n",
      "Requirement already satisfied: pandas in /Users/nelenj/miniconda3/envs/helmet-installable/lib/python3.12/site-packages (from datasets<3.0.0,>=2.18.0->helmet==0.1.2) (2.2.2)\n",
      "Requirement already satisfied: requests>=2.19.0 in /Users/nelenj/miniconda3/envs/helmet-installable/lib/python3.12/site-packages (from datasets<3.0.0,>=2.18.0->helmet==0.1.2) (2.31.0)\n",
      "Requirement already satisfied: xxhash in /Users/nelenj/miniconda3/envs/helmet-installable/lib/python3.12/site-packages (from datasets<3.0.0,>=2.18.0->helmet==0.1.2) (3.4.1)\n",
      "Requirement already satisfied: multiprocess in /Users/nelenj/miniconda3/envs/helmet-installable/lib/python3.12/site-packages (from datasets<3.0.0,>=2.18.0->helmet==0.1.2) (0.70.16)\n",
      "Requirement already satisfied: fsspec<=2024.3.1,>=2023.1.0 in /Users/nelenj/miniconda3/envs/helmet-installable/lib/python3.12/site-packages (from fsspec[http]<=2024.3.1,>=2023.1.0->datasets<3.0.0,>=2.18.0->helmet==0.1.2) (2024.3.1)\n",
      "Requirement already satisfied: aiohttp in /Users/nelenj/miniconda3/envs/helmet-installable/lib/python3.12/site-packages (from datasets<3.0.0,>=2.18.0->helmet==0.1.2) (3.9.5)\n",
      "Requirement already satisfied: typing-extensions>=4.8.0 in /Users/nelenj/miniconda3/envs/helmet-installable/lib/python3.12/site-packages (from torch<3.0.0,>=2.1.1->helmet==0.1.2) (4.9.0)\n",
      "Requirement already satisfied: sympy in /Users/nelenj/miniconda3/envs/helmet-installable/lib/python3.12/site-packages (from torch<3.0.0,>=2.1.1->helmet==0.1.2) (1.12)\n",
      "Requirement already satisfied: networkx in /Users/nelenj/miniconda3/envs/helmet-installable/lib/python3.12/site-packages (from torch<3.0.0,>=2.1.1->helmet==0.1.2) (3.3)\n",
      "Requirement already satisfied: jinja2 in /Users/nelenj/miniconda3/envs/helmet-installable/lib/python3.12/site-packages (from torch<3.0.0,>=2.1.1->helmet==0.1.2) (3.1.3)\n",
      "Requirement already satisfied: regex!=2019.12.17 in /Users/nelenj/miniconda3/envs/helmet-installable/lib/python3.12/site-packages (from transformers<5.0.0,>=4.35.2->helmet==0.1.2) (2024.4.16)\n",
      "Requirement already satisfied: tokenizers<0.20,>=0.19 in /Users/nelenj/miniconda3/envs/helmet-installable/lib/python3.12/site-packages (from transformers<5.0.0,>=4.35.2->helmet==0.1.2) (0.19.1)\n",
      "Requirement already satisfied: aiosignal>=1.1.2 in /Users/nelenj/miniconda3/envs/helmet-installable/lib/python3.12/site-packages (from aiohttp->datasets<3.0.0,>=2.18.0->helmet==0.1.2) (1.3.1)\n",
      "Requirement already satisfied: attrs>=17.3.0 in /Users/nelenj/miniconda3/envs/helmet-installable/lib/python3.12/site-packages (from aiohttp->datasets<3.0.0,>=2.18.0->helmet==0.1.2) (23.1.0)\n",
      "Requirement already satisfied: frozenlist>=1.1.1 in /Users/nelenj/miniconda3/envs/helmet-installable/lib/python3.12/site-packages (from aiohttp->datasets<3.0.0,>=2.18.0->helmet==0.1.2) (1.4.1)\n",
      "Requirement already satisfied: multidict<7.0,>=4.5 in /Users/nelenj/miniconda3/envs/helmet-installable/lib/python3.12/site-packages (from aiohttp->datasets<3.0.0,>=2.18.0->helmet==0.1.2) (6.0.5)\n",
      "Requirement already satisfied: yarl<2.0,>=1.0 in /Users/nelenj/miniconda3/envs/helmet-installable/lib/python3.12/site-packages (from aiohttp->datasets<3.0.0,>=2.18.0->helmet==0.1.2) (1.9.4)\n",
      "Requirement already satisfied: charset-normalizer<4,>=2 in /Users/nelenj/miniconda3/envs/helmet-installable/lib/python3.12/site-packages (from requests>=2.19.0->datasets<3.0.0,>=2.18.0->helmet==0.1.2) (2.0.4)\n",
      "Requirement already satisfied: idna<4,>=2.5 in /Users/nelenj/miniconda3/envs/helmet-installable/lib/python3.12/site-packages (from requests>=2.19.0->datasets<3.0.0,>=2.18.0->helmet==0.1.2) (3.4)\n",
      "Requirement already satisfied: urllib3<3,>=1.21.1 in /Users/nelenj/miniconda3/envs/helmet-installable/lib/python3.12/site-packages (from requests>=2.19.0->datasets<3.0.0,>=2.18.0->helmet==0.1.2) (2.1.0)\n",
      "Requirement already satisfied: certifi>=2017.4.17 in /Users/nelenj/miniconda3/envs/helmet-installable/lib/python3.12/site-packages (from requests>=2.19.0->datasets<3.0.0,>=2.18.0->helmet==0.1.2) (2024.2.2)\n",
      "Requirement already satisfied: soupsieve>1.2 in /Users/nelenj/miniconda3/envs/helmet-installable/lib/python3.12/site-packages (from beautifulsoup4->bs4<0.0.2,>=0.0.1->helmet==0.1.2) (2.5)\n",
      "Requirement already satisfied: MarkupSafe>=2.0 in /Users/nelenj/miniconda3/envs/helmet-installable/lib/python3.12/site-packages (from jinja2->torch<3.0.0,>=2.1.1->helmet==0.1.2) (2.1.3)\n",
      "Requirement already satisfied: contourpy>=1.0.1 in /Users/nelenj/miniconda3/envs/helmet-installable/lib/python3.12/site-packages (from matplotlib->captum<0.8.0,>=0.7.0->helmet==0.1.2) (1.2.1)\n",
      "Requirement already satisfied: cycler>=0.10 in /Users/nelenj/miniconda3/envs/helmet-installable/lib/python3.12/site-packages (from matplotlib->captum<0.8.0,>=0.7.0->helmet==0.1.2) (0.12.1)\n",
      "Requirement already satisfied: fonttools>=4.22.0 in /Users/nelenj/miniconda3/envs/helmet-installable/lib/python3.12/site-packages (from matplotlib->captum<0.8.0,>=0.7.0->helmet==0.1.2) (4.51.0)\n",
      "Requirement already satisfied: kiwisolver>=1.3.1 in /Users/nelenj/miniconda3/envs/helmet-installable/lib/python3.12/site-packages (from matplotlib->captum<0.8.0,>=0.7.0->helmet==0.1.2) (1.4.5)\n",
      "Requirement already satisfied: pillow>=8 in /Users/nelenj/miniconda3/envs/helmet-installable/lib/python3.12/site-packages (from matplotlib->captum<0.8.0,>=0.7.0->helmet==0.1.2) (10.3.0)\n",
      "Requirement already satisfied: pyparsing>=2.3.1 in /Users/nelenj/miniconda3/envs/helmet-installable/lib/python3.12/site-packages (from matplotlib->captum<0.8.0,>=0.7.0->helmet==0.1.2) (3.1.2)\n",
      "Requirement already satisfied: python-dateutil>=2.7 in /Users/nelenj/.local/lib/python3.12/site-packages (from matplotlib->captum<0.8.0,>=0.7.0->helmet==0.1.2) (2.8.2)\n",
      "Requirement already satisfied: pytz>=2020.1 in /Users/nelenj/miniconda3/envs/helmet-installable/lib/python3.12/site-packages (from pandas->datasets<3.0.0,>=2.18.0->helmet==0.1.2) (2023.3.post1)\n",
      "Requirement already satisfied: tzdata>=2022.7 in /Users/nelenj/miniconda3/envs/helmet-installable/lib/python3.12/site-packages (from pandas->datasets<3.0.0,>=2.18.0->helmet==0.1.2) (2024.1)\n",
      "Requirement already satisfied: mpmath>=0.19 in /Users/nelenj/miniconda3/envs/helmet-installable/lib/python3.12/site-packages (from sympy->torch<3.0.0,>=2.1.1->helmet==0.1.2) (1.3.0)\n",
      "Requirement already satisfied: six>=1.5 in /Users/nelenj/.local/lib/python3.12/site-packages (from python-dateutil>=2.7->matplotlib->captum<0.8.0,>=0.7.0->helmet==0.1.2) (1.16.0)\n",
      "Building wheels for collected packages: helmet\n",
      "  Building editable for helmet (pyproject.toml) ... \u001b[?25ldone\n",
      "\u001b[?25h  Created wheel for helmet: filename=helmet-0.1.2-py3-none-any.whl size=1745 sha256=5e1e92d5fe06518cb5b9d96e61e0c65d7a11e9b2a1719b1e9ec8338fbbe3bbb0\n",
      "  Stored in directory: /private/var/folders/f1/st6fs1q547zbfmzy6jr5b0km0000gp/T/pip-ephem-wheel-cache-62kl11_y/wheels/b5/be/d1/aaf642ac2f1062e27dc45a2559b93e86459c128f1f8ea5cea1\n",
      "Successfully built helmet\n",
      "Installing collected packages: helmet\n",
      "  Attempting uninstall: helmet\n",
      "    Found existing installation: helmet 0.1.2\n",
      "    Uninstalling helmet-0.1.2:\n",
      "      Successfully uninstalled helmet-0.1.2\n",
      "Successfully installed helmet-0.1.2\n"
     ]
    }
   ],
   "source": [
    "!python3 -m pip install -e ../."
   ]
  },
  {
   "cell_type": "code",
   "execution_count": 11,
   "id": "4ff217e6",
   "metadata": {},
   "outputs": [
    {
     "name": "stdout",
     "output_type": "stream",
     "text": [
      "The autoreload extension is already loaded. To reload it, use:\n",
      "  %reload_ext autoreload\n"
     ]
    }
   ],
   "source": [
    "%load_ext autoreload\n",
    "%autoreload 2"
   ]
  },
  {
   "cell_type": "code",
   "execution_count": 12,
   "id": "f607fe28",
   "metadata": {},
   "outputs": [],
   "source": [
    "# This to make sure that the changes in the module are reloaded\n",
    "%reload_ext autoreload"
   ]
  },
  {
   "cell_type": "code",
   "execution_count": 13,
   "id": "499acd3e-50e9-4161-92fe-abad69239380",
   "metadata": {
    "editable": true,
    "slideshow": {
     "slide_type": ""
    },
    "tags": []
   },
   "outputs": [],
   "source": [
    "# Platform configs\n",
    "url = \"https://api.jeroennelen.nl\"\n",
    "project_id = \"66277759e1eacb39208e10ed\"\n",
    "\n",
    "project_setup = {\n",
    "    \"platform_url\": url,\n",
    "    \"project_id\": project_id\n",
    "}"
   ]
  },
  {
   "cell_type": "code",
   "execution_count": 14,
   "id": "1b573ef0-6786-45c3-bf87-6e66d016b224",
   "metadata": {},
   "outputs": [],
   "source": [
    "# checkpoint = \"mlabonne/Gemmalpaca-2B\"\n",
    "# \"meta-llama/Meta-Llama-3-8B\"\n",
    "device = \"cpu\"\n",
    "# checkpoint = \"bigscience/bloom-1b7\"\n",
    "checkpoint = \"bigscience/bloom-560m\"\n",
    "\n",
    "model_setup = {\n",
    "    \"checkpoint\": checkpoint,\n",
    "    \"model_type\": \"dec\",\n",
    "    \"embeddings\": \"transformer.word_embeddings\"\n",
    "}\n",
    "\n",
    "run_config = {\n",
    "    \"device\": device,\n",
    "    \"max_new_tokens\": 100,\n",
    "    # \"temperature\": 1, # Not\n",
    "    # e that if you add this, then you need to add \"do_sample\": True\n",
    "    # \"do_sample\": True\n",
    "}"
   ]
  },
  {
   "cell_type": "code",
   "execution_count": 15,
   "id": "3efd1538-875a-44bd-98ae-c53d45779583",
   "metadata": {},
   "outputs": [],
   "source": [
    "import helmet"
   ]
  },
  {
   "cell_type": "code",
   "execution_count": 16,
   "id": "52f82b8f-dc52-4b8e-8889-528e147d8ee0",
   "metadata": {},
   "outputs": [
    {
     "name": "stdout",
     "output_type": "stream",
     "text": [
      "updates will be sent to https://api.jeroennelen.nl\n",
      "setting up model with config {'checkpoint': 'bigscience/bloom-560m', 'model_type': 'dec', 'embeddings': 'transformer.word_embeddings'}\n",
      "model loaded\n"
     ]
    }
   ],
   "source": [
    "model = helmet.from_pretrained(project_setup=project_setup, model_setup=model_setup, run_config=run_config)"
   ]
  },
  {
   "cell_type": "code",
   "execution_count": null,
   "id": "cfe6b11c",
   "metadata": {},
   "outputs": [],
   "source": [
    "# !pip install huggingface_hub ipywidgets -q"
   ]
  },
  {
   "cell_type": "code",
   "execution_count": null,
   "id": "db6f8c01",
   "metadata": {
    "scrolled": true
   },
   "outputs": [],
   "source": [
    "# This might be needed to load the model\n",
    "# from huggingface_hub import login\n",
    "# login()"
   ]
  },
  {
   "cell_type": "code",
   "execution_count": 8,
   "id": "03978528-cc37-4483-bdb1-bcf191a685b1",
   "metadata": {},
   "outputs": [],
   "source": [
    "from datasets import load_dataset\n",
    "\n",
    "dataset = load_dataset(\"Helsinki-NLP/opus-100\", name=\"en-it\", split='test[:20]')"
   ]
  },
  {
   "cell_type": "code",
   "execution_count": 9,
   "id": "abb728d1-a2c6-4a1a-9878-2f89c03e581e",
   "metadata": {},
   "outputs": [
    {
     "data": {
      "text/plain": [
       "{'translation': {'en': 'I, uh, I wrote you a letter when I was at the Academy.',\n",
       "  'it': \"E' un piacere conoscerla. Le... le ho scritto quando ero all'accademia.\"}}"
      ]
     },
     "execution_count": 9,
     "metadata": {},
     "output_type": "execute_result"
    }
   ],
   "source": [
    "dataset[2]"
   ]
  },
  {
   "cell_type": "code",
   "execution_count": null,
   "id": "08a4eb94-f5e8-49bc-a899-68853bcc1c92",
   "metadata": {},
   "outputs": [],
   "source": [
    "# prompt = dataset[\"validation\"][1]\n",
    "# # print(prompt)\n",
    "# # prompt = prompt[\"question\"]"
   ]
  },
  {
   "cell_type": "code",
   "execution_count": 21,
   "id": "2fe233a0",
   "metadata": {},
   "outputs": [
    {
     "data": {
      "text/plain": [
       "'Translate English to Italian: I, uh, I wrote you a letter when I was at the Academy.'"
      ]
     },
     "execution_count": 21,
     "metadata": {},
     "output_type": "execute_result"
    }
   ],
   "source": [
    "source_lang = \"en\"\n",
    "target_lang = \"it\"\n",
    "prefix = \"Translate English to Italian: \"\n",
    "\n",
    "def prompt_builder(sample):\n",
    "    return prefix + sample['translation'][source_lang]\n",
    "\n",
    "\n",
    "prompt = prompt_builder(dataset[2])\n",
    "prompt"
   ]
  },
  {
   "cell_type": "code",
   "execution_count": 22,
   "id": "fe15d278-2d50-4b8c-bd78-a9072d80e39f",
   "metadata": {},
   "outputs": [
    {
     "name": "stdout",
     "output_type": "stream",
     "text": [
      "updated app, result:  {'acknowledged': True, 'insertedId': '6627a1879f224fc8058a69c9'}\n"
     ]
    },
    {
     "data": {
      "text/plain": [
       "' I was in the class, and I was thinking about the future. I was thinking about the future'"
      ]
     },
     "execution_count": 22,
     "metadata": {},
     "output_type": "execute_result"
    }
   ],
   "source": [
    "predict_config = {\n",
    "    \"max_new_tokens\": 20,\n",
    "    \"generate_explanations\": False,\n",
    "}\n",
    "\n",
    "output = model.predict(prompt, **predict_config)\n",
    "output"
   ]
  },
  {
   "cell_type": "code",
   "execution_count": 24,
   "id": "5a0c98c1",
   "metadata": {},
   "outputs": [
    {
     "name": "stdout",
     "output_type": "stream",
     "text": [
      "updated app, result:  {'acknowledged': True, 'insertedId': '6627a2289f224fc8058a69ca'}\n",
      " He was a member of the Royal Navy and was a member of the Royal Air Force. He was\n",
      "updated app, result:  {'acknowledged': True, 'insertedId': '6627a22b9f224fc8058a69cb'}\n",
      ".\", $lang->translate('translate', 'English to Italian: %s', $translate))\n",
      "updated app, result:  {'acknowledged': True, 'insertedId': '6627a22e9f224fc8058a69cc'}\n",
      " I was in the class, and I was thinking about the future. I was thinking about the future\n",
      "updated app, result:  {'acknowledged': True, 'insertedId': '6627a2309f224fc8058a69cd'}\n",
      " and kills the boss. The boss is a very powerful boss, and he has a very powerful weapon\n",
      "updated app, result:  {'acknowledged': True, 'insertedId': '6627a2339f224fc8058a69ce'}\n",
      "\"\n",
      "\"So, what do you think?\"\n",
      "\"I'm not sure.\"\n",
      "\"\n",
      "updated app, result:  {'acknowledged': True, 'insertedId': '6627a2369f224fc8058a69cf'}\n",
      " He was a very good player. He was very good at playing poker. He was very good at\n",
      "updated app, result:  {'acknowledged': True, 'insertedId': '6627a2389f224fc8058a69d0'}\n",
      "\n",
      "• 1.5 tonnes of grain per hectare or more\n",
      "• 1.5 tonnes of\n",
      "updated app, result:  {'acknowledged': True, 'insertedId': '6627a23b9f224fc8058a69d1'}\n",
      " No. 97/82).\n",
      "The Commission has decided to vote on the motion for a resolution (Doc\n",
      "updated app, result:  {'acknowledged': True, 'insertedId': '6627a23e9f224fc8058a69d2'}\n",
      ". The test is not recommended for children under 12 years of age. The test is not recommended for\n",
      "updated app, result:  {'acknowledged': True, 'insertedId': '6627a2409f224fc8058a69d3'}\n",
      " We will not let them escape. We will not let them escape. We will not let them escape\n",
      "updated app, result:  {'acknowledged': True, 'insertedId': '6627a2439f224fc8058a69d4'}\n",
      " - I don't want to break your arm. - I don't want to break your arm. - I\n",
      "updated app, result:  {'acknowledged': True, 'insertedId': '6627a2469f224fc8058a69d5'}\n",
      " He must be able to reach the aim. He must be able to reach the aim. He must\n",
      "updated app, result:  {'acknowledged': True, 'insertedId': '6627a2499f224fc8058a69d6'}\n",
      " The real heart attack was on a domestic flight. The real heart attack was on a domestic flight.\n",
      "updated app, result:  {'acknowledged': True, 'insertedId': '6627a24c9f224fc8058a69d7'}\n",
      " I have a lot of patients who are taking clindamycin for a long time and they are\n",
      "updated app, result:  {'acknowledged': True, 'insertedId': '6627a24f9f224fc8058a69d8'}\n",
      " I was so happy to see you. I was so happy to see you. I was so happy\n",
      "updated app, result:  {'acknowledged': True, 'insertedId': '6627a2529f224fc8058a69d9'}\n",
      " The vote is not a vote of confidence, but a vote of confidence in the future of the country\n",
      "updated app, result:  {'acknowledged': True, 'insertedId': '6627a2559f224fc8058a69da'}\n",
      " The car is in the garage. The car is in the garage. The car is in the garage\n",
      "updated app, result:  {'acknowledged': True, 'insertedId': '6627a2579f224fc8058a69db'}\n",
      ". The first two are the most common, and the third is the most common. The first is\n",
      "updated app, result:  {'acknowledged': True, 'insertedId': '6627a25a9f224fc8058a69dc'}\n",
      " The tongue is the most important organ in the human body. It is the organ that communicates the\n",
      "updated app, result:  {'acknowledged': True, 'insertedId': '6627a25d9f224fc8058a69dd'}\n",
      " The aim of this study was to evaluate the use of cadmium in ceramics and other materials\n"
     ]
    }
   ],
   "source": [
    "for i in range(20):\n",
    "    prompt = prompt_builder(dataset[i])\n",
    "    result = model.predict(prompt, **predict_config)\n",
    "    print(result)"
   ]
  },
  {
   "cell_type": "code",
   "execution_count": 23,
   "id": "910eef57-c95b-42c9-a6a4-54183f68cd00",
   "metadata": {},
   "outputs": [
    {
     "name": "stderr",
     "output_type": "stream",
     "text": [
      "/Users/nelenj/Documents/projects/helmet/src/helmet/explainers/gradients.py:67: UserWarning: To copy construct from a tensor, it is recommended to use sourceTensor.clone().detach() or sourceTensor.clone().detach().requires_grad_(True), rather than torch.tensor(sourceTensor).\n",
      "  input_ids_new = torch.tensor(input_ids.clone().detach())\n"
     ]
    },
    {
     "name": "stdout",
     "output_type": "stream",
     "text": [
      "finished token 20 of 40\n",
      "finished token 21 of 40\n",
      "finished token 22 of 40\n",
      "finished token 23 of 40\n",
      "finished token 24 of 40\n",
      "finished token 25 of 40\n",
      "finished token 26 of 40\n",
      "finished token 27 of 40\n",
      "finished token 28 of 40\n",
      "finished token 29 of 40\n",
      "finished token 30 of 40\n",
      "finished token 31 of 40\n",
      "finished token 32 of 40\n",
      "finished token 33 of 40\n",
      "finished token 34 of 40\n",
      "finished token 35 of 40\n",
      "finished token 36 of 40\n",
      "finished token 37 of 40\n",
      "finished token 38 of 40\n",
      "finished token 39 of 40\n",
      "updated app, result:  {'acknowledged': True, 'modifiedCount': 1, 'upsertedId': None, 'upsertedCount': 0, 'matchedCount': 1}\n"
     ]
    },
    {
     "data": {
      "text/plain": [
       "SaliencyExplanation(explanation_method='saliency', input_attributions=[array([-7.6048754e-02,  1.2228975e-01,  1.5276311e-03, -3.7846822e-01,\n",
       "       -1.9072058e-02,  4.7364280e-02,  1.3100481e-01,  1.1092962e-02,\n",
       "       -2.9582655e-02, -1.7736435e-02, -1.8269683e-03, -9.7456342e-03,\n",
       "       -6.8274751e-02,  6.4783095e-04,  1.1832054e-02,  4.3987972e-03,\n",
       "       -1.7653212e-04,  2.8490179e-04, -1.9979328e-02, -4.8645642e-02],\n",
       "      dtype=float32), array([-0.06080727,  0.02301275, -0.00332828, -0.24189119,  0.03322918,\n",
       "        0.02943031,  0.13989455,  0.01109391,  0.0033715 ,  0.0606625 ,\n",
       "       -0.04196557, -0.01862948, -0.03973954,  0.00603922,  0.01853734,\n",
       "        0.01498539,  0.02272374,  0.00752176,  0.01610308,  0.0149111 ,\n",
       "       -0.19212225], dtype=float32), array([ 0.00676765,  0.03971576,  0.00534493, -0.19623528,  0.00887387,\n",
       "       -0.02964568,  0.07064395,  0.00883238, -0.00387936,  0.03694752,\n",
       "       -0.0127468 , -0.00405384,  0.02846467, -0.0100301 , -0.0270422 ,\n",
       "        0.00684203,  0.06960087, -0.01382634, -0.08343244, -0.00292866,\n",
       "        0.04835538,  0.28579023], dtype=float32), array([-0.08076322,  0.00368881,  0.02772203, -0.15565175, -0.00636989,\n",
       "        0.01369916,  0.01637906, -0.0098781 ,  0.04744973,  0.06435293,\n",
       "       -0.03026563,  0.00043645,  0.06874074, -0.03602413, -0.01652156,\n",
       "       -0.0188354 , -0.00911771,  0.0089045 ,  0.22674802,  0.00773762,\n",
       "        0.03147501, -0.04721195, -0.07202659], dtype=float32), array([-1.16689764e-01, -5.48817776e-02,  3.75164449e-02, -5.79336733e-02,\n",
       "       -1.09485127e-02,  2.88722031e-02,  5.09848408e-02, -1.00767752e-02,\n",
       "        4.25459705e-02,  6.25569150e-02, -6.96241437e-03, -1.33593027e-02,\n",
       "        4.65217791e-02, -4.18905579e-02, -1.38860755e-02, -2.40521207e-02,\n",
       "       -3.86040248e-02,  3.07321120e-02,  2.59420812e-01,  1.39104930e-04,\n",
       "       -1.40058957e-02, -1.33996774e-02, -1.54165952e-02, -8.60258751e-03],\n",
       "      dtype=float32), array([-0.04171235,  0.08880632, -0.02389184, -0.07337455,  0.01901892,\n",
       "       -0.01166439,  0.04158294,  0.00265204,  0.00446574,  0.00268864,\n",
       "       -0.03707787, -0.00914245,  0.04247808,  0.0203216 , -0.01582291,\n",
       "        0.01379699,  0.01470221, -0.03606461,  0.05038139,  0.0022696 ,\n",
       "        0.01971296,  0.08003054,  0.06967342,  0.07639995, -0.20226769],\n",
       "      dtype=float32), array([-0.04908372, -0.06764   ,  0.02822576, -0.23911458, -0.00359352,\n",
       "       -0.00396574,  0.10201152, -0.00334243,  0.00353906,  0.0015376 ,\n",
       "       -0.08881789,  0.00196834, -0.05526514,  0.00052297,  0.01314981,\n",
       "        0.0052585 , -0.00239651, -0.0070449 , -0.02727163, -0.02191363,\n",
       "       -0.02639502, -0.04119617, -0.0268143 , -0.01913071,  0.078553  ,\n",
       "        0.08224753], dtype=float32), array([ 0.03555995,  0.00419691,  0.01732712, -0.18063669, -0.01845366,\n",
       "        0.01031902,  0.08162554,  0.00156582,  0.00689962, -0.00841711,\n",
       "        0.04757302, -0.00130232,  0.01296613,  0.01522348,  0.0091315 ,\n",
       "       -0.00341054, -0.01334576,  0.0087777 ,  0.00905884,  0.01395613,\n",
       "       -0.01923268,  0.01024007,  0.00825594,  0.01680799, -0.01240055,\n",
       "        0.03089696,  0.40241894], dtype=float32), array([-0.0279262 ,  0.00511216, -0.01325467, -0.18789844,  0.00968618,\n",
       "        0.00571276,  0.08897484,  0.0087373 , -0.01816749,  0.04251136,\n",
       "        0.00867086,  0.0030215 , -0.02711961,  0.02526911,  0.00268951,\n",
       "        0.0289903 ,  0.02400913,  0.01546483, -0.00423485,  0.01950822,\n",
       "        0.02402431,  0.09426257,  0.04750026,  0.02745811,  0.02696898,\n",
       "        0.05179437,  0.1085917 , -0.05244038], dtype=float32), array([ 0.04455844,  0.03579457, -0.00997906, -0.1685602 , -0.04640037,\n",
       "        0.00323054,  0.05898739,  0.0055671 , -0.01905099, -0.06577903,\n",
       "        0.00380587,  0.01221241, -0.00867537,  0.02728136, -0.01170435,\n",
       "       -0.0082294 ,  0.00349444,  0.01471156, -0.05319154, -0.00232769,\n",
       "       -0.01887799, -0.00946198,  0.00063172, -0.00690429, -0.08091114,\n",
       "        0.01179582,  0.10082977, -0.00913673,  0.15790878], dtype=float32), array([-0.04353342, -0.02008737, -0.01939742, -0.32546404, -0.02552592,\n",
       "        0.01889089,  0.10808332, -0.00641189, -0.01157175, -0.08980137,\n",
       "        0.02064289, -0.01364075, -0.06395164, -0.00748296,  0.00118814,\n",
       "       -0.01222734, -0.00236951,  0.00343226, -0.00789381,  0.00849699,\n",
       "       -0.00821569, -0.01212329,  0.00205487,  0.00884531, -0.01394611,\n",
       "        0.01308596, -0.0203073 , -0.03227699, -0.03639113, -0.0426597 ],\n",
       "      dtype=float32), array([-0.00064817, -0.03048354, -0.00922326, -0.29482946, -0.0133591 ,\n",
       "        0.00502538,  0.0382953 , -0.00275945,  0.01083366,  0.00148156,\n",
       "        0.00996578, -0.01226131, -0.00445784,  0.00784449,  0.00453115,\n",
       "       -0.01012526, -0.0127156 ,  0.0003973 , -0.01022549, -0.0022578 ,\n",
       "       -0.00880144, -0.00781812, -0.00565755,  0.00195138, -0.0196754 ,\n",
       "        0.00865006,  0.03306791, -0.00535793, -0.00396698,  0.14539936,\n",
       "        0.27793294], dtype=float32), array([-0.01295179, -0.02463272, -0.00406941, -0.17338543, -0.01806992,\n",
       "        0.02098713,  0.02669696, -0.00380401, -0.00340198, -0.00689246,\n",
       "       -0.01388852, -0.00809336, -0.0118725 ,  0.01028521,  0.01313243,\n",
       "       -0.00541663, -0.00766292, -0.00306637,  0.05014257, -0.02020097,\n",
       "       -0.01196786, -0.01256595,  0.00244209, -0.00283232,  0.00806115,\n",
       "        0.00874966,  0.02446426, -0.00240052, -0.00716496,  0.12261198,\n",
       "        0.16798936,  0.19009668], dtype=float32), array([ 0.00619989, -0.00660207,  0.0236464 , -0.1560336 , -0.0121471 ,\n",
       "        0.00302755, -0.03307951,  0.00032087,  0.01751921,  0.02870765,\n",
       "       -0.02807519,  0.00841193,  0.08367304,  0.00230061,  0.00092415,\n",
       "       -0.015482  , -0.01251254,  0.00136349,  0.00819669,  0.00862939,\n",
       "       -0.0220056 ,  0.0055128 ,  0.01369066,  0.00083082, -0.01600655,\n",
       "       -0.00892778,  0.04481889, -0.00753478, -0.02094397, -0.01125328,\n",
       "        0.02913154,  0.05213249, -0.31035793], dtype=float32), array([-7.62620345e-02,  5.47858374e-03,  2.63750870e-02, -3.51976424e-01,\n",
       "       -2.87716817e-02,  2.40634438e-02,  1.16199695e-01,  1.81996683e-03,\n",
       "        7.69097498e-03, -3.41312811e-02,  1.46087361e-02, -4.89560049e-03,\n",
       "       -1.86845530e-02,  1.46566359e-02,  1.05453376e-02, -9.15740058e-03,\n",
       "       -6.39106985e-03, -6.84788032e-03,  5.20410342e-03, -6.77199662e-03,\n",
       "        6.48153108e-03, -1.45444516e-02, -1.11794261e-05, -6.83718314e-03,\n",
       "       -2.17414573e-02,  1.84978184e-04,  1.21527724e-02, -7.73686077e-03,\n",
       "       -1.91141497e-02,  2.53019668e-02,  6.55746926e-03,  2.93141548e-02,\n",
       "        1.19566713e-02, -6.75326586e-02], dtype=float32), array([-0.02295427,  0.01281595,  0.01017345, -0.1992087 ,  0.00684211,\n",
       "       -0.00046853,  0.07800435,  0.00518248, -0.02043075,  0.01852745,\n",
       "        0.01924163, -0.01062408, -0.07842204, -0.01368589, -0.00625111,\n",
       "        0.00204046,  0.00767877,  0.00252961,  0.00440771,  0.00898263,\n",
       "        0.00066517,  0.03556896,  0.03004521,  0.00025253, -0.03672384,\n",
       "        0.01628153,  0.00330433, -0.0037489 , -0.01707705,  0.05882122,\n",
       "        0.01328203, -0.00242104, -0.00108344, -0.01853409, -0.23371862],\n",
       "      dtype=float32), array([ 6.6176750e-02,  3.0090921e-02,  2.0515410e-02, -1.5831444e-01,\n",
       "       -3.1119581e-02,  5.4868282e-04,  9.6707959e-03, -6.9737689e-05,\n",
       "        3.3264896e-03, -2.7810790e-02, -1.5880473e-02, -7.5377026e-03,\n",
       "       -6.0315197e-03,  2.9933918e-03, -2.1058775e-03, -2.2376787e-02,\n",
       "       -1.4880882e-02, -4.1840584e-03, -7.3930202e-03, -3.3847700e-04,\n",
       "       -9.8462366e-03, -3.5428386e-02,  1.0554952e-02, -9.7117629e-03,\n",
       "       -3.4365259e-02, -5.7223868e-03, -5.0941344e-02, -7.2060740e-03,\n",
       "       -2.4162851e-02,  1.8593603e-01,  1.5829219e-02,  2.0886295e-02,\n",
       "        7.0429696e-03,  1.1494951e-02, -5.8226712e-02, -8.1278890e-02],\n",
       "      dtype=float32), array([-0.00145456, -0.01055263,  0.00760402, -0.16763125, -0.00912402,\n",
       "        0.00310275,  0.01339991, -0.00104533,  0.0111317 , -0.02668132,\n",
       "       -0.01948077, -0.0043494 , -0.00332985, -0.00429538, -0.00374431,\n",
       "       -0.01598389, -0.00859509,  0.00030272,  0.00150102,  0.0065827 ,\n",
       "        0.00520809, -0.01148207,  0.0140727 ,  0.00142212, -0.02719528,\n",
       "        0.00031677, -0.03109436, -0.00426795, -0.00390403,  0.00815965,\n",
       "        0.13204709,  0.01265156,  0.03001469, -0.00332513, -0.05598719,\n",
       "       -0.12370802, -0.21525055], dtype=float32), array([ 1.0287818e-02, -3.6151487e-02, -4.2500440e-03, -2.5527477e-01,\n",
       "       -1.5489210e-02,  1.4176836e-03,  1.0157715e-02, -2.1117022e-03,\n",
       "        2.0979062e-02,  7.4991495e-03,  2.0183916e-03, -1.1577192e-02,\n",
       "        1.9872814e-02, -5.8930293e-03,  2.6142593e-03, -1.2852909e-02,\n",
       "       -1.7889505e-02, -4.0044030e-03,  1.0601142e-02,  5.3726751e-03,\n",
       "        4.6169111e-03, -1.3357521e-02,  5.9858747e-03, -1.0277919e-03,\n",
       "       -2.8371274e-02,  4.4497158e-04, -1.1224336e-02, -2.4324281e-03,\n",
       "       -2.3831946e-03,  5.4513279e-02,  6.6132443e-03,  4.9002051e-02,\n",
       "        5.6413347e-03,  1.1860268e-04, -2.5276218e-02, -5.1698532e-02,\n",
       "       -7.2846687e-03,  2.7369273e-01], dtype=float32), array([ 3.67521532e-02, -2.39766650e-02, -1.05261412e-02, -1.59640998e-01,\n",
       "       -6.25002990e-03, -3.59350769e-03,  1.81275494e-02, -7.43273366e-03,\n",
       "        2.20136009e-02,  2.27770824e-02, -3.75015512e-02, -1.75086223e-02,\n",
       "        4.57827859e-02, -5.60425315e-03,  6.35979185e-03, -1.00105554e-02,\n",
       "       -2.34951284e-02, -3.15189995e-02,  5.84897622e-02, -9.66550969e-03,\n",
       "       -1.35115918e-03, -3.35026234e-05,  1.18415235e-02, -4.88861348e-04,\n",
       "       -4.20317426e-02, -2.09274539e-03, -1.16977347e-02, -1.27310706e-02,\n",
       "       -1.32390596e-02,  6.11217730e-02, -4.13401503e-05,  3.70062119e-03,\n",
       "        9.54535697e-03,  1.30244019e-02, -2.64543388e-02, -2.28465945e-02,\n",
       "        5.73583618e-02,  3.45658660e-02,  1.18806496e-01], dtype=float32)])"
      ]
     },
     "execution_count": 23,
     "metadata": {},
     "output_type": "execute_result"
    }
   ],
   "source": [
    "model.saliency_explainer(\"6627a1879f224fc8058a69c9\")"
   ]
  },
  {
   "cell_type": "code",
   "execution_count": null,
   "id": "54e03d12",
   "metadata": {},
   "outputs": [],
   "source": []
  }
 ],
 "metadata": {
  "kernelspec": {
   "display_name": "Python 3 (ipykernel)",
   "language": "python",
   "name": "python3"
  },
  "language_info": {
   "codemirror_mode": {
    "name": "ipython",
    "version": 3
   },
   "file_extension": ".py",
   "mimetype": "text/x-python",
   "name": "python",
   "nbconvert_exporter": "python",
   "pygments_lexer": "ipython3",
   "version": "3.12.3"
  }
 },
 "nbformat": 4,
 "nbformat_minor": 5
}
