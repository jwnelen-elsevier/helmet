{
 "cells": [
  {
   "cell_type": "code",
   "execution_count": null,
   "id": "3eb2beb0-bfef-4d06-9d32-f2093044661e",
   "metadata": {},
   "outputs": [],
   "source": [
    "!pip install -e ../."
   ]
  },
  {
   "cell_type": "code",
   "execution_count": null,
   "id": "4ff217e6",
   "metadata": {},
   "outputs": [],
   "source": [
    "%load_ext autoreload\n",
    "%autoreload 2"
   ]
  },
  {
   "cell_type": "code",
   "execution_count": null,
   "id": "f607fe28",
   "metadata": {},
   "outputs": [],
   "source": [
    "# This to make sure that the changes in the module are reloaded\n",
    "%reload_ext autoreload"
   ]
  },
  {
   "cell_type": "code",
   "execution_count": null,
   "id": "499acd3e-50e9-4161-92fe-abad69239380",
   "metadata": {
    "editable": true,
    "slideshow": {
     "slide_type": ""
    },
    "tags": []
   },
   "outputs": [],
   "source": [
    "# Platform configs\n",
    "url = \"http://localhost:4000\"\n",
    "project_id = \"66275be576d6f693152d4cb6\"\n",
    "\n",
    "project_setup = {\n",
    "    \"platform_url\":  url,\n",
    "    \"project_id\": project_id\n",
    "}"
   ]
  },
  {
   "cell_type": "code",
   "execution_count": null,
   "id": "1b573ef0-6786-45c3-bf87-6e66d016b224",
   "metadata": {},
   "outputs": [],
   "source": [
    "# checkpoint = \"mlabonne/Gemmalpaca-2B\"\n",
    "# \"meta-llama/Meta-Llama-3-8B\"\n",
    "device = \"cpu\"\n",
    "checkpoint = \"bigscience/bloomz-560m\"\n",
    "\n",
    "model_setup = {\n",
    "    \"checkpoint\": checkpoint,\n",
    "    \"model_type\": \"dec\",\n",
    "    \"embeddings\": \"transformer.word_embeddings\"\n",
    "}\n",
    "\n",
    "run_config = {\n",
    "    \"device\": device,\n",
    "    \"max_new_tokens\": 100,\n",
    "    # \"temperature\": 1, # Not\n",
    "    # e that if you add this, then you need to add \"do_sample\": True\n",
    "    # \"do_sample\": True\n",
    "}"
   ]
  },
  {
   "cell_type": "code",
   "execution_count": null,
   "id": "3efd1538-875a-44bd-98ae-c53d45779583",
   "metadata": {},
   "outputs": [],
   "source": [
    "import helmet"
   ]
  },
  {
   "cell_type": "code",
   "execution_count": null,
   "id": "52f82b8f-dc52-4b8e-8889-528e147d8ee0",
   "metadata": {},
   "outputs": [],
   "source": [
    "model = helmet.from_pretrained(project_setup=project_setup, model_setup=model_setup, run_config=run_config)"
   ]
  },
  {
   "cell_type": "code",
   "execution_count": null,
   "id": "cfe6b11c",
   "metadata": {},
   "outputs": [],
   "source": [
    "# !pip install huggingface_hub ipywidgets -q"
   ]
  },
  {
   "cell_type": "code",
   "execution_count": null,
   "id": "db6f8c01",
   "metadata": {
    "scrolled": true
   },
   "outputs": [],
   "source": [
    "# This might be needed to load the model\n",
    "# from huggingface_hub import login\n",
    "# login()"
   ]
  },
  {
   "cell_type": "code",
   "execution_count": null,
   "id": "dccafb0f-2b99-49a8-ab4f-d3f114240aba",
   "metadata": {},
   "outputs": [],
   "source": [
    "# !pip install datasets -q"
   ]
  },
  {
   "cell_type": "code",
   "execution_count": null,
   "id": "03978528-cc37-4483-bdb1-bcf191a685b1",
   "metadata": {},
   "outputs": [],
   "source": [
    "# from datasets import load_dataset\n",
    "\n",
    "# dataset = load_dataset(\"truthful_qa\", 'generation')"
   ]
  },
  {
   "cell_type": "code",
   "execution_count": null,
   "id": "abb728d1-a2c6-4a1a-9878-2f89c03e581e",
   "metadata": {},
   "outputs": [],
   "source": [
    "# dataset[\"validation\"][1]"
   ]
  },
  {
   "cell_type": "code",
   "execution_count": null,
   "id": "08a4eb94-f5e8-49bc-a899-68853bcc1c92",
   "metadata": {},
   "outputs": [],
   "source": [
    "# prompt = dataset[\"validation\"][1]\n",
    "# # print(prompt)\n",
    "# # prompt = prompt[\"question\"]"
   ]
  },
  {
   "cell_type": "code",
   "execution_count": null,
   "id": "fe15d278-2d50-4b8c-bd78-a9072d80e39f",
   "metadata": {
    "scrolled": true
   },
   "outputs": [],
   "source": [
    "predict_config = {\n",
    "    \"max_new_tokens\": 10,\n",
    "    \"generate_explanations\": False,\n",
    "}\n",
    "\n",
    "prompt = \"Translate to English: Je t'aime.\"\n",
    "\n",
    "result = model.predict(prompt, **predict_config)\n",
    "result"
   ]
  },
  {
   "cell_type": "code",
   "execution_count": null,
   "id": "910eef57-c95b-42c9-a6a4-54183f68cd00",
   "metadata": {},
   "outputs": [],
   "source": [
    "model.saliency_explainer(\"6627688bc9a6d6bd85c6d389\")"
   ]
  },
  {
   "cell_type": "code",
   "execution_count": null,
   "id": "d83c3aae-6560-48a0-9fda-380d2636138c",
   "metadata": {},
   "outputs": [],
   "source": [
    "model.contrastive_explainer(\"6627688bc9a6d6bd85c6d389\", \"You\")"
   ]
  }
 ],
 "metadata": {
  "kernelspec": {
   "display_name": "Python 3 (ipykernel)",
   "language": "python",
   "name": "python3"
  },
  "language_info": {
   "codemirror_mode": {
    "name": "ipython",
    "version": 3
   },
   "file_extension": ".py",
   "mimetype": "text/x-python",
   "name": "python",
   "nbconvert_exporter": "python",
   "pygments_lexer": "ipython3",
   "version": "3.11.3"
  }
 },
 "nbformat": 4,
 "nbformat_minor": 5
}
