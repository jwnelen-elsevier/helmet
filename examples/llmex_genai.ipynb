{
 "cells": [
  {
   "cell_type": "code",
   "execution_count": 1,
   "id": "3eb2beb0-bfef-4d06-9d32-f2093044661e",
   "metadata": {},
   "outputs": [
    {
     "name": "stdout",
     "output_type": "stream",
     "text": [
      "Looking in indexes: https://pypi.org/simple, https://pypi.org/simple\n",
      "Obtaining file:///Users/nelenj/Documents/projects/llmex\n",
      "  Installing build dependencies ... \u001b[?25ldone\n",
      "\u001b[?25h  Checking if build backend supports build_editable ... \u001b[?25ldone\n",
      "\u001b[?25h  Getting requirements to build editable ... \u001b[?25ldone\n",
      "\u001b[?25h  Preparing editable metadata (pyproject.toml) ... \u001b[?25ldone\n",
      "\u001b[?25hRequirement already satisfied: accelerate<0.26.0,>=0.25.0 in /Users/nelenj/Documents/projects/llmex/.venv/lib/python3.11/site-packages (from helmet==0.1.2) (0.25.0)\n",
      "Requirement already satisfied: bitsandbytes<0.43.0,>=0.42.0 in /Users/nelenj/Documents/projects/llmex/.venv/lib/python3.11/site-packages (from helmet==0.1.2) (0.42.0)\n",
      "Requirement already satisfied: bs4<0.0.2,>=0.0.1 in /Users/nelenj/Documents/projects/llmex/.venv/lib/python3.11/site-packages (from helmet==0.1.2) (0.0.1)\n",
      "Requirement already satisfied: captum<0.8.0,>=0.7.0 in /Users/nelenj/Documents/projects/llmex/.venv/lib/python3.11/site-packages (from helmet==0.1.2) (0.7.0)\n",
      "Requirement already satisfied: dacite<2.0.0,>=1.8.1 in /Users/nelenj/Documents/projects/llmex/.venv/lib/python3.11/site-packages (from helmet==0.1.2) (1.8.1)\n",
      "Requirement already satisfied: datasets<3.0.0,>=2.18.0 in /Users/nelenj/Documents/projects/llmex/.venv/lib/python3.11/site-packages (from helmet==0.1.2) (2.19.0)\n",
      "Requirement already satisfied: numpy<2.0.0,>=1.26.2 in /Users/nelenj/Documents/projects/llmex/.venv/lib/python3.11/site-packages (from helmet==0.1.2) (1.26.4)\n",
      "Requirement already satisfied: torch<3.0.0,>=2.1.1 in /Users/nelenj/Documents/projects/llmex/.venv/lib/python3.11/site-packages (from helmet==0.1.2) (2.2.2)\n",
      "Requirement already satisfied: transformers<5.0.0,>=4.35.2 in /Users/nelenj/Documents/projects/llmex/.venv/lib/python3.11/site-packages (from helmet==0.1.2) (4.40.0)\n",
      "Requirement already satisfied: trulens<0.14.0,>=0.13.4 in /Users/nelenj/Documents/projects/llmex/.venv/lib/python3.11/site-packages (from helmet==0.1.2) (0.13.4)\n",
      "Requirement already satisfied: packaging>=20.0 in /Users/nelenj/Documents/projects/llmex/.venv/lib/python3.11/site-packages (from accelerate<0.26.0,>=0.25.0->helmet==0.1.2) (24.0)\n",
      "Requirement already satisfied: psutil in /Users/nelenj/Documents/projects/llmex/.venv/lib/python3.11/site-packages (from accelerate<0.26.0,>=0.25.0->helmet==0.1.2) (5.9.8)\n",
      "Requirement already satisfied: pyyaml in /Users/nelenj/Documents/projects/llmex/.venv/lib/python3.11/site-packages (from accelerate<0.26.0,>=0.25.0->helmet==0.1.2) (6.0.1)\n",
      "Requirement already satisfied: huggingface-hub in /Users/nelenj/Documents/projects/llmex/.venv/lib/python3.11/site-packages (from accelerate<0.26.0,>=0.25.0->helmet==0.1.2) (0.22.2)\n",
      "Requirement already satisfied: safetensors>=0.3.1 in /Users/nelenj/Documents/projects/llmex/.venv/lib/python3.11/site-packages (from accelerate<0.26.0,>=0.25.0->helmet==0.1.2) (0.4.3)\n",
      "Requirement already satisfied: scipy in /Users/nelenj/Documents/projects/llmex/.venv/lib/python3.11/site-packages (from bitsandbytes<0.43.0,>=0.42.0->helmet==0.1.2) (1.13.0)\n",
      "Requirement already satisfied: beautifulsoup4 in /Users/nelenj/Documents/projects/llmex/.venv/lib/python3.11/site-packages (from bs4<0.0.2,>=0.0.1->helmet==0.1.2) (4.12.3)\n",
      "Requirement already satisfied: matplotlib in /Users/nelenj/Documents/projects/llmex/.venv/lib/python3.11/site-packages (from captum<0.8.0,>=0.7.0->helmet==0.1.2) (3.8.4)\n",
      "Requirement already satisfied: tqdm in /Users/nelenj/Documents/projects/llmex/.venv/lib/python3.11/site-packages (from captum<0.8.0,>=0.7.0->helmet==0.1.2) (4.66.2)\n",
      "Requirement already satisfied: filelock in /Users/nelenj/Documents/projects/llmex/.venv/lib/python3.11/site-packages (from datasets<3.0.0,>=2.18.0->helmet==0.1.2) (3.13.4)\n",
      "Requirement already satisfied: pyarrow>=12.0.0 in /Users/nelenj/Documents/projects/llmex/.venv/lib/python3.11/site-packages (from datasets<3.0.0,>=2.18.0->helmet==0.1.2) (16.0.0)\n",
      "Requirement already satisfied: pyarrow-hotfix in /Users/nelenj/Documents/projects/llmex/.venv/lib/python3.11/site-packages (from datasets<3.0.0,>=2.18.0->helmet==0.1.2) (0.6)\n",
      "Requirement already satisfied: dill<0.3.9,>=0.3.0 in /Users/nelenj/Documents/projects/llmex/.venv/lib/python3.11/site-packages (from datasets<3.0.0,>=2.18.0->helmet==0.1.2) (0.3.8)\n",
      "Requirement already satisfied: pandas in /Users/nelenj/Documents/projects/llmex/.venv/lib/python3.11/site-packages (from datasets<3.0.0,>=2.18.0->helmet==0.1.2) (2.2.2)\n",
      "Requirement already satisfied: requests>=2.19.0 in /Users/nelenj/Documents/projects/llmex/.venv/lib/python3.11/site-packages (from datasets<3.0.0,>=2.18.0->helmet==0.1.2) (2.31.0)\n",
      "Requirement already satisfied: xxhash in /Users/nelenj/Documents/projects/llmex/.venv/lib/python3.11/site-packages (from datasets<3.0.0,>=2.18.0->helmet==0.1.2) (3.4.1)\n",
      "Requirement already satisfied: multiprocess in /Users/nelenj/Documents/projects/llmex/.venv/lib/python3.11/site-packages (from datasets<3.0.0,>=2.18.0->helmet==0.1.2) (0.70.16)\n",
      "Requirement already satisfied: fsspec<=2024.3.1,>=2023.1.0 in /Users/nelenj/Documents/projects/llmex/.venv/lib/python3.11/site-packages (from fsspec[http]<=2024.3.1,>=2023.1.0->datasets<3.0.0,>=2.18.0->helmet==0.1.2) (2024.3.1)\n",
      "Requirement already satisfied: aiohttp in /Users/nelenj/Documents/projects/llmex/.venv/lib/python3.11/site-packages (from datasets<3.0.0,>=2.18.0->helmet==0.1.2) (3.9.5)\n",
      "Requirement already satisfied: typing-extensions>=4.8.0 in /Users/nelenj/Documents/projects/llmex/.venv/lib/python3.11/site-packages (from torch<3.0.0,>=2.1.1->helmet==0.1.2) (4.11.0)\n",
      "Requirement already satisfied: sympy in /Users/nelenj/Documents/projects/llmex/.venv/lib/python3.11/site-packages (from torch<3.0.0,>=2.1.1->helmet==0.1.2) (1.12)\n",
      "Requirement already satisfied: networkx in /Users/nelenj/Documents/projects/llmex/.venv/lib/python3.11/site-packages (from torch<3.0.0,>=2.1.1->helmet==0.1.2) (3.3)\n",
      "Requirement already satisfied: jinja2 in /Users/nelenj/Documents/projects/llmex/.venv/lib/python3.11/site-packages (from torch<3.0.0,>=2.1.1->helmet==0.1.2) (3.1.3)\n",
      "Requirement already satisfied: regex!=2019.12.17 in /Users/nelenj/Documents/projects/llmex/.venv/lib/python3.11/site-packages (from transformers<5.0.0,>=4.35.2->helmet==0.1.2) (2024.4.16)\n",
      "Requirement already satisfied: tokenizers<0.20,>=0.19 in /Users/nelenj/Documents/projects/llmex/.venv/lib/python3.11/site-packages (from transformers<5.0.0,>=4.35.2->helmet==0.1.2) (0.19.1)\n",
      "Requirement already satisfied: aiosignal>=1.1.2 in /Users/nelenj/Documents/projects/llmex/.venv/lib/python3.11/site-packages (from aiohttp->datasets<3.0.0,>=2.18.0->helmet==0.1.2) (1.3.1)\n",
      "Requirement already satisfied: attrs>=17.3.0 in /Users/nelenj/Documents/projects/llmex/.venv/lib/python3.11/site-packages (from aiohttp->datasets<3.0.0,>=2.18.0->helmet==0.1.2) (23.2.0)\n",
      "Requirement already satisfied: frozenlist>=1.1.1 in /Users/nelenj/Documents/projects/llmex/.venv/lib/python3.11/site-packages (from aiohttp->datasets<3.0.0,>=2.18.0->helmet==0.1.2) (1.4.1)\n",
      "Requirement already satisfied: multidict<7.0,>=4.5 in /Users/nelenj/Documents/projects/llmex/.venv/lib/python3.11/site-packages (from aiohttp->datasets<3.0.0,>=2.18.0->helmet==0.1.2) (6.0.5)\n",
      "Requirement already satisfied: yarl<2.0,>=1.0 in /Users/nelenj/Documents/projects/llmex/.venv/lib/python3.11/site-packages (from aiohttp->datasets<3.0.0,>=2.18.0->helmet==0.1.2) (1.9.4)\n",
      "Requirement already satisfied: charset-normalizer<4,>=2 in /Users/nelenj/Documents/projects/llmex/.venv/lib/python3.11/site-packages (from requests>=2.19.0->datasets<3.0.0,>=2.18.0->helmet==0.1.2) (3.3.2)\n",
      "Requirement already satisfied: idna<4,>=2.5 in /Users/nelenj/Documents/projects/llmex/.venv/lib/python3.11/site-packages (from requests>=2.19.0->datasets<3.0.0,>=2.18.0->helmet==0.1.2) (3.7)\n",
      "Requirement already satisfied: urllib3<3,>=1.21.1 in /Users/nelenj/Documents/projects/llmex/.venv/lib/python3.11/site-packages (from requests>=2.19.0->datasets<3.0.0,>=2.18.0->helmet==0.1.2) (2.2.1)\n",
      "Requirement already satisfied: certifi>=2017.4.17 in /Users/nelenj/Documents/projects/llmex/.venv/lib/python3.11/site-packages (from requests>=2.19.0->datasets<3.0.0,>=2.18.0->helmet==0.1.2) (2024.2.2)\n",
      "Requirement already satisfied: soupsieve>1.2 in /Users/nelenj/Documents/projects/llmex/.venv/lib/python3.11/site-packages (from beautifulsoup4->bs4<0.0.2,>=0.0.1->helmet==0.1.2) (2.5)\n",
      "Requirement already satisfied: MarkupSafe>=2.0 in /Users/nelenj/Documents/projects/llmex/.venv/lib/python3.11/site-packages (from jinja2->torch<3.0.0,>=2.1.1->helmet==0.1.2) (2.1.5)\n",
      "Requirement already satisfied: contourpy>=1.0.1 in /Users/nelenj/Documents/projects/llmex/.venv/lib/python3.11/site-packages (from matplotlib->captum<0.8.0,>=0.7.0->helmet==0.1.2) (1.2.1)\n",
      "Requirement already satisfied: cycler>=0.10 in /Users/nelenj/Documents/projects/llmex/.venv/lib/python3.11/site-packages (from matplotlib->captum<0.8.0,>=0.7.0->helmet==0.1.2) (0.12.1)\n",
      "Requirement already satisfied: fonttools>=4.22.0 in /Users/nelenj/Documents/projects/llmex/.venv/lib/python3.11/site-packages (from matplotlib->captum<0.8.0,>=0.7.0->helmet==0.1.2) (4.51.0)\n",
      "Requirement already satisfied: kiwisolver>=1.3.1 in /Users/nelenj/Documents/projects/llmex/.venv/lib/python3.11/site-packages (from matplotlib->captum<0.8.0,>=0.7.0->helmet==0.1.2) (1.4.5)\n",
      "Requirement already satisfied: pillow>=8 in /Users/nelenj/Documents/projects/llmex/.venv/lib/python3.11/site-packages (from matplotlib->captum<0.8.0,>=0.7.0->helmet==0.1.2) (10.3.0)\n",
      "Requirement already satisfied: pyparsing>=2.3.1 in /Users/nelenj/Documents/projects/llmex/.venv/lib/python3.11/site-packages (from matplotlib->captum<0.8.0,>=0.7.0->helmet==0.1.2) (3.1.2)\n",
      "Requirement already satisfied: python-dateutil>=2.7 in /Users/nelenj/Documents/projects/llmex/.venv/lib/python3.11/site-packages (from matplotlib->captum<0.8.0,>=0.7.0->helmet==0.1.2) (2.9.0.post0)\n",
      "Requirement already satisfied: pytz>=2020.1 in /Users/nelenj/Documents/projects/llmex/.venv/lib/python3.11/site-packages (from pandas->datasets<3.0.0,>=2.18.0->helmet==0.1.2) (2024.1)\n",
      "Requirement already satisfied: tzdata>=2022.7 in /Users/nelenj/Documents/projects/llmex/.venv/lib/python3.11/site-packages (from pandas->datasets<3.0.0,>=2.18.0->helmet==0.1.2) (2024.1)\n",
      "Requirement already satisfied: mpmath>=0.19 in /Users/nelenj/Documents/projects/llmex/.venv/lib/python3.11/site-packages (from sympy->torch<3.0.0,>=2.1.1->helmet==0.1.2) (1.3.0)\n",
      "Requirement already satisfied: six>=1.5 in /Users/nelenj/Documents/projects/llmex/.venv/lib/python3.11/site-packages (from python-dateutil>=2.7->matplotlib->captum<0.8.0,>=0.7.0->helmet==0.1.2) (1.16.0)\n",
      "Building wheels for collected packages: helmet\n",
      "  Building editable for helmet (pyproject.toml) ... \u001b[?25ldone\n",
      "\u001b[?25h  Created wheel for helmet: filename=helmet-0.1.2-py3-none-any.whl size=1747 sha256=c0b60f635fd34f044790856ba90f244682db1c11f3be0acd0dc31c7081136139\n",
      "  Stored in directory: /private/var/folders/f1/st6fs1q547zbfmzy6jr5b0km0000gp/T/pip-ephem-wheel-cache-9t000iqx/wheels/8f/ce/ec/788efcbd8ae032d4d5999926126a0fac8b4f2ad3adcf38c2ed\n",
      "Successfully built helmet\n",
      "Installing collected packages: helmet\n",
      "  Attempting uninstall: helmet\n",
      "    Found existing installation: helmet 0.1.2\n",
      "    Uninstalling helmet-0.1.2:\n",
      "      Successfully uninstalled helmet-0.1.2\n",
      "Successfully installed helmet-0.1.2\n"
     ]
    }
   ],
   "source": [
    "!pip install -e ../."
   ]
  },
  {
   "cell_type": "code",
   "execution_count": 2,
   "id": "4ff217e6",
   "metadata": {},
   "outputs": [],
   "source": [
    "%load_ext autoreload\n",
    "%autoreload 2"
   ]
  },
  {
   "cell_type": "code",
   "execution_count": 3,
   "id": "f607fe28",
   "metadata": {},
   "outputs": [],
   "source": [
    "# This to make sure that the changes in the module are reloaded\n",
    "%reload_ext autoreload"
   ]
  },
  {
   "cell_type": "code",
   "execution_count": 9,
   "id": "499acd3e-50e9-4161-92fe-abad69239380",
   "metadata": {
    "editable": true,
    "slideshow": {
     "slide_type": ""
    },
    "tags": []
   },
   "outputs": [],
   "source": [
    "# Platform configs\n",
    "url = \"https://api.jeroennelen.nl\"\n",
    "project_id = \"66277759e1eacb39208e10ed\"\n",
    "\n",
    "project_setup = {\n",
    "    \"platform_url\": url,\n",
    "    \"project_id\": project_id\n",
    "}"
   ]
  },
  {
   "cell_type": "code",
   "execution_count": 10,
   "id": "1b573ef0-6786-45c3-bf87-6e66d016b224",
   "metadata": {},
   "outputs": [],
   "source": [
    "# checkpoint = \"mlabonne/Gemmalpaca-2B\"\n",
    "# \"meta-llama/Meta-Llama-3-8B\"\n",
    "device = \"cpu\"\n",
    "checkpoint = \"bigscience/bloom-1b7\"\n",
    "\n",
    "model_setup = {\n",
    "    \"checkpoint\": checkpoint,\n",
    "    \"model_type\": \"dec\",\n",
    "    \"embeddings\": \"transformer.word_embeddings\"\n",
    "}\n",
    "\n",
    "run_config = {\n",
    "    \"device\": device,\n",
    "    \"max_new_tokens\": 100,\n",
    "    # \"temperature\": 1, # Not\n",
    "    # e that if you add this, then you need to add \"do_sample\": True\n",
    "    # \"do_sample\": True\n",
    "}"
   ]
  },
  {
   "cell_type": "code",
   "execution_count": 11,
   "id": "3efd1538-875a-44bd-98ae-c53d45779583",
   "metadata": {},
   "outputs": [],
   "source": [
    "import helmet"
   ]
  },
  {
   "cell_type": "code",
   "execution_count": 12,
   "id": "52f82b8f-dc52-4b8e-8889-528e147d8ee0",
   "metadata": {},
   "outputs": [
    {
     "name": "stdout",
     "output_type": "stream",
     "text": [
      "updates will be sent to https://api.jeroennelen.nl\n",
      "setting up model with config {'checkpoint': 'bigscience/bloom-1b7', 'model_type': 'dec', 'embeddings': 'transformer.word_embeddings'}\n",
      "model loaded\n"
     ]
    }
   ],
   "source": [
    "model = helmet.from_pretrained(project_setup=project_setup, model_setup=model_setup, run_config=run_config)"
   ]
  },
  {
   "cell_type": "code",
   "execution_count": null,
   "id": "cfe6b11c",
   "metadata": {},
   "outputs": [],
   "source": [
    "# !pip install huggingface_hub ipywidgets -q"
   ]
  },
  {
   "cell_type": "code",
   "execution_count": null,
   "id": "db6f8c01",
   "metadata": {
    "scrolled": true
   },
   "outputs": [],
   "source": [
    "# This might be needed to load the model\n",
    "# from huggingface_hub import login\n",
    "# login()"
   ]
  },
  {
   "cell_type": "code",
   "execution_count": 5,
   "id": "03978528-cc37-4483-bdb1-bcf191a685b1",
   "metadata": {},
   "outputs": [],
   "source": [
    "from datasets import load_dataset\n",
    "\n",
    "dataset = load_dataset(\"Helsinki-NLP/opus-100\", name=\"en-nl\", split='test[:10]')"
   ]
  },
  {
   "cell_type": "code",
   "execution_count": 6,
   "id": "abb728d1-a2c6-4a1a-9878-2f89c03e581e",
   "metadata": {},
   "outputs": [
    {
     "data": {
      "text/plain": [
       "{'translation': {'en': '- How long have I slept?',\n",
       "  'nl': 'Hoe lang heb ik geslapen?'}}"
      ]
     },
     "execution_count": 6,
     "metadata": {},
     "output_type": "execute_result"
    }
   ],
   "source": [
    "dataset[1]"
   ]
  },
  {
   "cell_type": "code",
   "execution_count": null,
   "id": "08a4eb94-f5e8-49bc-a899-68853bcc1c92",
   "metadata": {},
   "outputs": [],
   "source": [
    "# prompt = dataset[\"validation\"][1]\n",
    "# # print(prompt)\n",
    "# # prompt = prompt[\"question\"]"
   ]
  },
  {
   "cell_type": "code",
   "execution_count": 7,
   "id": "2fe233a0",
   "metadata": {},
   "outputs": [
    {
     "data": {
      "text/plain": [
       "'Translate English to Dutch: - How long have I slept?'"
      ]
     },
     "execution_count": 7,
     "metadata": {},
     "output_type": "execute_result"
    }
   ],
   "source": [
    "source_lang = \"en\"\n",
    "target_lang = \"nl\"\n",
    "prefix = \"Translate English to Dutch: \"\n",
    "\n",
    "def prompt_builder(sample):\n",
    "    return prefix + sample['translation'][source_lang]\n",
    "\n",
    "\n",
    "prompt = prompt_builder(dataset[1])\n",
    "prompt"
   ]
  },
  {
   "cell_type": "code",
   "execution_count": 13,
   "id": "fe15d278-2d50-4b8c-bd78-a9072d80e39f",
   "metadata": {
    "scrolled": true
   },
   "outputs": [
    {
     "name": "stdout",
     "output_type": "stream",
     "text": [
      "updated app, result:  {'acknowledged': True, 'insertedId': '6627781fe1eacb39208e10ee'}\n"
     ]
    },
    {
     "data": {
      "text/plain": [
       "' - How many hours have I slept? - How'"
      ]
     },
     "execution_count": 13,
     "metadata": {},
     "output_type": "execute_result"
    }
   ],
   "source": [
    "predict_config = {\n",
    "    \"max_new_tokens\": 10,\n",
    "    \"generate_explanations\": False,\n",
    "}\n",
    "\n",
    "# prompt = \"Translate English to Italian: I am a student.\"\n",
    "result = model.predict(prompt, **predict_config)\n",
    "result"
   ]
  },
  {
   "cell_type": "code",
   "execution_count": null,
   "id": "910eef57-c95b-42c9-a6a4-54183f68cd00",
   "metadata": {},
   "outputs": [],
   "source": [
    "model.saliency_explainer(\"662776cdc9a6d6bd85c6d398\")"
   ]
  }
 ],
 "metadata": {
  "kernelspec": {
   "display_name": "Python 3 (ipykernel)",
   "language": "python",
   "name": "python3"
  },
  "language_info": {
   "codemirror_mode": {
    "name": "ipython",
    "version": 3
   },
   "file_extension": ".py",
   "mimetype": "text/x-python",
   "name": "python",
   "nbconvert_exporter": "python",
   "pygments_lexer": "ipython3",
   "version": "3.11.3"
  }
 },
 "nbformat": 4,
 "nbformat_minor": 5
}
