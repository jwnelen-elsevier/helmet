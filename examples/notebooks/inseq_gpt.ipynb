{
 "cells": [
  {
   "cell_type": "code",
   "execution_count": 103,
   "metadata": {},
   "outputs": [
    {
     "name": "stderr",
     "output_type": "stream",
     "text": [
      "huggingface/tokenizers: The current process just got forked, after parallelism has already been used. Disabling parallelism to avoid deadlocks...\n",
      "To disable this warning, you can either:\n",
      "\t- Avoid using `tokenizers` before the fork if possible\n",
      "\t- Explicitly set the environment variable TOKENIZERS_PARALLELISM=(true | false)\n"
     ]
    },
    {
     "name": "stdout",
     "output_type": "stream",
     "text": [
      "Looking in indexes: https://pypi.org/simple, https://pypi.org/simple\n",
      "Requirement already satisfied: transformers in /Users/nelenj/miniconda3/envs/phoenix/lib/python3.9/site-packages (4.37.0)\n",
      "Requirement already satisfied: inseq in /Users/nelenj/miniconda3/envs/phoenix/lib/python3.9/site-packages (0.5.0)\n",
      "Requirement already satisfied: datasets in /Users/nelenj/miniconda3/envs/phoenix/lib/python3.9/site-packages (2.16.1)\n",
      "Requirement already satisfied: filelock in /Users/nelenj/miniconda3/envs/phoenix/lib/python3.9/site-packages (from transformers) (3.13.1)\n",
      "Requirement already satisfied: huggingface-hub<1.0,>=0.19.3 in /Users/nelenj/miniconda3/envs/phoenix/lib/python3.9/site-packages (from transformers) (0.20.3)\n",
      "Requirement already satisfied: numpy>=1.17 in /Users/nelenj/miniconda3/envs/phoenix/lib/python3.9/site-packages (from transformers) (1.26.3)\n",
      "Requirement already satisfied: packaging>=20.0 in /Users/nelenj/.local/lib/python3.9/site-packages (from transformers) (23.2)\n",
      "Requirement already satisfied: pyyaml>=5.1 in /Users/nelenj/miniconda3/envs/phoenix/lib/python3.9/site-packages (from transformers) (6.0.1)\n",
      "Requirement already satisfied: regex!=2019.12.17 in /Users/nelenj/miniconda3/envs/phoenix/lib/python3.9/site-packages (from transformers) (2023.12.25)\n",
      "Requirement already satisfied: requests in /Users/nelenj/miniconda3/envs/phoenix/lib/python3.9/site-packages (from transformers) (2.31.0)\n",
      "Requirement already satisfied: tokenizers<0.19,>=0.14 in /Users/nelenj/miniconda3/envs/phoenix/lib/python3.9/site-packages (from transformers) (0.15.1)\n",
      "Requirement already satisfied: safetensors>=0.3.1 in /Users/nelenj/miniconda3/envs/phoenix/lib/python3.9/site-packages (from transformers) (0.4.2)\n",
      "Requirement already satisfied: tqdm>=4.27 in /Users/nelenj/miniconda3/envs/phoenix/lib/python3.9/site-packages (from transformers) (4.66.1)\n",
      "Requirement already satisfied: captum>=0.6.0 in /Users/nelenj/miniconda3/envs/phoenix/lib/python3.9/site-packages (from inseq) (0.7.0)\n",
      "Requirement already satisfied: jaxtyping<0.3.0,>=0.2.23 in /Users/nelenj/miniconda3/envs/phoenix/lib/python3.9/site-packages (from inseq) (0.2.25)\n",
      "Requirement already satisfied: matplotlib>=3.5.3 in /Users/nelenj/miniconda3/envs/phoenix/lib/python3.9/site-packages (from inseq) (3.8.2)\n",
      "Requirement already satisfied: poethepoet>=0.13.1 in /Users/nelenj/miniconda3/envs/phoenix/lib/python3.9/site-packages (from inseq) (0.24.4)\n",
      "Requirement already satisfied: protobuf>=3.20.1 in /Users/nelenj/miniconda3/envs/phoenix/lib/python3.9/site-packages (from inseq) (4.25.1)\n",
      "Requirement already satisfied: rich>=10.13.0 in /Users/nelenj/miniconda3/envs/phoenix/lib/python3.9/site-packages (from inseq) (13.7.0)\n",
      "Requirement already satisfied: scipy>=1.8.1 in /Users/nelenj/miniconda3/envs/phoenix/lib/python3.9/site-packages (from inseq) (1.11.4)\n",
      "Requirement already satisfied: torch==2.0.0 in /Users/nelenj/miniconda3/envs/phoenix/lib/python3.9/site-packages (from inseq) (2.0.0)\n",
      "Requirement already satisfied: typeguard<=2.13.3 in /Users/nelenj/miniconda3/envs/phoenix/lib/python3.9/site-packages (from inseq) (2.13.3)\n",
      "Requirement already satisfied: typing-extensions in /Users/nelenj/.local/lib/python3.9/site-packages (from torch==2.0.0->inseq) (4.9.0)\n",
      "Requirement already satisfied: sympy in /Users/nelenj/miniconda3/envs/phoenix/lib/python3.9/site-packages (from torch==2.0.0->inseq) (1.12)\n",
      "Requirement already satisfied: networkx in /Users/nelenj/miniconda3/envs/phoenix/lib/python3.9/site-packages (from torch==2.0.0->inseq) (3.2.1)\n",
      "Requirement already satisfied: jinja2 in /Users/nelenj/miniconda3/envs/phoenix/lib/python3.9/site-packages (from torch==2.0.0->inseq) (3.1.2)\n",
      "Requirement already satisfied: pyarrow>=8.0.0 in /Users/nelenj/miniconda3/envs/phoenix/lib/python3.9/site-packages (from datasets) (14.0.2)\n",
      "Requirement already satisfied: pyarrow-hotfix in /Users/nelenj/miniconda3/envs/phoenix/lib/python3.9/site-packages (from datasets) (0.6)\n",
      "Requirement already satisfied: dill<0.3.8,>=0.3.0 in /Users/nelenj/miniconda3/envs/phoenix/lib/python3.9/site-packages (from datasets) (0.3.7)\n",
      "Requirement already satisfied: pandas in /Users/nelenj/miniconda3/envs/phoenix/lib/python3.9/site-packages (from datasets) (2.1.4)\n",
      "Requirement already satisfied: xxhash in /Users/nelenj/miniconda3/envs/phoenix/lib/python3.9/site-packages (from datasets) (3.4.1)\n",
      "Requirement already satisfied: multiprocess in /Users/nelenj/miniconda3/envs/phoenix/lib/python3.9/site-packages (from datasets) (0.70.15)\n",
      "Requirement already satisfied: fsspec<=2023.10.0,>=2023.1.0 in /Users/nelenj/miniconda3/envs/phoenix/lib/python3.9/site-packages (from fsspec[http]<=2023.10.0,>=2023.1.0->datasets) (2023.10.0)\n",
      "Requirement already satisfied: aiohttp in /Users/nelenj/miniconda3/envs/phoenix/lib/python3.9/site-packages (from datasets) (3.9.1)\n",
      "Requirement already satisfied: attrs>=17.3.0 in /Users/nelenj/miniconda3/envs/phoenix/lib/python3.9/site-packages (from aiohttp->datasets) (23.2.0)\n",
      "Requirement already satisfied: multidict<7.0,>=4.5 in /Users/nelenj/miniconda3/envs/phoenix/lib/python3.9/site-packages (from aiohttp->datasets) (6.0.4)\n",
      "Requirement already satisfied: yarl<2.0,>=1.0 in /Users/nelenj/miniconda3/envs/phoenix/lib/python3.9/site-packages (from aiohttp->datasets) (1.9.4)\n",
      "Requirement already satisfied: frozenlist>=1.1.1 in /Users/nelenj/miniconda3/envs/phoenix/lib/python3.9/site-packages (from aiohttp->datasets) (1.4.1)\n",
      "Requirement already satisfied: aiosignal>=1.1.2 in /Users/nelenj/miniconda3/envs/phoenix/lib/python3.9/site-packages (from aiohttp->datasets) (1.3.1)\n",
      "Requirement already satisfied: async-timeout<5.0,>=4.0 in /Users/nelenj/miniconda3/envs/phoenix/lib/python3.9/site-packages (from aiohttp->datasets) (4.0.3)\n",
      "Requirement already satisfied: contourpy>=1.0.1 in /Users/nelenj/miniconda3/envs/phoenix/lib/python3.9/site-packages (from matplotlib>=3.5.3->inseq) (1.2.0)\n",
      "Requirement already satisfied: cycler>=0.10 in /Users/nelenj/miniconda3/envs/phoenix/lib/python3.9/site-packages (from matplotlib>=3.5.3->inseq) (0.12.1)\n",
      "Requirement already satisfied: fonttools>=4.22.0 in /Users/nelenj/miniconda3/envs/phoenix/lib/python3.9/site-packages (from matplotlib>=3.5.3->inseq) (4.47.2)\n",
      "Requirement already satisfied: kiwisolver>=1.3.1 in /Users/nelenj/miniconda3/envs/phoenix/lib/python3.9/site-packages (from matplotlib>=3.5.3->inseq) (1.4.5)\n",
      "Requirement already satisfied: pillow>=8 in /Users/nelenj/miniconda3/envs/phoenix/lib/python3.9/site-packages (from matplotlib>=3.5.3->inseq) (10.2.0)\n",
      "Requirement already satisfied: pyparsing>=2.3.1 in /Users/nelenj/miniconda3/envs/phoenix/lib/python3.9/site-packages (from matplotlib>=3.5.3->inseq) (3.1.1)\n",
      "Requirement already satisfied: python-dateutil>=2.7 in /Users/nelenj/.local/lib/python3.9/site-packages (from matplotlib>=3.5.3->inseq) (2.8.2)\n",
      "Requirement already satisfied: importlib-resources>=3.2.0 in /Users/nelenj/miniconda3/envs/phoenix/lib/python3.9/site-packages (from matplotlib>=3.5.3->inseq) (6.1.1)\n",
      "Requirement already satisfied: pastel<0.3.0,>=0.2.1 in /Users/nelenj/miniconda3/envs/phoenix/lib/python3.9/site-packages (from poethepoet>=0.13.1->inseq) (0.2.1)\n",
      "Requirement already satisfied: tomli>=1.2.2 in /Users/nelenj/miniconda3/envs/phoenix/lib/python3.9/site-packages (from poethepoet>=0.13.1->inseq) (2.0.1)\n",
      "Requirement already satisfied: charset-normalizer<4,>=2 in /Users/nelenj/miniconda3/envs/phoenix/lib/python3.9/site-packages (from requests->transformers) (3.3.2)\n",
      "Requirement already satisfied: idna<4,>=2.5 in /Users/nelenj/miniconda3/envs/phoenix/lib/python3.9/site-packages (from requests->transformers) (3.6)\n",
      "Requirement already satisfied: urllib3<3,>=1.21.1 in /Users/nelenj/miniconda3/envs/phoenix/lib/python3.9/site-packages (from requests->transformers) (2.1.0)\n",
      "Requirement already satisfied: certifi>=2017.4.17 in /Users/nelenj/miniconda3/envs/phoenix/lib/python3.9/site-packages (from requests->transformers) (2023.11.17)\n",
      "Requirement already satisfied: markdown-it-py>=2.2.0 in /Users/nelenj/miniconda3/envs/phoenix/lib/python3.9/site-packages (from rich>=10.13.0->inseq) (3.0.0)\n",
      "Requirement already satisfied: pygments<3.0.0,>=2.13.0 in /Users/nelenj/.local/lib/python3.9/site-packages (from rich>=10.13.0->inseq) (2.17.2)\n",
      "Requirement already satisfied: accelerate>=0.21.0 in /Users/nelenj/miniconda3/envs/phoenix/lib/python3.9/site-packages (from transformers[sentencepiece,tokenizers,torch]>=4.22.0->inseq) (0.26.1)\n",
      "Requirement already satisfied: sentencepiece!=0.1.92,>=0.1.91 in /Users/nelenj/miniconda3/envs/phoenix/lib/python3.9/site-packages (from transformers[sentencepiece,tokenizers,torch]>=4.22.0->inseq) (0.1.99)\n",
      "Requirement already satisfied: pytz>=2020.1 in /Users/nelenj/miniconda3/envs/phoenix/lib/python3.9/site-packages (from pandas->datasets) (2023.3.post1)\n",
      "Requirement already satisfied: tzdata>=2022.1 in /Users/nelenj/miniconda3/envs/phoenix/lib/python3.9/site-packages (from pandas->datasets) (2023.4)\n",
      "Requirement already satisfied: psutil in /Users/nelenj/.local/lib/python3.9/site-packages (from accelerate>=0.21.0->transformers[sentencepiece,tokenizers,torch]>=4.22.0->inseq) (5.9.7)\n",
      "Requirement already satisfied: zipp>=3.1.0 in /Users/nelenj/.local/lib/python3.9/site-packages (from importlib-resources>=3.2.0->matplotlib>=3.5.3->inseq) (3.17.0)\n",
      "Requirement already satisfied: mdurl~=0.1 in /Users/nelenj/miniconda3/envs/phoenix/lib/python3.9/site-packages (from markdown-it-py>=2.2.0->rich>=10.13.0->inseq) (0.1.2)\n",
      "Requirement already satisfied: six>=1.5 in /Users/nelenj/.local/lib/python3.9/site-packages (from python-dateutil>=2.7->matplotlib>=3.5.3->inseq) (1.16.0)\n",
      "Requirement already satisfied: MarkupSafe>=2.0 in /Users/nelenj/miniconda3/envs/phoenix/lib/python3.9/site-packages (from jinja2->torch==2.0.0->inseq) (2.1.3)\n",
      "Requirement already satisfied: mpmath>=0.19 in /Users/nelenj/miniconda3/envs/phoenix/lib/python3.9/site-packages (from sympy->torch==2.0.0->inseq) (1.3.0)\n"
     ]
    }
   ],
   "source": [
    "!pip install transformers inseq datasets"
   ]
  },
  {
   "cell_type": "code",
   "execution_count": 104,
   "metadata": {},
   "outputs": [
    {
     "name": "stderr",
     "output_type": "stream",
     "text": [
      "The attention mask and the pad token id were not set. As a consequence, you may observe unexpected behavior. Please pass your input's `attention_mask` to obtain reliable results.\n",
      "Setting `pad_token_id` to `eos_token_id`:50256 for open-end generation.\n",
      "Unused arguments during attribution: {'n_steps': 500, 'internal_batch_size': 50}\n",
      "Attributing with saliency...: 100%|██████████| 12/12 [00:00<00:00,  9.54it/s]\n"
     ]
    }
   ],
   "source": [
    "import inseq\n",
    "\n",
    "model = inseq.load_model(\"gpt2\", \"saliency\")\n",
    "attributes = model.attribute(\n",
    "    \"Hello ladies and\",\n",
    "    generation_args={\"max_new_tokens\": 9},\n",
    "    n_steps=500,\n",
    "    internal_batch_size=50\n",
    ")"
   ]
  },
  {
   "cell_type": "code",
   "execution_count": 105,
   "metadata": {},
   "outputs": [
    {
     "data": {
      "text/html": [
       "<br/><b>0th instance:</b><br/>\n",
       "<html>\n",
       "<div id=\"infjostxrzhqfxnlwzvz_viz_container\">\n",
       "    <div id=\"infjostxrzhqfxnlwzvz_content\" style=\"padding:15px;border-style:solid;margin:5px;\">\n",
       "        <div id = \"infjostxrzhqfxnlwzvz_saliency_plot_container\" class=\"infjostxrzhqfxnlwzvz_viz_container\" style=\"display:block\">\n",
       "            \n",
       "<div id=\"pnrwvwcdaelnloqvkirr_saliency_plot\" class=\"pnrwvwcdaelnloqvkirr_viz_content\">\n",
       "    <div style=\"margin:5px;font-family:sans-serif;font-weight:bold;\">\n",
       "        <span style=\"font-size: 20px;\">Target Saliency Heatmap</span>\n",
       "        <br>\n",
       "        x: Generated tokens, y: Attributed tokens\n",
       "    </div>\n",
       "    \n",
       "<table border=\"1\" cellpadding=\"5\" cellspacing=\"5\"\n",
       "    style=\"overflow-x:scroll;display:block;\">\n",
       "    <tr><th></th>\n",
       "<th>Ġgentlemen</th><th>,</th><th>ĠI</th><th>Ġam</th><th>Ġa</th><th>Ġmember</th><th>Ġof</th><th>Ġthe</th><th>ĠBoard</th></tr><tr><th>Hello</th><th style=\"background:rgba(255.0, 13.0, 87.0, 0.5900970489205783)\">0.302</th><th style=\"background:rgba(255.0, 13.0, 87.0, 0.4560903149138443)\">0.234</th><th style=\"background:rgba(255.0, 13.0, 87.0, 0.3299663299663301)\">0.171</th><th style=\"background:rgba(255.0, 13.0, 87.0, 0.48762131115072294)\">0.249</th><th style=\"background:rgba(255.0, 13.0, 87.0, 0.20384234501881549)\">0.106</th><th style=\"background:rgba(255.0, 13.0, 87.0, 0.39302832244008706)\">0.199</th><th style=\"background:rgba(255.0, 13.0, 87.0, 0.2590215884333532)\">0.133</th><th style=\"background:rgba(255.0, 13.0, 87.0, 0.18019409784115661)\">0.092</th><th style=\"background:rgba(255.0, 13.0, 87.0, 0.306318082788671)\">0.156</th></tr><tr><th>Ġladies</th><th style=\"background:rgba(255.0, 13.0, 87.0, 1.0)\">0.509</th><th style=\"background:rgba(255.0, 13.0, 87.0, 0.5585660526836996)\">0.283</th><th style=\"background:rgba(255.0, 13.0, 87.0, 0.44820756585462457)\">0.227</th><th style=\"background:rgba(255.0, 13.0, 87.0, 0.5743315508021392)\">0.292</th><th style=\"background:rgba(255.0, 13.0, 87.0, 0.22749059219647458)\">0.119</th><th style=\"background:rgba(255.0, 13.0, 87.0, 0.4797385620915033)\">0.243</th><th style=\"background:rgba(255.0, 13.0, 87.0, 0.2747870865517925)\">0.141</th><th style=\"background:rgba(255.0, 13.0, 87.0, 0.18019409784115661)\">0.093</th><th style=\"background:rgba(255.0, 13.0, 87.0, 0.29843533372945136)\">0.151</th></tr><tr><th>Ġand</th><th style=\"background:rgba(255.0, 13.0, 87.0, 0.3693800752624282)\">0.189</th><th style=\"background:rgba(255.0, 13.0, 87.0, 0.4087938205585263)\">0.21</th><th style=\"background:rgba(255.0, 13.0, 87.0, 0.41667656961774624)\">0.213</th><th style=\"background:rgba(255.0, 13.0, 87.0, 0.16442859972271742)\">0.085</th><th style=\"background:rgba(255.0, 13.0, 87.0, 0.5033868092691621)\">0.255</th><th style=\"background:rgba(255.0, 13.0, 87.0, 0.15654585066349747)\">0.082</th><th style=\"background:rgba(255.0, 13.0, 87.0, 0.17231134878193693)\">0.09</th><th style=\"background:rgba(255.0, 13.0, 87.0, 0.36149732620320857)\">0.185</th><th style=\"background:rgba(255.0, 13.0, 87.0, 0.14078035254505847)\">0.075</th></tr><tr><th>Ġgentlemen</th><th style=\"background:rgba(0.0, 0.0, 0.0, 0.0)\"></th><th style=\"background:rgba(255.0, 13.0, 87.0, 0.5349178055060405)\">0.274</th><th style=\"background:rgba(255.0, 13.0, 87.0, 0.29055258467023165)\">0.148</th><th style=\"background:rgba(255.0, 13.0, 87.0, 0.3693800752624282)\">0.189</th><th style=\"background:rgba(255.0, 13.0, 87.0, 0.1880768469003763)\">0.099</th><th style=\"background:rgba(255.0, 13.0, 87.0, 0.3772628243216479)\">0.195</th><th style=\"background:rgba(255.0, 13.0, 87.0, 0.2117250940780353)\">0.109</th><th style=\"background:rgba(255.0, 13.0, 87.0, 0.18019409784115661)\">0.094</th><th style=\"background:rgba(255.0, 13.0, 87.0, 0.306318082788671)\">0.156</th></tr><tr><th>,</th><th style=\"background:rgba(0.0, 0.0, 0.0, 0.0)\"></th><th style=\"background:rgba(0.0, 0.0, 0.0, 0.0)\"></th><th style=\"background:rgba(255.0, 13.0, 87.0, 0.4718558130322837)\">0.24</th><th style=\"background:rgba(255.0, 13.0, 87.0, 0.14078035254505847)\">0.073</th><th style=\"background:rgba(255.0, 13.0, 87.0, 0.43244206773618543)\">0.223</th><th style=\"background:rgba(255.0, 13.0, 87.0, 0.10924935630817992)\">0.057</th><th style=\"background:rgba(255.0, 13.0, 87.0, 0.14078035254505847)\">0.072</th><th style=\"background:rgba(255.0, 13.0, 87.0, 0.29843533372945136)\">0.154</th><th style=\"background:rgba(255.0, 13.0, 87.0, 0.10136660724896006)\">0.054</th></tr><tr><th>ĠI</th><th style=\"background:rgba(0.0, 0.0, 0.0, 0.0)\"></th><th style=\"background:rgba(0.0, 0.0, 0.0, 0.0)\"></th><th style=\"background:rgba(0.0, 0.0, 0.0, 0.0)\"></th><th style=\"background:rgba(255.0, 13.0, 87.0, 0.219607843137255)\">0.112</th><th style=\"background:rgba(255.0, 13.0, 87.0, 0.15654585066349747)\">0.083</th><th style=\"background:rgba(255.0, 13.0, 87.0, 0.1171321053673995)\">0.061</th><th style=\"background:rgba(255.0, 13.0, 87.0, 0.1171321053673995)\">0.062</th><th style=\"background:rgba(255.0, 13.0, 87.0, 0.08560110913052081)\">0.046</th><th style=\"background:rgba(255.0, 13.0, 87.0, 0.10136660724896006)\">0.054</th></tr><tr><th>Ġam</th><th style=\"background:rgba(0.0, 0.0, 0.0, 0.0)\"></th><th style=\"background:rgba(0.0, 0.0, 0.0, 0.0)\"></th><th style=\"background:rgba(0.0, 0.0, 0.0, 0.0)\"></th><th style=\"background:rgba(0.0, 0.0, 0.0, 0.0)\"></th><th style=\"background:rgba(255.0, 13.0, 87.0, 0.219607843137255)\">0.115</th><th style=\"background:rgba(255.0, 13.0, 87.0, 0.15654585066349747)\">0.08</th><th style=\"background:rgba(255.0, 13.0, 87.0, 0.10136660724896006)\">0.053</th><th style=\"background:rgba(255.0, 13.0, 87.0, 0.06195286195286207)\">0.034</th><th style=\"background:rgba(255.0, 13.0, 87.0, 0.09348385818974037)\">0.05</th></tr><tr><th>Ġa</th><th style=\"background:rgba(0.0, 0.0, 0.0, 0.0)\"></th><th style=\"background:rgba(0.0, 0.0, 0.0, 0.0)\"></th><th style=\"background:rgba(0.0, 0.0, 0.0, 0.0)\"></th><th style=\"background:rgba(0.0, 0.0, 0.0, 0.0)\"></th><th style=\"background:rgba(0.0, 0.0, 0.0, 0.0)\"></th><th style=\"background:rgba(255.0, 13.0, 87.0, 0.16442859972271742)\">0.084</th><th style=\"background:rgba(255.0, 13.0, 87.0, 0.16442859972271742)\">0.085</th><th style=\"background:rgba(255.0, 13.0, 87.0, 0.2511388393741335)\">0.131</th><th style=\"background:rgba(255.0, 13.0, 87.0, 0.10136660724896006)\">0.052</th></tr><tr><th>Ġmember</th><th style=\"background:rgba(0.0, 0.0, 0.0, 0.0)\"></th><th style=\"background:rgba(0.0, 0.0, 0.0, 0.0)\"></th><th style=\"background:rgba(0.0, 0.0, 0.0, 0.0)\"></th><th style=\"background:rgba(0.0, 0.0, 0.0, 0.0)\"></th><th style=\"background:rgba(0.0, 0.0, 0.0, 0.0)\"></th><th style=\"background:rgba(0.0, 0.0, 0.0, 0.0)\"></th><th style=\"background:rgba(255.0, 13.0, 87.0, 0.49550406020994264)\">0.254</th><th style=\"background:rgba(255.0, 13.0, 87.0, 0.17231134878193693)\">0.09</th><th style=\"background:rgba(255.0, 13.0, 87.0, 0.33784907902554967)\">0.172</th></tr><tr><th>Ġof</th><th style=\"background:rgba(0.0, 0.0, 0.0, 0.0)\"></th><th style=\"background:rgba(0.0, 0.0, 0.0, 0.0)\"></th><th style=\"background:rgba(0.0, 0.0, 0.0, 0.0)\"></th><th style=\"background:rgba(0.0, 0.0, 0.0, 0.0)\"></th><th style=\"background:rgba(0.0, 0.0, 0.0, 0.0)\"></th><th style=\"background:rgba(0.0, 0.0, 0.0, 0.0)\"></th><th style=\"background:rgba(0.0, 0.0, 0.0, 0.0)\"></th><th style=\"background:rgba(255.0, 13.0, 87.0, 0.15654585066349747)\">0.081</th><th style=\"background:rgba(255.0, 13.0, 87.0, 0.05407011289364243)\">0.029</th></tr><tr><th>Ġthe</th><th style=\"background:rgba(0.0, 0.0, 0.0, 0.0)\"></th><th style=\"background:rgba(0.0, 0.0, 0.0, 0.0)\"></th><th style=\"background:rgba(0.0, 0.0, 0.0, 0.0)\"></th><th style=\"background:rgba(0.0, 0.0, 0.0, 0.0)\"></th><th style=\"background:rgba(0.0, 0.0, 0.0, 0.0)\"></th><th style=\"background:rgba(0.0, 0.0, 0.0, 0.0)\"></th><th style=\"background:rgba(0.0, 0.0, 0.0, 0.0)\"></th><th style=\"background:rgba(0.0, 0.0, 0.0, 0.0)\"></th><th style=\"background:rgba(255.0, 13.0, 87.0, 0.09348385818974037)\">0.049</th></tr><tr><th>ĠBoard</th><th style=\"background:rgba(0.0, 0.0, 0.0, 0.0)\"></th><th style=\"background:rgba(0.0, 0.0, 0.0, 0.0)\"></th><th style=\"background:rgba(0.0, 0.0, 0.0, 0.0)\"></th><th style=\"background:rgba(0.0, 0.0, 0.0, 0.0)\"></th><th style=\"background:rgba(0.0, 0.0, 0.0, 0.0)\"></th><th style=\"background:rgba(0.0, 0.0, 0.0, 0.0)\"></th><th style=\"background:rgba(0.0, 0.0, 0.0, 0.0)\"></th><th style=\"background:rgba(0.0, 0.0, 0.0, 0.0)\"></th><th style=\"background:rgba(0.0, 0.0, 0.0, 0.0)\"></th></tr></table>\n",
       "</div>\n",
       "\n",
       "        </div>\n",
       "    </div>\n",
       "</div>\n",
       "</html>\n"
      ],
      "text/plain": [
       "<IPython.core.display.HTML object>"
      ]
     },
     "metadata": {},
     "output_type": "display_data"
    }
   ],
   "source": [
    "attributes.show()"
   ]
  },
  {
   "cell_type": "code",
   "execution_count": 106,
   "metadata": {},
   "outputs": [
    {
     "data": {
      "text/plain": [
       "torch.Size([12, 9, 768])"
      ]
     },
     "execution_count": 106,
     "metadata": {},
     "output_type": "execute_result"
    }
   ],
   "source": [
    "attributes.sequence_attributions[0].target_attributions.shape"
   ]
  },
  {
   "cell_type": "code",
   "execution_count": 109,
   "metadata": {},
   "outputs": [],
   "source": [
    "targets = attributes.sequence_attributions[0]"
   ]
  },
  {
   "cell_type": "code",
   "execution_count": 110,
   "metadata": {},
   "outputs": [],
   "source": [
    "l = targets.aggregate().target_attributions.detach().numpy()"
   ]
  },
  {
   "cell_type": "code",
   "execution_count": 111,
   "metadata": {},
   "outputs": [
    {
     "data": {
      "text/plain": [
       "array([[0.30167693, 0.23359624, 0.17100681, 0.24863277, 0.10623145,\n",
       "        0.19914265, 0.13328516, 0.0917097 , 0.15601338],\n",
       "       [0.50914472, 0.28263789, 0.2268443 , 0.29196757, 0.11906777,\n",
       "        0.2434777 , 0.14066824, 0.09301255, 0.15149476],\n",
       "       [0.18917838, 0.20988022, 0.2132668 , 0.08470584, 0.25459957,\n",
       "        0.0818764 , 0.09034701, 0.1851784 , 0.07463957],\n",
       "       [0.        , 0.27388567, 0.14846985, 0.18934165, 0.09887534,\n",
       "        0.19452916, 0.10891982, 0.09395655, 0.1564939 ],\n",
       "       [0.        , 0.        , 0.24041225, 0.07292711, 0.22272021,\n",
       "        0.05652193, 0.0717023 , 0.15405983, 0.05403432],\n",
       "       [0.        , 0.        , 0.        , 0.11242503, 0.08330294,\n",
       "        0.06119951, 0.06225747, 0.04638188, 0.0535332 ],\n",
       "       [0.        , 0.        , 0.        , 0.        , 0.11520271,\n",
       "        0.07956768, 0.05323697, 0.03384377, 0.05034051],\n",
       "       [0.        , 0.        , 0.        , 0.        , 0.        ,\n",
       "        0.08368495, 0.08525425, 0.13059467, 0.05248461],\n",
       "       [0.        , 0.        , 0.        , 0.        , 0.        ,\n",
       "        0.        , 0.25432876, 0.09016391, 0.17241491],\n",
       "       [0.        , 0.        , 0.        , 0.        , 0.        ,\n",
       "        0.        , 0.        , 0.08109881, 0.02917651],\n",
       "       [0.        , 0.        , 0.        , 0.        , 0.        ,\n",
       "        0.        , 0.        , 0.        , 0.04937442],\n",
       "       [0.        , 0.        , 0.        , 0.        , 0.        ,\n",
       "        0.        , 0.        , 0.        , 0.        ]])"
      ]
     },
     "execution_count": 111,
     "metadata": {},
     "output_type": "execute_result"
    }
   ],
   "source": [
    "import numpy\n",
    "q = numpy.nan_to_num(l.astype(float))\n",
    "q"
   ]
  },
  {
   "cell_type": "code",
   "execution_count": 113,
   "metadata": {},
   "outputs": [],
   "source": [
    "import requests\n",
    "\n",
    "url = \"http://localhost:4000\"\n",
    "\n",
    "import numpy\n",
    "import json\n",
    "\n",
    "\n",
    "dump = {\n",
    "    \"model\": \"name\",\n",
    "    \"text\": \"Hello ladies and\",\n",
    "    \"attributes\": q\n",
    "}"
   ]
  },
  {
   "cell_type": "code",
   "execution_count": 114,
   "metadata": {},
   "outputs": [],
   "source": [
    "class NumpyEncoder(json.JSONEncoder):\n",
    "    \"\"\" Special json encoder for numpy types \"\"\"\n",
    "    def default(self, obj):\n",
    "        if isinstance(obj, (numpy.int_, numpy.intc, numpy.intp, numpy.int8,\n",
    "            numpy.int16, numpy.int32, numpy.int64, numpy.uint8,\n",
    "            numpy.uint16,numpy.uint32, numpy.uint64)):\n",
    "            return int(obj)\n",
    "        elif isinstance(obj, (numpy.float_, numpy.float16, numpy.float32, \n",
    "            numpy.float64)):\n",
    "            return float(obj)\n",
    "        elif isinstance(obj,(numpy.ndarray,)): #### This is the fix\n",
    "            return obj.tolist()\n",
    "        return json.JSONEncoder.default(self, obj)\n",
    "    \n",
    "dump =  json.dumps(dump, cls=NumpyEncoder)"
   ]
  },
  {
   "cell_type": "code",
   "execution_count": 115,
   "metadata": {},
   "outputs": [],
   "source": [
    "def send_body(body):\n",
    "    # posting it to the xai-platform\n",
    "    u = f\"{url}/runs\"\n",
    "    requests.post(u, data= body, headers={'Content-Type': 'application/json'})\n",
    "\n",
    "send_body(dump)"
   ]
  }
 ],
 "metadata": {
  "kernelspec": {
   "display_name": "phoenix",
   "language": "python",
   "name": "phoenix"
  },
  "language_info": {
   "codemirror_mode": {
    "name": "ipython",
    "version": 3
   },
   "file_extension": ".py",
   "mimetype": "text/x-python",
   "name": "python",
   "nbconvert_exporter": "python",
   "pygments_lexer": "ipython3",
   "version": "3.9.18"
  }
 },
 "nbformat": 4,
 "nbformat_minor": 2
}
